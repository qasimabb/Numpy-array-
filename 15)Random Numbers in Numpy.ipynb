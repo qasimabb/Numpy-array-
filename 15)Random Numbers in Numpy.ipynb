{
 "cells": [
  {
   "cell_type": "markdown",
   "id": "cd626f29",
   "metadata": {},
   "source": [
    "# Random Number in Numpy"
   ]
  },
  {
   "cell_type": "code",
   "execution_count": 22,
   "id": "d9f4c619",
   "metadata": {},
   "outputs": [],
   "source": [
    "#random number mean something which  cannot predict logically on behalf of logic this number is produce there are two\n",
    "#types of random no,1 = pseudo and another is True random\"\"\"\"\"\"\n"
   ]
  },
  {
   "cell_type": "code",
   "execution_count": 23,
   "id": "e6945d28",
   "metadata": {},
   "outputs": [],
   "source": [
    "# Computer work on program and program is set of instruction and this instruction work on machines\n",
    "# program written on basis of different algorithm\n",
    "# program to generate a random number so there is algorithm behind that so there must be prediction\n",
    "# algorithm=sequence of step=no of steps\n",
    "# random number is predicted so why we called it as a random number \n",
    "# obviously random no made of a generator algorithms which is called as a pseudo random randomness\n",
    "# Can we make truely random numbers\n",
    "# yes in order to generate True random no we need to get some random data and it is collected by outer sources like mouse \n",
    "# moment,keystrokes etc\n",
    "#randomness need in security"
   ]
  },
  {
   "cell_type": "markdown",
   "id": "2ae4fb2b",
   "metadata": {},
   "source": [
    "# Generate Random Number"
   ]
  },
  {
   "cell_type": "code",
   "execution_count": 24,
   "id": "a3ee4c84",
   "metadata": {},
   "outputs": [],
   "source": [
    "# Generate a random integer from 0 to 100"
   ]
  },
  {
   "cell_type": "code",
   "execution_count": 25,
   "id": "eaface6f",
   "metadata": {},
   "outputs": [
    {
     "name": "stdout",
     "output_type": "stream",
     "text": [
      "10\n"
     ]
    }
   ],
   "source": [
    "import numpy as np\n",
    "from numpy import random # we are importing a module from numpy package\n",
    "x=random.randint(100) # from 0 to 100ick any random int\n",
    "print(x) # we will get different number at every new time"
   ]
  },
  {
   "cell_type": "markdown",
   "id": "23cbdb3e",
   "metadata": {},
   "source": [
    "#  Generate Random Float"
   ]
  },
  {
   "cell_type": "code",
   "execution_count": 26,
   "id": "e2084d84",
   "metadata": {},
   "outputs": [
    {
     "name": "stdout",
     "output_type": "stream",
     "text": [
      "0.6237355350484476\n"
     ]
    }
   ],
   "source": [
    "# Generate a random float from 0 to 100\n",
    "import numpy as numpy\n",
    "from numpy import random\n",
    "x=random.rand() # it will print any float between 0 to 1\n",
    "print(x)\n"
   ]
  },
  {
   "cell_type": "markdown",
   "id": "24178169",
   "metadata": {},
   "source": [
    "# Generate Random Arrays"
   ]
  },
  {
   "cell_type": "code",
   "execution_count": 27,
   "id": "06da8564",
   "metadata": {},
   "outputs": [],
   "source": [
    "# Two methods\n",
    "# integer :The randint() method takes a size \"parameter\" where we can specify shape of an array\n",
    "# Float : The rand( )method also allows you to specify shape of the array"
   ]
  },
  {
   "cell_type": "markdown",
   "id": "ae173fb4",
   "metadata": {},
   "source": [
    "# For Integers"
   ]
  },
  {
   "cell_type": "code",
   "execution_count": 28,
   "id": "61a68115",
   "metadata": {},
   "outputs": [],
   "source": [
    "# Generate 1D array with 5 different elements all time"
   ]
  },
  {
   "cell_type": "code",
   "execution_count": 29,
   "id": "02b0a6f9",
   "metadata": {},
   "outputs": [
    {
     "name": "stdout",
     "output_type": "stream",
     "text": [
      "[69 48 69 40 62]\n"
     ]
    }
   ],
   "source": [
    "import numpy as np\n",
    "from numpy import random \n",
    "x= random.randint(100,size=(5)) # from 0 to 100 we need to pick a random number and size=5 which mean we need to create \n",
    "                                # 1-D array with 5 elements\n",
    "print(x) # it will print 1D array with 5 different element all times"
   ]
  },
  {
   "cell_type": "code",
   "execution_count": 30,
   "id": "59ddd811",
   "metadata": {},
   "outputs": [],
   "source": [
    "#Generate a 2D array with 3 rows ,each row containing 5 random integer from 0 to 100"
   ]
  },
  {
   "cell_type": "code",
   "execution_count": 31,
   "id": "e0da3013",
   "metadata": {},
   "outputs": [
    {
     "name": "stdout",
     "output_type": "stream",
     "text": [
      "[[45  1 39 46 28]\n",
      " [17 23 13 84  7]\n",
      " [10 67 47 91 11]]\n"
     ]
    }
   ],
   "source": [
    "import numpy as np\n",
    "from numpy import random \n",
    "x= random.randint(100,size=(3,5)) # from 0 to 100 we need to pick a random number and size=5 which mean we need to create \n",
    "                                # 2-D array with 5 elements and 3 rows\n",
    "print(x) # it will print 2D array with 3 rows and each row contain 5 different random number"
   ]
  },
  {
   "cell_type": "markdown",
   "id": "24ba62a2",
   "metadata": {},
   "source": [
    "# For Floats"
   ]
  },
  {
   "cell_type": "code",
   "execution_count": 32,
   "id": "fe18f3d3",
   "metadata": {},
   "outputs": [],
   "source": [
    "# Float : The rand( )method also allows you to specify shape of the array"
   ]
  },
  {
   "cell_type": "code",
   "execution_count": 33,
   "id": "ba5431a9",
   "metadata": {},
   "outputs": [
    {
     "name": "stdout",
     "output_type": "stream",
     "text": [
      "[0.6564726  0.71478834 0.1053716  0.58311662 0.27137629]\n"
     ]
    }
   ],
   "source": [
    "# Generate a 1D array containing 5 random floats\n",
    "import numpy as np\n",
    "from numpy import random \n",
    "x= random.rand(5) # from 0 to 1 we need to pick a random  float number and size=5 which mean we need to create \n",
    "                                # 1-D array with 5 elements\n",
    "print(x)"
   ]
  },
  {
   "cell_type": "code",
   "execution_count": 34,
   "id": "ca55ca42",
   "metadata": {
    "scrolled": true
   },
   "outputs": [
    {
     "name": "stdout",
     "output_type": "stream",
     "text": [
      "[[0.18603576 0.62552128 0.4579632  0.34949712 0.63244396]\n",
      " [0.98160467 0.56100226 0.56796485 0.65003334 0.57060785]\n",
      " [0.07845281 0.79988839 0.33302941 0.40674362 0.4058854 ]]\n"
     ]
    }
   ],
   "source": [
    "# Generate a 2D array with 3 rows , each row containing 5 random numbers\n",
    "import numpy as np\n",
    "from numpy import random \n",
    "x= random.rand(3,5) # from 0 to 1 we need to pick a random number and size=5 which mean we need to create \n",
    "                                # 2-D array with 5 elements and 3 rows\n",
    "print(x) # (3,5) three rows and 5 different float no in each row will print"
   ]
  },
  {
   "cell_type": "markdown",
   "id": "f3230ae1",
   "metadata": {},
   "source": [
    "# Generate Random number from an Array"
   ]
  },
  {
   "cell_type": "code",
   "execution_count": 35,
   "id": "bb3b76d0",
   "metadata": {},
   "outputs": [],
   "source": [
    "# we have Random array and we need to generate random number from given array\n",
    "# There is a method choice() which allows to generate a random value based upon an array\n",
    "#Choice() method take an array as a parameter and randomly return one of the value present in an array"
   ]
  },
  {
   "cell_type": "code",
   "execution_count": 36,
   "id": "384bd2ae",
   "metadata": {},
   "outputs": [
    {
     "name": "stdout",
     "output_type": "stream",
     "text": [
      "5\n"
     ]
    }
   ],
   "source": [
    "# Return one of the values in an array\n",
    "import numpy as np\n",
    "from numpy import random\n",
    "x= random.choice([3,5,7,9]) # !D array as parameter \n",
    "print(x) # out of 4 element it will print any one randomly"
   ]
  },
  {
   "cell_type": "code",
   "execution_count": 37,
   "id": "e30d3633",
   "metadata": {},
   "outputs": [
    {
     "name": "stdout",
     "output_type": "stream",
     "text": [
      "[[3 7 3 3 3]\n",
      " [3 7 3 5 3]\n",
      " [5 7 3 5 9]]\n"
     ]
    }
   ],
   "source": [
    "# The choice( method allows you to return an array of values . Add a size parameter to specify the shape of the array\n",
    "import numpy as np\n",
    "from numpy import random\n",
    "x= random.choice([3,5,7,9],size=(3,5)) # 1D array as parameter our task to make 2D array with 3 rows and 5 \n",
    "                                       # element in each row those element come from given 1D array  \n",
    "print(x) # it will print all time random number from 1D array\n"
   ]
  },
  {
   "cell_type": "code",
   "execution_count": null,
   "id": "f785bfaa",
   "metadata": {},
   "outputs": [],
   "source": []
  },
  {
   "cell_type": "code",
   "execution_count": null,
   "id": "f6c273ad",
   "metadata": {},
   "outputs": [],
   "source": []
  },
  {
   "cell_type": "code",
   "execution_count": null,
   "id": "5dcc0127",
   "metadata": {},
   "outputs": [],
   "source": []
  },
  {
   "cell_type": "code",
   "execution_count": null,
   "id": "548b3a6a",
   "metadata": {},
   "outputs": [],
   "source": []
  },
  {
   "cell_type": "code",
   "execution_count": null,
   "id": "1aae4d31",
   "metadata": {},
   "outputs": [],
   "source": []
  },
  {
   "cell_type": "code",
   "execution_count": null,
   "id": "93e4a597",
   "metadata": {},
   "outputs": [],
   "source": []
  },
  {
   "cell_type": "code",
   "execution_count": null,
   "id": "202f9aa6",
   "metadata": {},
   "outputs": [],
   "source": []
  },
  {
   "cell_type": "code",
   "execution_count": null,
   "id": "4a8589b0",
   "metadata": {},
   "outputs": [],
   "source": []
  },
  {
   "cell_type": "code",
   "execution_count": null,
   "id": "25e06898",
   "metadata": {},
   "outputs": [],
   "source": []
  },
  {
   "cell_type": "code",
   "execution_count": null,
   "id": "2148c917",
   "metadata": {},
   "outputs": [],
   "source": []
  },
  {
   "cell_type": "code",
   "execution_count": null,
   "id": "8b76a68d",
   "metadata": {},
   "outputs": [],
   "source": []
  },
  {
   "cell_type": "code",
   "execution_count": null,
   "id": "7b0ceece",
   "metadata": {},
   "outputs": [],
   "source": []
  },
  {
   "cell_type": "code",
   "execution_count": null,
   "id": "bc1c3705",
   "metadata": {},
   "outputs": [],
   "source": []
  },
  {
   "cell_type": "code",
   "execution_count": null,
   "id": "67c81fc2",
   "metadata": {},
   "outputs": [],
   "source": []
  },
  {
   "cell_type": "code",
   "execution_count": null,
   "id": "bf874696",
   "metadata": {},
   "outputs": [],
   "source": []
  },
  {
   "cell_type": "code",
   "execution_count": null,
   "id": "8382cfd4",
   "metadata": {},
   "outputs": [],
   "source": []
  }
 ],
 "metadata": {
  "kernelspec": {
   "display_name": "Python 3 (ipykernel)",
   "language": "python",
   "name": "python3"
  },
  "language_info": {
   "codemirror_mode": {
    "name": "ipython",
    "version": 3
   },
   "file_extension": ".py",
   "mimetype": "text/x-python",
   "name": "python",
   "nbconvert_exporter": "python",
   "pygments_lexer": "ipython3",
   "version": "3.7.0"
  }
 },
 "nbformat": 4,
 "nbformat_minor": 5
}
