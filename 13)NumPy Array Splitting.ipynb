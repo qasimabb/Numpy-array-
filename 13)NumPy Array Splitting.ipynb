{
 "cells": [
  {
   "cell_type": "markdown",
   "id": "18b564d5",
   "metadata": {},
   "source": [
    "# NumPy Array Splitting"
   ]
  },
  {
   "cell_type": "code",
   "execution_count": 4,
   "id": "4285306d",
   "metadata": {},
   "outputs": [],
   "source": [
    "# reverse operation of joining Numpy arrays(multiple arrays into one array)\n",
    "# splitting array(We will break one array into multipke array)\n",
    "#use array_split() function for it\n",
    "#we pass it the array we want to split and the number of splits\n",
    "# self adjustment can divide according to the requirements"
   ]
  },
  {
   "cell_type": "code",
   "execution_count": 5,
   "id": "aa44f714",
   "metadata": {},
   "outputs": [
    {
     "name": "stdout",
     "output_type": "stream",
     "text": [
      "The original array is:\n",
      "[1 2 3 4 5 6]\n",
      "The splitted array is:\n",
      "[array([1, 2]), array([3, 4]), array([5, 6])]\n"
     ]
    }
   ],
   "source": [
    "# Split it the array into 3 parts\n",
    "import numpy as np\n",
    "arr=np.array([1,2,3,4,5,6]) # 1D array\n",
    "print(\"The original array is:\")\n",
    "print(arr)\n",
    "newarr=np.array_split(arr,3) # arr is argument , 3 represent how much you want to devide arr\n",
    "print(\"The splitted array is:\")\n",
    "print(newarr)"
   ]
  },
  {
   "cell_type": "code",
   "execution_count": 6,
   "id": "ee5fdb3d",
   "metadata": {},
   "outputs": [
    {
     "name": "stdout",
     "output_type": "stream",
     "text": [
      "The original array is:\n",
      "[1 2 3 4 5 6]\n",
      "The splitted array is:\n",
      "[array([1, 2]), array([3, 4]), array([5]), array([6])]\n"
     ]
    }
   ],
   "source": [
    "import numpy as np\n",
    "arr=np.array([1,2,3,4,5,6]) # 1D array\n",
    "print(\"The original array is:\")\n",
    "print(arr)\n",
    "newarr=np.array_split(arr,4) # arr is argument , 4 represent how much you want to devide arr\n",
    "print(\"The splitted array is:\")\n",
    "print(newarr)"
   ]
  },
  {
   "cell_type": "code",
   "execution_count": 7,
   "id": "eb416761",
   "metadata": {},
   "outputs": [],
   "source": [
    "# we also have the method split() available but it will not adjust the elements when elements are less in source array \n",
    "#for splitting like in example above,array_split( )worked properly but split() would fail "
   ]
  },
  {
   "cell_type": "markdown",
   "id": "76de1107",
   "metadata": {},
   "source": [
    "# Split into Arrays some more examples"
   ]
  },
  {
   "cell_type": "code",
   "execution_count": 8,
   "id": "34f94aa8",
   "metadata": {},
   "outputs": [],
   "source": [
    "# if we split an arrat into 3 ways we can access them from result just like any array element"
   ]
  },
  {
   "cell_type": "code",
   "execution_count": 10,
   "id": "8b385ac7",
   "metadata": {},
   "outputs": [
    {
     "name": "stdout",
     "output_type": "stream",
     "text": [
      "[1 2]\n",
      "[3 4]\n",
      "[5 6]\n"
     ]
    }
   ],
   "source": [
    "# Access the splitted array ;\n",
    "import numpy as np\n",
    "arr=np.array([1,2,3,4,5,6]) # 1D array\n",
    "#print(\"The original array is:\")\n",
    "#print(arr)\n",
    "newarr=np.array_split(arr,3) # arr is argument , 3 represent how much you want to devide arr\n",
    "#print(\"The splitted array is:\")\n",
    "#print(newarr)\n",
    "print(newarr[0]) #print indexing of splitting array in new arr\n",
    "\n",
    "print(newarr[1])#print indexing of splitting array in new arr\n",
    "\n",
    "print(newarr[2])#print indexing of splitting array in new arr"
   ]
  },
  {
   "cell_type": "code",
   "execution_count": 13,
   "id": "7c75a410",
   "metadata": {},
   "outputs": [
    {
     "name": "stdout",
     "output_type": "stream",
     "text": [
      "The splitted array is:\n",
      "[array([[1, 2],\n",
      "       [3, 4]]), array([[5, 6],\n",
      "       [7, 8]]), array([[ 9, 10],\n",
      "       [11, 12]])]\n"
     ]
    }
   ],
   "source": [
    "# Same for 2D array array_split()\n",
    "import numpy as np\n",
    "arr=np.array([[1,2],[3,4],[5,6],[7,8],[9,10],[11,12]]) # 2D array,6 list array present we need 3 parts\n",
    "newarr=np.array_split(arr,3) # arr is argument , 4 represent how much you want to devide arr\n",
    "print(\"The splitted array is:\")\n",
    "print(newarr)"
   ]
  },
  {
   "cell_type": "code",
   "execution_count": 14,
   "id": "04be4f53",
   "metadata": {},
   "outputs": [
    {
     "name": "stdout",
     "output_type": "stream",
     "text": [
      "The splitted array is:\n",
      "[array([[1, 2, 3],\n",
      "       [4, 5, 6]]), array([[ 7,  8,  9],\n",
      "       [10, 11, 12]]), array([[13, 14, 15],\n",
      "       [16, 17, 18]])]\n"
     ]
    }
   ],
   "source": [
    "# Same for 2D array array_split()\n",
    "import numpy as np\n",
    "arr=np.array([[1,2,3],[4,5,6],[7,8,9],[10,11,12],[13,14,15],[16,17,18]]) # 2D array,# 6 lists array present we need 3 parts\n",
    "newarr=np.array_split(arr,3) # arr is argument , 4 represent how much you want to devide arr\n",
    "print(\"The splitted array is:\")\n",
    "print(newarr)"
   ]
  },
  {
   "cell_type": "code",
   "execution_count": 15,
   "id": "b3176b7f",
   "metadata": {},
   "outputs": [],
   "source": [
    "# In addition , we can specify  which axis we want to do the split around\n",
    "# axis i.e = 1 or 2 or 3 and also for rows and columns"
   ]
  },
  {
   "cell_type": "code",
   "execution_count": 17,
   "id": "421afb0c",
   "metadata": {},
   "outputs": [
    {
     "name": "stdout",
     "output_type": "stream",
     "text": [
      "[array([[ 1],\n",
      "       [ 4],\n",
      "       [ 7],\n",
      "       [10],\n",
      "       [13],\n",
      "       [16]]), array([[ 2],\n",
      "       [ 5],\n",
      "       [ 8],\n",
      "       [11],\n",
      "       [14],\n",
      "       [17]]), array([[ 3],\n",
      "       [ 6],\n",
      "       [ 9],\n",
      "       [12],\n",
      "       [15],\n",
      "       [18]])]\n"
     ]
    }
   ],
   "source": [
    "# Split the 2-D Array into Three 2-D arrays along rows\n",
    "import numpy as np\n",
    "arr=np.array([[1,2,3],[4,5,6],[7,8,9],[10,11,12],[13,14,15],[16,17,18]])\n",
    "newarr=np.array_split(arr,3, axis=1) # arr will divide into 3 parts and axis=1 for splitting along rows\n",
    "                                    # axis=1 mean it will take one element of the rows to form a list array\n",
    "                                    # result be([ 1],[ 4],[ 7],[ 10 ],[ 13 ]) it is 1 array 2 more array like it\n",
    "print(newarr)"
   ]
  },
  {
   "cell_type": "code",
   "execution_count": 18,
   "id": "331e164a",
   "metadata": {},
   "outputs": [],
   "source": [
    "# An alternate solution is hsplit() opposite of hstack()"
   ]
  },
  {
   "cell_type": "code",
   "execution_count": 22,
   "id": "bd528131",
   "metadata": {},
   "outputs": [
    {
     "name": "stdout",
     "output_type": "stream",
     "text": [
      "[array([[ 1],\n",
      "       [ 4],\n",
      "       [ 7],\n",
      "       [10],\n",
      "       [13],\n",
      "       [16]]), array([[ 2],\n",
      "       [ 5],\n",
      "       [ 8],\n",
      "       [11],\n",
      "       [14],\n",
      "       [17]]), array([[ 3],\n",
      "       [ 6],\n",
      "       [ 9],\n",
      "       [12],\n",
      "       [15],\n",
      "       [18]])]\n"
     ]
    }
   ],
   "source": [
    "# Use hsplit() method to split the 2-D array into three 2-D arrays along rows\n",
    "# Split the 2-D Array into Three 2-D arrays along rows\n",
    "import numpy as np\n",
    "arr=np.array([[1,2,3],[4,5,6],[7,8,9],[10,11,12],[13,14,15],[16,17,18]])\n",
    "newarr=np.hsplit(arr,3) # arr will divide into 3 parts \n",
    "                        #no need to write axis = 1  it because it will selfunderstand ,\n",
    "                        #hsplit represent horizontal split in rows\n",
    "                                    # result be([ 1],[ 4],[ 7],[ 10 ],[ 13 ]) it is 1 array 2 more array like it\n",
    "print(newarr)"
   ]
  },
  {
   "cell_type": "code",
   "execution_count": 23,
   "id": "5d354b87",
   "metadata": {},
   "outputs": [],
   "source": [
    "# Similar alternates to vstack() and dstack() are available as vsplit() and dsplit()"
   ]
  },
  {
   "cell_type": "code",
   "execution_count": 30,
   "id": "9f9ef541",
   "metadata": {},
   "outputs": [
    {
     "name": "stdout",
     "output_type": "stream",
     "text": [
      "[array([[1, 2, 3],\n",
      "       [4, 5, 6]]), array([[ 7,  8,  9],\n",
      "       [10, 11, 12]]), array([[13, 14, 15],\n",
      "       [16, 17, 18]])]\n"
     ]
    }
   ],
   "source": [
    "import numpy as np\n",
    "arr=np.array([[1,2,3],[4,5,6],[7,8,9],[10,11,12],[13,14,15],[16,17,18]])\n",
    "newarr=np.vsplit(arr,3)\n",
    " # arr will divide into 3 parts \n",
    "                        #no need to write axis = 1  it because it will selfunderstand ,\n",
    "                        #vsplit represent vertical split in rows\n",
    "print(newarr)"
   ]
  },
  {
   "cell_type": "code",
   "execution_count": 34,
   "id": "b958ebc7",
   "metadata": {},
   "outputs": [
    {
     "name": "stdout",
     "output_type": "stream",
     "text": [
      "[array([[[ 1],\n",
      "        [ 4],\n",
      "        [ 7],\n",
      "        [10],\n",
      "        [13],\n",
      "        [16]]]), array([[[ 2],\n",
      "        [ 5],\n",
      "        [ 8],\n",
      "        [11],\n",
      "        [14],\n",
      "        [17]]]), array([[[ 3],\n",
      "        [ 6],\n",
      "        [ 9],\n",
      "        [12],\n",
      "        [15],\n",
      "        [18]]])]\n"
     ]
    }
   ],
   "source": [
    "# dsplit is use for 3D and more than 3 dimensions\n",
    "import numpy as np\n",
    "arr=np.array([[[1,2,3],[4,5,6],[7,8,9],[10,11,12],[13,14,15],[16,17,18]]])\n",
    "newarr=np.dsplit(arr,3)\n",
    "print(newarr)"
   ]
  },
  {
   "cell_type": "code",
   "execution_count": null,
   "id": "d5e081f8",
   "metadata": {},
   "outputs": [],
   "source": [
    "\n"
   ]
  },
  {
   "cell_type": "code",
   "execution_count": null,
   "id": "5c081f3b",
   "metadata": {},
   "outputs": [],
   "source": []
  }
 ],
 "metadata": {
  "kernelspec": {
   "display_name": "Python 3 (ipykernel)",
   "language": "python",
   "name": "python3"
  },
  "language_info": {
   "codemirror_mode": {
    "name": "ipython",
    "version": 3
   },
   "file_extension": ".py",
   "mimetype": "text/x-python",
   "name": "python",
   "nbconvert_exporter": "python",
   "pygments_lexer": "ipython3",
   "version": "3.7.0"
  }
 },
 "nbformat": 4,
 "nbformat_minor": 5
}
