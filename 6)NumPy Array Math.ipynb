{
 "cells": [
  {
   "cell_type": "code",
   "execution_count": 7,
   "id": "b1e05384",
   "metadata": {},
   "outputs": [],
   "source": [
    "# Arithematic operations on arrays"
   ]
  },
  {
   "cell_type": "code",
   "execution_count": 1,
   "id": "3226652b",
   "metadata": {},
   "outputs": [
    {
     "name": "stdout",
     "output_type": "stream",
     "text": [
      "Addition of A and B is:\n",
      "[[ 8 10 12]\n",
      " [14 16 18]]\n"
     ]
    }
   ],
   "source": [
    "import numpy as np\n",
    "A=np.array([[1,2,3],[4,5,6]])\n",
    "B=np.array([[7,8,9],[10,11,12]])\n",
    "print(\"Addition of A and B is:\")\n",
    "print(A+B)"
   ]
  },
  {
   "cell_type": "code",
   "execution_count": 2,
   "id": "7168a290",
   "metadata": {},
   "outputs": [],
   "source": [
    "# Array Math is important for vector calculation as well and we can plot graph also"
   ]
  },
  {
   "cell_type": "code",
   "execution_count": 3,
   "id": "4cb9929f",
   "metadata": {},
   "outputs": [
    {
     "name": "stdout",
     "output_type": "stream",
     "text": [
      "Addition of X and Y is :\n",
      "[6 5]\n"
     ]
    }
   ],
   "source": [
    "import numpy as np\n",
    "X=np.array([2,3])\n",
    "Y=np.array([4,2])\n",
    "print(\"Addition of X and Y is :\")\n",
    "print(X+Y) # as like vector addition\n",
    " "
   ]
  },
  {
   "cell_type": "code",
   "execution_count": 4,
   "id": "b7103520",
   "metadata": {},
   "outputs": [
    {
     "name": "stdout",
     "output_type": "stream",
     "text": [
      "Addition of A and B is:\n",
      "[[ 8 10 12]\n",
      " [14 16 18]]\n"
     ]
    }
   ],
   "source": [
    "#Using np.add\n",
    "import numpy as np\n",
    "A=np.array([[1,2,3],[4,5,6]])\n",
    "B=np.array([[7,8,9],[10,11,12]])\n",
    "print(\"Addition of A and B is:\")\n",
    "print(np.add(A,B))"
   ]
  },
  {
   "cell_type": "code",
   "execution_count": 5,
   "id": "6609c34c",
   "metadata": {},
   "outputs": [],
   "source": [
    "# Subtraction"
   ]
  },
  {
   "cell_type": "code",
   "execution_count": 6,
   "id": "2e20aece",
   "metadata": {},
   "outputs": [
    {
     "name": "stdout",
     "output_type": "stream",
     "text": [
      "Addition of A and B is:\n",
      "[[-6 -6 -6]\n",
      " [-6 -6 -6]]\n"
     ]
    }
   ],
   "source": [
    "import numpy as np\n",
    "A=np.array([[1,2,3],[4,5,6]])# rank 2 matrix\n",
    "B=np.array([[7,8,9],[10,11,12]])# rank 2 matrix\n",
    "print(\"Addition of A and B is:\")\n",
    "print(A-B)"
   ]
  },
  {
   "cell_type": "code",
   "execution_count": 7,
   "id": "1a00c31e",
   "metadata": {},
   "outputs": [
    {
     "name": "stdout",
     "output_type": "stream",
     "text": [
      "Addition of A and B is:\n",
      "[[-6 -6 -6]\n",
      " [-6 -6 -6]]\n"
     ]
    }
   ],
   "source": [
    "import numpy as np\n",
    "A=np.array([[1,2,3],[4,5,6]])\n",
    "B=np.array([[7,8,9],[10,11,12]])\n",
    "print(\"Addition of A and B is:\")\n",
    "print(np.subtract(A,B))"
   ]
  },
  {
   "cell_type": "code",
   "execution_count": 8,
   "id": "178c61d5",
   "metadata": {},
   "outputs": [],
   "source": [
    "# Multiplication"
   ]
  },
  {
   "cell_type": "code",
   "execution_count": 10,
   "id": "5fafdf1f",
   "metadata": {},
   "outputs": [
    {
     "name": "stdout",
     "output_type": "stream",
     "text": [
      "Multiplication of A and B is:\n",
      "[[ 7 16 27]\n",
      " [40 55 72]]\n"
     ]
    }
   ],
   "source": [
    "import numpy as np\n",
    "A=np.array([[1,2,3],[4,5,6]])\n",
    "B=np.array([[7,8,9],[10,11,12]])\n",
    "print(\"Multiplication of A and B is:\")\n",
    "print(A*B)"
   ]
  },
  {
   "cell_type": "code",
   "execution_count": 16,
   "id": "218e617d",
   "metadata": {},
   "outputs": [
    {
     "name": "stdout",
     "output_type": "stream",
     "text": [
      "Multiplication of A and B is:\n",
      "[[ 7 16 27]\n",
      " [40 55 72]]\n"
     ]
    }
   ],
   "source": [
    "import numpy as np\n",
    "A=np.array([[1,2,3],[4,5,6]])\n",
    "B=np.array([[7,8,9],[10,11,12]])\n",
    "print(\"Multiplication of A and B is:\")\n",
    "print(np.multiply(A,B))"
   ]
  },
  {
   "cell_type": "code",
   "execution_count": 17,
   "id": "47a82400",
   "metadata": {},
   "outputs": [],
   "source": [
    "#Division(WE can find BMI(body mass index) of people by division easily)"
   ]
  },
  {
   "cell_type": "code",
   "execution_count": 20,
   "id": "0366d970",
   "metadata": {},
   "outputs": [
    {
     "name": "stdout",
     "output_type": "stream",
     "text": [
      "division of A and B is:\n",
      "[[0.14285714 0.25       0.33333333]\n",
      " [0.4        0.45454545 0.5       ]]\n"
     ]
    }
   ],
   "source": [
    "import numpy as np\n",
    "A=np.array([[1,2,3],[4,5,6]])\n",
    "B=np.array([[7,8,9],[10,11,12]])\n",
    "print(\"division of A and B is:\")#samw as np.divide\n",
    "print(A/B)"
   ]
  },
  {
   "cell_type": "code",
   "execution_count": 22,
   "id": "55fcee88",
   "metadata": {},
   "outputs": [
    {
     "name": "stdout",
     "output_type": "stream",
     "text": [
      "division of A and B is:\n",
      "[[0.14285714 0.25       0.33333333]\n",
      " [0.4        0.45454545 0.5       ]]\n"
     ]
    }
   ],
   "source": [
    "import numpy as np\n",
    "A=np.array([[1,2,3],[4,5,6]])\n",
    "B=np.array([[7,8,9],[10,11,12]])\n",
    "print(\"division of A and B is:\")#samw as np.divide\n",
    "print(np.divide(A,B))"
   ]
  },
  {
   "cell_type": "code",
   "execution_count": 11,
   "id": "852a5e41",
   "metadata": {},
   "outputs": [
    {
     "name": "stdout",
     "output_type": "stream",
     "text": [
      "The body mass index BMI of Qasim,Priyanka,Resham is: [28.88888889 14.51836889 23.046875  ]\n",
      "overweight: ['Qasim']\n",
      "underweight: ['Priyanka']\n",
      "Healthy: ['Resham']\n"
     ]
    }
   ],
   "source": [
    "#BMI utilization of arithematic operators\n",
    "import numpy as np\n",
    "names=np.array([\"Qasim\",'Priyanka',\"Resham\"])# es array k aik aik element k respect me bmi use hoga\n",
    "heights=np.array([1.5,1.78,1.6])# in meters\n",
    "weights=np.array([65,46,59])\n",
    "bmi=weights/heights**2 # calculate BMI=weights/heights(square)\n",
    "print(\"The body mass index BMI of Qasim,Priyanka,Resham is:\",bmi)\n",
    "print(\"overweight:\",names[bmi>25])\n",
    "#overweight:['Qasim']\n",
    "print(\"underweight:\",names[bmi<18.5])\n",
    "#underweight:['priyanka']\n",
    "print(\"Healthy:\",names[(bmi>=18.5) & (bmi<=25)])\n",
    "#Healthy:['Resham']"
   ]
  },
  {
   "cell_type": "markdown",
   "id": "3b39601a",
   "metadata": {},
   "source": [
    "# Dot Product"
   ]
  },
  {
   "cell_type": "code",
   "execution_count": 13,
   "id": "b09f2a48",
   "metadata": {},
   "outputs": [
    {
     "name": "stdout",
     "output_type": "stream",
     "text": [
      "The dot product of x and y is: 14\n"
     ]
    }
   ],
   "source": [
    "import numpy as np\n",
    "x=np.array([2,3])\n",
    "y=np.array([4,2])\n",
    "print(\"The dot product of x and y is:\", np.dot(x,y))"
   ]
  },
  {
   "cell_type": "code",
   "execution_count": 18,
   "id": "6c7c1307",
   "metadata": {},
   "outputs": [
    {
     "name": "stdout",
     "output_type": "stream",
     "text": [
      "The dot product of X and Y is\n",
      "[[ 58  64]\n",
      " [139 154]]\n"
     ]
    }
   ],
   "source": [
    "# rank 2 arrays\n",
    "import numpy as np\n",
    "x=np.array([[1,2,3],[4,5,6]]) #2*3 \n",
    "y=np.array([[7,8],[9,10],[11,12]]) #3*2 #(first matrix column is equal to second matrix row so multiplication possible)\n",
    "print(\"The dot product of X and Y is\",)\n",
    "print(np.dot(x,y))"
   ]
  },
  {
   "cell_type": "code",
   "execution_count": null,
   "id": "39b93c05",
   "metadata": {},
   "outputs": [],
   "source": []
  },
  {
   "cell_type": "code",
   "execution_count": null,
   "id": "8a4a8e8c",
   "metadata": {},
   "outputs": [],
   "source": []
  }
 ],
 "metadata": {
  "kernelspec": {
   "display_name": "Python 3 (ipykernel)",
   "language": "python",
   "name": "python3"
  },
  "language_info": {
   "codemirror_mode": {
    "name": "ipython",
    "version": 3
   },
   "file_extension": ".py",
   "mimetype": "text/x-python",
   "name": "python",
   "nbconvert_exporter": "python",
   "pygments_lexer": "ipython3",
   "version": "3.7.0"
  }
 },
 "nbformat": 4,
 "nbformat_minor": 5
}
