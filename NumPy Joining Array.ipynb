{
 "cells": [
  {
   "cell_type": "markdown",
   "id": "8c3a90a5",
   "metadata": {},
   "source": [
    "# Joining Arrays Using Concatenate Functions()"
   ]
  },
  {
   "cell_type": "code",
   "execution_count": 8,
   "id": "6d3d2fb5",
   "metadata": {},
   "outputs": [],
   "source": [
    "# In SQL we join tables based on a key where we use to fire a query ,In Numpy we join Array on basis of axis\n",
    "# axis=1,axis=2,axis=3 we pass sequence of arrays which need to join we will apply concatenate() function on them\n",
    "# along with the axis by which we have to join them if no axis pass it has been taken as 0"
   ]
  },
  {
   "cell_type": "code",
   "execution_count": 9,
   "id": "ddc19d78",
   "metadata": {},
   "outputs": [
    {
     "name": "stdout",
     "output_type": "stream",
     "text": [
      "The Concatenated array is: [1 2 3 4 5 6]\n"
     ]
    }
   ],
   "source": [
    "import numpy as np\n",
    "arr1=np.array([1,2,3])\n",
    "arr2=np.array([4,5,6])\n",
    "arr=np.concatenate((arr1,arr2)) #concatenate or joining two arrays, here axis is by default 0\n",
    "print(\"The Concatenated array is:\",arr)"
   ]
  },
  {
   "cell_type": "code",
   "execution_count": 10,
   "id": "5d9daec6",
   "metadata": {},
   "outputs": [],
   "source": [
    "# Join two 2-D arrays along rows(axis=1)"
   ]
  },
  {
   "cell_type": "code",
   "execution_count": 22,
   "id": "1727037e",
   "metadata": {},
   "outputs": [
    {
     "name": "stdout",
     "output_type": "stream",
     "text": [
      "[[1 2]\n",
      " [3 4]]\n",
      "[[5 6]\n",
      " [7 8]]\n",
      "The Concatenated array along rows is: [[1 2]\n",
      " [3 4]\n",
      " [5 6]\n",
      " [7 8]]\n"
     ]
    }
   ],
   "source": [
    "import numpy as np\n",
    "arr1=np.array([[1,2],[3,4]])# 2D array\n",
    "print(arr1)\n",
    "arr2=np.array([[5,6],[7,8]])# 2D array\n",
    "print(arr2)\n",
    "arr=np.concatenate((arr1,arr2),axis=0) # axis=0(row format) mean 1 row 1 element join with 2 row 1 element and 1 \n",
    "                                       # row 2 element join with 2 row 2 element\n",
    "print(\"The Concatenated array along rows is:\",arr)\n"
   ]
  },
  {
   "cell_type": "code",
   "execution_count": 23,
   "id": "35667789",
   "metadata": {},
   "outputs": [
    {
     "name": "stdout",
     "output_type": "stream",
     "text": [
      "[[1 2]\n",
      " [3 4]]\n",
      "[[5 6]\n",
      " [7 8]]\n",
      "The Concatenated array along rows is: [[1 2 5 6]\n",
      " [3 4 7 8]]\n"
     ]
    }
   ],
   "source": [
    "import numpy as np\n",
    "arr1=np.array([[1,2],[3,4]])# 2D array\n",
    "print(arr1)\n",
    "arr2=np.array([[5,6],[7,8]])# 2D array\n",
    "print(arr2)\n",
    "arr=np.concatenate((arr1,arr2),axis=1) # axis=1 mean 1 row 1 element join with 2 row 1 element and 1 row 2 element join with\n",
    "                                       # 2 row 2 element\n",
    "print(\"The Concatenated array along rows is:\",arr)\n"
   ]
  },
  {
   "cell_type": "markdown",
   "id": "9a9a3c40",
   "metadata": {},
   "source": [
    "# Joining Arrays Using Stack Functions()"
   ]
  },
  {
   "cell_type": "code",
   "execution_count": 13,
   "id": "eba81723",
   "metadata": {},
   "outputs": [],
   "source": [
    "# we watch this thing in data structures also,stacking is same as concatenation the only difference is it is done on a \n",
    "# new axis ,also if no axis given it will take 0 axis by default"
   ]
  },
  {
   "cell_type": "code",
   "execution_count": 15,
   "id": "0eb4fbf8",
   "metadata": {},
   "outputs": [
    {
     "name": "stdout",
     "output_type": "stream",
     "text": [
      "The stacked array is:\n",
      "[[1 2 3]\n",
      " [4 5 6]]\n"
     ]
    }
   ],
   "source": [
    "import numpy as np\n",
    "arr1=np.array([1,2,3])# 1D array\n",
    "arr2=np.array([4,5,6])# 1D array\n",
    "arr=np.stack((arr1,arr2)) # stack it will join on a row format when axis=0\n",
    "print(\"The stacked array is:\")\n",
    "print(arr)"
   ]
  },
  {
   "cell_type": "code",
   "execution_count": 24,
   "id": "416721a6",
   "metadata": {},
   "outputs": [
    {
     "name": "stdout",
     "output_type": "stream",
     "text": [
      "The stacked array is:\n",
      "[[1 4]\n",
      " [2 5]\n",
      " [3 6]]\n"
     ]
    }
   ],
   "source": [
    "import numpy as np\n",
    "arr1=np.array([1,2,3])# 1D array\n",
    "arr2=np.array([4,5,6])# 1D array\n",
    "arr=np.stack((arr1,arr2),axis=1)  # stack it will join on a column format when axis=1\n",
    "print(\"The stacked array is:\")\n",
    "print(arr)"
   ]
  },
  {
   "cell_type": "markdown",
   "id": "11cbaf57",
   "metadata": {},
   "source": [
    "# Numpy Provide Helper Funct() ,hstack() to stack Along rows"
   ]
  },
  {
   "cell_type": "code",
   "execution_count": 28,
   "id": "2755bc6f",
   "metadata": {},
   "outputs": [
    {
     "name": "stdout",
     "output_type": "stream",
     "text": [
      "The stacked array along rows is:\n",
      "[1 2 3 4 5 6]\n"
     ]
    }
   ],
   "source": [
    "import numpy as np\n",
    "arr1=np.array([1,2,3])#1D array\n",
    "arr2=np.array([4,5,6])# 1D array\n",
    "arr=np.hstack((arr1,arr2)) # here axis is not given so by default it is axis=0 which mean along (row format) stacking\n",
    "print(\"The stacked array along rows is:\")\n",
    "print(arr) # elements side by side"
   ]
  },
  {
   "cell_type": "markdown",
   "id": "fb9ef970",
   "metadata": {},
   "source": [
    "# Numpy Provide Helper Func(),vstack() or vertical stack to stack Along Columns"
   ]
  },
  {
   "cell_type": "code",
   "execution_count": 29,
   "id": "91125426",
   "metadata": {},
   "outputs": [
    {
     "name": "stdout",
     "output_type": "stream",
     "text": [
      "The stacked array along columns is:\n",
      "[[1 2 3]\n",
      " [4 5 6]]\n"
     ]
    }
   ],
   "source": [
    "import numpy as np\n",
    "arr1=np.array([1,2,3])#1D array\n",
    "arr2=np.array([4,5,6])# 1D array\n",
    "arr=np.vstack((arr1,arr2)) # here axis is not given so by default it is axis=0 which mean along (row format) stacking\n",
    "print(\"The stacked array along columns is:\")\n",
    "print(arr) # element on top ,botton in form of columns"
   ]
  },
  {
   "cell_type": "markdown",
   "id": "c03fcbb8",
   "metadata": {},
   "source": [
    "# Numpy Provide Helper Func():dstack() or depth or height to stack Along Height or Depth"
   ]
  },
  {
   "cell_type": "code",
   "execution_count": 30,
   "id": "42eba38d",
   "metadata": {},
   "outputs": [
    {
     "name": "stdout",
     "output_type": "stream",
     "text": [
      "The stacked array along height is:\n",
      "[[[1 4]\n",
      "  [2 5]\n",
      "  [3 6]]]\n"
     ]
    }
   ],
   "source": [
    "import numpy as np\n",
    "arr1=np.array([1,2,3])#1D array\n",
    "arr2=np.array([4,5,6])# 1D array\n",
    "arr=np.dstack((arr1,arr2)) # here axis is not given so by default it is axis=0 which mean along (row format) stacking\n",
    "                           # Column element with stack\n",
    "print(\"The stacked array along height is:\")\n",
    "print(arr) # element on top ,botton in form of columns"
   ]
  },
  {
   "cell_type": "code",
   "execution_count": null,
   "id": "a93fc0b7",
   "metadata": {},
   "outputs": [],
   "source": []
  }
 ],
 "metadata": {
  "kernelspec": {
   "display_name": "Python 3 (ipykernel)",
   "language": "python",
   "name": "python3"
  },
  "language_info": {
   "codemirror_mode": {
    "name": "ipython",
    "version": 3
   },
   "file_extension": ".py",
   "mimetype": "text/x-python",
   "name": "python",
   "nbconvert_exporter": "python",
   "pygments_lexer": "ipython3",
   "version": "3.7.0"
  }
 },
 "nbformat": 4,
 "nbformat_minor": 5
}
