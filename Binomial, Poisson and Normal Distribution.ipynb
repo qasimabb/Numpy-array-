{
 "cells": [
  {
   "cell_type": "markdown",
   "id": "d2734797",
   "metadata": {},
   "source": [
    "# Binomial Distribution"
   ]
  },
  {
   "cell_type": "code",
   "execution_count": 1,
   "id": "9ce984d1",
   "metadata": {},
   "outputs": [],
   "source": [
    "# Bionomial dist is discrete dist that describe outcome of binary scenarios(2 possible outcome) e.g toss coin , head or tail\n",
    "# 2 possible like(true/false, 0/1 , yes/no etc)\n",
    "# 3 parameter use in bionomial dist\n",
    "# n-Number of trials(no of times which we do in order to have distribution)\n",
    "#p-Probability of occurance of each trial (toss the coin what is probab of head and head)\n",
    "# size-The shape of the returned array"
   ]
  },
  {
   "cell_type": "markdown",
   "id": "183fc9e9",
   "metadata": {},
   "source": [
    "# Discrete Distribution"
   ]
  },
  {
   "cell_type": "code",
   "execution_count": 2,
   "id": "028e0d98",
   "metadata": {},
   "outputs": [],
   "source": [
    "# sperate set of events\n",
    "#A coin tosses only head or tail\n",
    "# countable\n",
    "# Graph of Discrete Dist will definitely break"
   ]
  },
  {
   "cell_type": "markdown",
   "id": "8c28f565",
   "metadata": {},
   "source": [
    "# Continous Distribution"
   ]
  },
  {
   "cell_type": "code",
   "execution_count": 3,
   "id": "92936215",
   "metadata": {},
   "outputs": [],
   "source": [
    "# height of People which is continous in Nature\n",
    "#  height = 170,170.1,170.5\n",
    "# Graph of it will be Continous exactly and not breakable\n",
    "# for Continous dist graph will never break on the other hand for discrete dist graph will break"
   ]
  },
  {
   "cell_type": "code",
   "execution_count": 4,
   "id": "e57aca88",
   "metadata": {},
   "outputs": [
    {
     "name": "stdout",
     "output_type": "stream",
     "text": [
      "[4 4 6 5 4 3 6 6 5 4]\n"
     ]
    }
   ],
   "source": [
    "# Given 10 trials for coin toss generate 10 data points\n",
    "import numpy as np\n",
    "from numpy import random\n",
    "x=random.binomial(n=10,p=0.5,size=10)# if we need to perform normal we will use normal, if we \n",
    "                                    # binomial dist to perform we will use binomial etc\n",
    "print(x) # will print values from 1 to 10 according to probab it will print randomly\n",
    "#n=no of trial , p=probability ,size=size of array"
   ]
  },
  {
   "cell_type": "markdown",
   "id": "0067bab6",
   "metadata": {},
   "source": [
    "# Visualization of Binomial Distribution"
   ]
  },
  {
   "cell_type": "code",
   "execution_count": 5,
   "id": "977da34a",
   "metadata": {},
   "outputs": [
    {
     "name": "stderr",
     "output_type": "stream",
     "text": [
      "e:\\new folder\\lib\\site-packages\\seaborn\\distributions.py:2619: FutureWarning: `distplot` is a deprecated function and will be removed in a future version. Please adapt your code to use either `displot` (a figure-level function with similar flexibility) or `histplot` (an axes-level function for histograms).\n",
      "  warnings.warn(msg, FutureWarning)\n"
     ]
    },
    {
     "data": {
      "image/png": "[encoded data removed]",
      "text/plain": [
       "<Figure size 432x288 with 1 Axes>"
      ]
     },
     "metadata": {
      "needs_background": "light"
     },
     "output_type": "display_data"
    }
   ],
   "source": [
    "import numpy as np\n",
    "from numpy import random\n",
    "import matplotlib.pyplot as plt # Matplotlib for plotting graph\n",
    "import seaborn as sns # for dist plot\n",
    "sns.distplot(random.binomial(n=10,p=0.5,size=1000),hist=True,kde=False)# for distplot\n",
    "plt.show()\n",
    "# Kde= weather to plot a gaussian kernal density "
   ]
  },
  {
   "cell_type": "code",
   "execution_count": 6,
   "id": "30a37356",
   "metadata": {},
   "outputs": [],
   "source": [
    "# it is binomial dist we plot histogram for respective values  and at x axis we have 1 to 9"
   ]
  },
  {
   "cell_type": "code",
   "execution_count": 7,
   "id": "0eb78f3f",
   "metadata": {},
   "outputs": [],
   "source": [
    "# Normal dist is Continous in Nature\n",
    "# Binomial dist is Discrete in Nature\n",
    "# loc=mean and scale=stard deviation we will have  consider such values we can have similar graph"
   ]
  },
  {
   "cell_type": "code",
   "execution_count": 8,
   "id": "fcec5ea9",
   "metadata": {},
   "outputs": [
    {
     "name": "stderr",
     "output_type": "stream",
     "text": [
      "e:\\new folder\\lib\\site-packages\\seaborn\\distributions.py:2619: FutureWarning: `distplot` is a deprecated function and will be removed in a future version. Please adapt your code to use either `displot` (a figure-level function with similar flexibility) or `kdeplot` (an axes-level function for kernel density plots).\n",
      "  warnings.warn(msg, FutureWarning)\n",
      "e:\\new folder\\lib\\site-packages\\seaborn\\distributions.py:2619: FutureWarning: `distplot` is a deprecated function and will be removed in a future version. Please adapt your code to use either `displot` (a figure-level function with similar flexibility) or `kdeplot` (an axes-level function for kernel density plots).\n",
      "  warnings.warn(msg, FutureWarning)\n"
     ]
    },
    {
     "data": {
      "image/png": "[encoded data removed]",
      "text/plain": [
       "<Figure size 432x288 with 1 Axes>"
      ]
     },
     "metadata": {
      "needs_background": "light"
     },
     "output_type": "display_data"
    }
   ],
   "source": [
    "import numpy as np\n",
    "from numpy import random\n",
    "import matplotlib.pyplot as plt\n",
    "import seaborn as sns\n",
    "sns.distplot(random.normal(loc=50 , scale=5 , size=1000),hist=False,label='normal')\n",
    "sns.distplot(random.binomial(n=100 , p=0.5 , size=1000),hist=False,label='binomial')\n",
    "plt.show()"
   ]
  },
  {
   "cell_type": "markdown",
   "id": "48b4c0a9",
   "metadata": {},
   "source": [
    "# Poisson Distribution"
   ]
  },
  {
   "cell_type": "code",
   "execution_count": 9,
   "id": "aa3decab",
   "metadata": {},
   "outputs": [],
   "source": [
    "# it is also discrete dist but it will estimate how many times event occur in a specify time\n",
    "#we need to calculate how many time this particular event occur\n",
    "# if someone eat twice a day what is the probability he will eat thrice a day\n",
    "#parameter\n",
    "# lam = rate or known number of occurrencess\n",
    "# size= shape of the returned array"
   ]
  },
  {
   "cell_type": "code",
   "execution_count": 10,
   "id": "0e510e09",
   "metadata": {},
   "outputs": [
    {
     "name": "stdout",
     "output_type": "stream",
     "text": [
      "[1 1 1 3 5 0 1 2 3 1]\n"
     ]
    }
   ],
   "source": [
    "# Generate a random 1x10 distribution for occurrence 2.\n",
    "import numpy as np\n",
    "from numpy import random\n",
    "x=random.poisson(lam=2,size=10) # lam= frequency= rate=known number of occurances\n",
    "print(x)"
   ]
  },
  {
   "cell_type": "markdown",
   "id": "b441a8ca",
   "metadata": {},
   "source": [
    "# Visualiztion of Poisson Distribution"
   ]
  },
  {
   "cell_type": "code",
   "execution_count": 11,
   "id": "8d7bfecd",
   "metadata": {},
   "outputs": [
    {
     "name": "stderr",
     "output_type": "stream",
     "text": [
      "e:\\new folder\\lib\\site-packages\\seaborn\\distributions.py:2619: FutureWarning: `distplot` is a deprecated function and will be removed in a future version. Please adapt your code to use either `displot` (a figure-level function with similar flexibility) or `histplot` (an axes-level function for histograms).\n",
      "  warnings.warn(msg, FutureWarning)\n"
     ]
    },
    {
     "data": {
      "image/png": "[encoded data removed]",
      "text/plain": [
       "<Figure size 432x288 with 1 Axes>"
      ]
     },
     "metadata": {
      "needs_background": "light"
     },
     "output_type": "display_data"
    }
   ],
   "source": [
    "import numpy as np \n",
    "from numpy import random\n",
    "import matplotlib.pyplot as plt # for plotting graph\n",
    "import seaborn as sns # for distribution plot\n",
    "sns.distplot(random.poisson(lam=2,size=1000),kde=False) # for poission we take random.poission\n",
    "plt.show()"
   ]
  },
  {
   "cell_type": "code",
   "execution_count": 12,
   "id": "c101b2a4",
   "metadata": {},
   "outputs": [],
   "source": [
    "# This is poisson Distribution , if we sum up all these values we will comeup to be 1000 \n",
    "# respectively for 0,2,4,6,8"
   ]
  },
  {
   "cell_type": "markdown",
   "id": "02c25a67",
   "metadata": {},
   "source": [
    "# Difference between Normal and Poisson Distribution"
   ]
  },
  {
   "cell_type": "code",
   "execution_count": 13,
   "id": "64571dc9",
   "metadata": {},
   "outputs": [],
   "source": [
    "# Normal Dist is Continous whereas poisson Dist is Discrete\n",
    "# but if we take larger values for poisson dist as we did for binomial dist we consider some\n",
    "# comparable values there here also poisson dist can become to Normal Dist with certain \n",
    "# Standard Deviation and the mean"
   ]
  },
  {
   "cell_type": "code",
   "execution_count": 14,
   "id": "5dd0639a",
   "metadata": {},
   "outputs": [
    {
     "name": "stderr",
     "output_type": "stream",
     "text": [
      "e:\\new folder\\lib\\site-packages\\seaborn\\distributions.py:2619: FutureWarning: `distplot` is a deprecated function and will be removed in a future version. Please adapt your code to use either `displot` (a figure-level function with similar flexibility) or `kdeplot` (an axes-level function for kernel density plots).\n",
      "  warnings.warn(msg, FutureWarning)\n",
      "e:\\new folder\\lib\\site-packages\\seaborn\\distributions.py:2619: FutureWarning: `distplot` is a deprecated function and will be removed in a future version. Please adapt your code to use either `displot` (a figure-level function with similar flexibility) or `kdeplot` (an axes-level function for kernel density plots).\n",
      "  warnings.warn(msg, FutureWarning)\n"
     ]
    },
    {
     "data": {
      "image/png": "[encoded data removed]",
      "text/plain": [
       "<Figure size 432x288 with 1 Axes>"
      ]
     },
     "metadata": {
      "needs_background": "light"
     },
     "output_type": "display_data"
    }
   ],
   "source": [
    "import numpy as np\n",
    "from numpy import random\n",
    "import matplotlib.pyplot as plt\n",
    "import seaborn as sns\n",
    "sns.distplot(random.normal(loc=50, scale=7 , size=1000),hist=False,label='normal')\n",
    " # plotting normal distribution\n",
    "sns.distplot(random.poisson(lam=50 , size=1000),hist=False, label='poisson')\n",
    "# lam= freq of occurence =50\n",
    "# plotting poisson Distribution\n",
    "plt.show()"
   ]
  },
  {
   "cell_type": "code",
   "execution_count": 15,
   "id": "654d33df",
   "metadata": {},
   "outputs": [],
   "source": [
    "# it shows both of graph are somehow comparetable\n",
    "# on x axis values and on y axis probability density"
   ]
  },
  {
   "cell_type": "markdown",
   "id": "8140784f",
   "metadata": {},
   "source": [
    "# Difference between Poisson and Binomial Distribution"
   ]
  },
  {
   "cell_type": "code",
   "execution_count": 16,
   "id": "f8384a3b",
   "metadata": {},
   "outputs": [],
   "source": [
    "# both binomial and poisson dist are Discrete Distribution but still difference\n",
    "# Binomial Dist is for discrete trials\n",
    "# poisson Dist is for Continous trials\n",
    "# we have been given time and that particular time we need to continously perform trials in a \n",
    "# continous manner that is called poisson dist\n",
    "#For larger value of n near 0 ,pbinomial dist is nearly identical to poisson dist because inthis\n",
    "# case n*p is nearly equal to the lam or frequency\n"
   ]
  },
  {
   "cell_type": "code",
   "execution_count": 17,
   "id": "bd7ce331",
   "metadata": {},
   "outputs": [
    {
     "name": "stderr",
     "output_type": "stream",
     "text": [
      "e:\\new folder\\lib\\site-packages\\seaborn\\distributions.py:2619: FutureWarning: `distplot` is a deprecated function and will be removed in a future version. Please adapt your code to use either `displot` (a figure-level function with similar flexibility) or `kdeplot` (an axes-level function for kernel density plots).\n",
      "  warnings.warn(msg, FutureWarning)\n",
      "e:\\new folder\\lib\\site-packages\\seaborn\\distributions.py:2619: FutureWarning: `distplot` is a deprecated function and will be removed in a future version. Please adapt your code to use either `displot` (a figure-level function with similar flexibility) or `kdeplot` (an axes-level function for kernel density plots).\n",
      "  warnings.warn(msg, FutureWarning)\n"
     ]
    },
    {
     "data": {
      "image/png": "[encoded data removed]",
      "text/plain": [
       "<Figure size 432x288 with 1 Axes>"
      ]
     },
     "metadata": {
      "needs_background": "light"
     },
     "output_type": "display_data"
    }
   ],
   "source": [
    "import numpy as np\n",
    "from numpy import random\n",
    "import matplotlib.pyplot as plt\n",
    "import seaborn as sns\n",
    "sns.distplot(random.binomial(n=1000, p=0.01 , size=1000),hist=False,label='binomial')\n",
    " # plotting binomial distribution\n",
    "sns.distplot(random.poisson(lam=10 , size=1000),hist=False, label='poisson')\n",
    "# lam= freq of occurence =10\n",
    "# plotting poisson Distribution\n",
    "plt.show() # will print graph whic is quite compareable and nearly Same"
   ]
  },
  {
   "cell_type": "code",
   "execution_count": null,
   "id": "4ad00cfa",
   "metadata": {},
   "outputs": [],
   "source": []
  },
  {
   "cell_type": "code",
   "execution_count": null,
   "id": "bedd2ad2",
   "metadata": {},
   "outputs": [],
   "source": []
  },
  {
   "cell_type": "code",
   "execution_count": null,
   "id": "8be1c07a",
   "metadata": {},
   "outputs": [],
   "source": []
  }
 ],
 "metadata": {
  "kernelspec": {
   "display_name": "Python 3 (ipykernel)",
   "language": "python",
   "name": "python3"
  },
  "language_info": {
   "codemirror_mode": {
    "name": "ipython",
    "version": 3
   },
   "file_extension": ".py",
   "mimetype": "text/x-python",
   "name": "python",
   "nbconvert_exporter": "python",
   "pygments_lexer": "ipython3",
   "version": "3.7.0"
  }
 },
 "nbformat": 4,
 "nbformat_minor": 5
}
