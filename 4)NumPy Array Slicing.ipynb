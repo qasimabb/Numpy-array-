{
 "cells": [
  {
   "cell_type": "code",
   "execution_count": 1,
   "id": "662a5144",
   "metadata": {},
   "outputs": [
    {
     "name": "stdout",
     "output_type": "stream",
     "text": [
      "[2, 3]\n"
     ]
    }
   ],
   "source": [
    "list=[1,2,3,4,5]\n",
    "arr=list[1:3]#3 is exclude\n",
    "print(arr)"
   ]
  },
  {
   "cell_type": "code",
   "execution_count": 2,
   "id": "ea7ea63d",
   "metadata": {},
   "outputs": [],
   "source": [
    "#Code for Slicing Numpy which is similar to slicing list in python"
   ]
  },
  {
   "cell_type": "code",
   "execution_count": 3,
   "id": "97a8668d",
   "metadata": {},
   "outputs": [
    {
     "name": "stdout",
     "output_type": "stream",
     "text": [
      "The NumPy array is:\n",
      "[[1 2 3 4 5]\n",
      " [4 5 6 7 8]\n",
      " [9 8 7 6 5]]\n",
      "The Sliced Numpy Array is:\n",
      "[[4 5 6]\n",
      " [9 8 7]]\n"
     ]
    }
   ],
   "source": [
    "import numpy as np\n",
    "arr=np.array([[1,2,3,4,5],[4,5,6,7,8],[9,8,7,6,5]])# 2D array\n",
    "print(\"The NumPy array is:\")\n",
    "print(arr)\n",
    "arr1=arr[1:3,:3]#(row 1 to 3(3 is not include) and first 3 columns)(1:3, represent row,:3 it represent column(column 3 not include))\n",
    "print(\"The Sliced Numpy Array is:\")\n",
    "print(arr1)"
   ]
  },
  {
   "cell_type": "code",
   "execution_count": 4,
   "id": "86b516ee",
   "metadata": {},
   "outputs": [],
   "source": [
    "#Slice elements from index 1 to index 5 from the following array"
   ]
  },
  {
   "cell_type": "code",
   "execution_count": 5,
   "id": "281d2533",
   "metadata": {},
   "outputs": [
    {
     "name": "stdout",
     "output_type": "stream",
     "text": [
      "[2 3 4 5]\n"
     ]
    }
   ],
   "source": [
    "import numpy as np\n",
    "arr=np.array([1,2,3,4,5,6,7])\n",
    "print(arr[1:5])# 5 is not include"
   ]
  },
  {
   "cell_type": "code",
   "execution_count": 6,
   "id": "55141b5b",
   "metadata": {},
   "outputs": [],
   "source": [
    "#Slice elements from index 4 to the end of the array"
   ]
  },
  {
   "cell_type": "code",
   "execution_count": 7,
   "id": "d5708343",
   "metadata": {},
   "outputs": [
    {
     "name": "stdout",
     "output_type": "stream",
     "text": [
      "[5 6 7]\n"
     ]
    }
   ],
   "source": [
    "import numpy as np\n",
    "arr=np.array([1,2,3,4,5,6,7])\n",
    "print(arr[4:])"
   ]
  },
  {
   "cell_type": "code",
   "execution_count": null,
   "id": "d536a78d",
   "metadata": {},
   "outputs": [],
   "source": [
    "#Slice elements from index 0 to 4"
   ]
  },
  {
   "cell_type": "code",
   "execution_count": 8,
   "id": "be46e17e",
   "metadata": {},
   "outputs": [
    {
     "name": "stdout",
     "output_type": "stream",
     "text": [
      "[1 2 3 4]\n"
     ]
    }
   ],
   "source": [
    "import numpy as np\n",
    "arr=np.array([1,2,3,4,5,6,7])\n",
    "print(arr[:4])"
   ]
  },
  {
   "cell_type": "markdown",
   "id": "bf84d11f",
   "metadata": {},
   "source": [
    "# Negative Slicing:Use the minus operator to refer to an index from the end "
   ]
  },
  {
   "cell_type": "code",
   "execution_count": 9,
   "id": "0de4d59b",
   "metadata": {},
   "outputs": [],
   "source": [
    "# Slice from index 3 from the end to index 1 from the end"
   ]
  },
  {
   "cell_type": "code",
   "execution_count": 11,
   "id": "f5d18700",
   "metadata": {},
   "outputs": [
    {
     "name": "stdout",
     "output_type": "stream",
     "text": [
      "[5 6]\n"
     ]
    }
   ],
   "source": [
    "import numpy as np\n",
    "arr=np.array([1,2,3,4,5,6,7])\n",
    "print(arr[-3:-1])"
   ]
  },
  {
   "cell_type": "markdown",
   "id": "d3647680",
   "metadata": {},
   "source": [
    "# Step:(Use the step value to determine the step of the slicing )"
   ]
  },
  {
   "cell_type": "code",
   "execution_count": 12,
   "id": "8f71a3e9",
   "metadata": {},
   "outputs": [],
   "source": [
    "# Return every other element from index 1 to index 5 "
   ]
  },
  {
   "cell_type": "code",
   "execution_count": 15,
   "id": "1515abc4",
   "metadata": {},
   "outputs": [
    {
     "name": "stdout",
     "output_type": "stream",
     "text": [
      "[2 4]\n"
     ]
    }
   ],
   "source": [
    "import numpy as np\n",
    "arr=np.array([1,2,3,4,5,6,7]) # print index 1 to index 5 with gap of 1\n",
    "print(arr[1:5:2])# 5 is exclude here"
   ]
  },
  {
   "cell_type": "code",
   "execution_count": 16,
   "id": "1664e61a",
   "metadata": {},
   "outputs": [],
   "source": [
    "# Return every other element from the entire array"
   ]
  },
  {
   "cell_type": "code",
   "execution_count": 18,
   "id": "05e559ed",
   "metadata": {},
   "outputs": [
    {
     "name": "stdout",
     "output_type": "stream",
     "text": [
      "[1 3 5 7]\n"
     ]
    }
   ],
   "source": [
    "import numpy as np\n",
    "arr=np.array([1,2,3,4,5,6,7])\n",
    "print(arr[::2])# print 0 index to last index  with step value 2 mean gap of 1"
   ]
  },
  {
   "cell_type": "markdown",
   "id": "b32619b9",
   "metadata": {},
   "source": [
    "# Slicing 2D Array's  "
   ]
  },
  {
   "cell_type": "code",
   "execution_count": 19,
   "id": "f74ee9b9",
   "metadata": {},
   "outputs": [],
   "source": [
    "# From second element:Slice elements from index 1 to index 4(not include)"
   ]
  },
  {
   "cell_type": "code",
   "execution_count": 20,
   "id": "1adfeacf",
   "metadata": {},
   "outputs": [
    {
     "name": "stdout",
     "output_type": "stream",
     "text": [
      "[7 8 9]\n"
     ]
    }
   ],
   "source": [
    "import numpy as np\n",
    "arr=np.array([[1,2,3,4,5],[6,7,8,9,10]])#2D array\n",
    "print(arr[1,1:4]) # left handside represent rows and right handside represent columns  \n",
    "                     # go to one row  and go index from 1:4"
   ]
  },
  {
   "cell_type": "code",
   "execution_count": 22,
   "id": "4e620678",
   "metadata": {},
   "outputs": [
    {
     "name": "stdout",
     "output_type": "stream",
     "text": [
      "[3 8]\n"
     ]
    }
   ],
   "source": [
    "import numpy as np\n",
    "arr=np.array([[1,2,3,4,5],[6,7,8,9,10]])#2D array\n",
    "print(arr[0:2,2])# from L.H.S 0:2 we take 0 row and 1 row , 2 is exclude  and R.H.S 2 represent second columns"
   ]
  },
  {
   "cell_type": "code",
   "execution_count": 23,
   "id": "e07b5e87",
   "metadata": {},
   "outputs": [],
   "source": [
    "# from both elements,slice index 1 to index 4(not include) this will returrn a 2D array"
   ]
  },
  {
   "cell_type": "code",
   "execution_count": 24,
   "id": "83e81e97",
   "metadata": {},
   "outputs": [
    {
     "name": "stdout",
     "output_type": "stream",
     "text": [
      "[[2 3 4]\n",
      " [7 8 9]]\n"
     ]
    }
   ],
   "source": [
    "import numpy as np\n",
    "arr=np.array([[1,2,3,4,5],[6,7,8,9,10]])#2D array\n",
    "print(arr[0:2,1:4]) # l.H.S represent row 0 and 1 row include and R.H.S represent Column 1,2,3 and 4 column is exclude\n"
   ]
  },
  {
   "cell_type": "markdown",
   "id": "3b7c5076",
   "metadata": {},
   "source": [
    "#  NumPy Slice as a Reference:(Slice of array is not copy it is reference to original array)"
   ]
  },
  {
   "cell_type": "code",
   "execution_count": 26,
   "id": "86b67807",
   "metadata": {},
   "outputs": [
    {
     "name": "stdout",
     "output_type": "stream",
     "text": [
      "The NumPy array is :\n",
      "[[1 2 3 4 5]\n",
      " [4 5 6 7 8]\n",
      " [9 8 7 6 5]]\n",
      "The Sliced Numpy array is :\n",
      "[[6 7 8]\n",
      " [7 6 5]]\n"
     ]
    }
   ],
   "source": [
    "import numpy as np\n",
    "arr=np.array([[1,2,3,4,5],[4,5,6,7,8],[9,8,7,6,5]])# 2D array\n",
    "print(\"The NumPy array is :\")\n",
    "print(arr)\n",
    "arr1 = arr[1:,2:]# row 1(se jayega jitni b row hon) onward and column 2(2colum se jayega) onward ,arr1 is now pointing to a subset of arr,\n",
    "print(\"The Sliced Numpy array is :\")\n",
    "print(arr1)"
   ]
  },
  {
   "cell_type": "code",
   "execution_count": 31,
   "id": "985a0361",
   "metadata": {},
   "outputs": [
    {
     "name": "stdout",
     "output_type": "stream",
     "text": [
      "The NumPy array is :\n",
      "[[1 2 3 4 5]\n",
      " [4 5 6 7 8]\n",
      " [9 8 7 6 5]]\n",
      "The Sliced Numpy array is :\n",
      "[[6 7 8]\n",
      " [7 6 5]]\n",
      "Updated NumPy array1 is:\n",
      "[[ 6  7 88]\n",
      " [ 7  6  5]]\n",
      "Updated NumPy array is:\n",
      "[[ 1  2  3  4  5]\n",
      " [ 4  5  6  7 88]\n",
      " [ 9  8  7  6  5]]\n"
     ]
    }
   ],
   "source": [
    "import numpy as np\n",
    "arr=np.array([[1,2,3,4,5],[4,5,6,7,8],[9,8,7,6,5]])# 2D array\n",
    "print(\"The NumPy array is :\")\n",
    "print(arr)\n",
    "arr1 = arr[1:,2:]# row 1(se jayega jitni b row hon) onward and column 2(2colum se jayega) onward ,arr1 is now pointing to a subset of arr,\n",
    "print(\"The Sliced Numpy array is :\")\n",
    "print(arr1)\n",
    "arr1[0,2]=88 # 0 row and 2 column we updated value as 88\n",
    "print(\"Updated NumPy array1 is:\")\n",
    "print(arr1)\n",
    "print(\"Updated NumPy array is:\")\n",
    "print(arr)"
   ]
  },
  {
   "cell_type": "code",
   "execution_count": 34,
   "id": "0834b664",
   "metadata": {},
   "outputs": [
    {
     "name": "stdout",
     "output_type": "stream",
     "text": [
      "The Numpy array is:\n",
      "[[ 6  7 88]\n",
      " [ 7  6  5]]\n",
      "The shape of Numpy array is \n",
      "(2, 3)\n"
     ]
    }
   ],
   "source": [
    "import numpy as np\n",
    "arr = np.array([[1,2,3,4,5],[4,5,6,7,8],[9,8,7,6,5]])#2D\n",
    "print(\"The Numpy array is:\")\n",
    "print(arr1)\n",
    "print(\"The shape of Numpy array is \")\n",
    "print(arr1.shape)"
   ]
  },
  {
   "cell_type": "code",
   "execution_count": 35,
   "id": "23e901c5",
   "metadata": {},
   "outputs": [
    {
     "name": "stdout",
     "output_type": "stream",
     "text": [
      "The Numpy array is:\n",
      "[[1 2 3 4 5]\n",
      " [4 5 6 7 8]\n",
      " [9 8 7 6 5]]\n",
      "The Sliced Numpy Array is :\n",
      "[[9 8 7 6 5]]\n",
      "The Shape of Numpy array is:\n",
      "(1, 5)\n"
     ]
    }
   ],
   "source": [
    "import numpy as np\n",
    "arr = np.array([[1,2,3,4,5],[4,5,6,7,8],[9,8,7,6,5]])#2D\n",
    "print(\"The Numpy array is:\")\n",
    "print(arr)\n",
    "arr1= arr[2:,:] # row 2 onwords and all columns (2: which print rank2 matrix)\n",
    "print(\"The Sliced Numpy Array is :\")\n",
    "print(arr1)\n",
    "print(\"The Shape of Numpy array is:\")\n",
    "print(arr1.shape)"
   ]
  },
  {
   "cell_type": "code",
   "execution_count": 36,
   "id": "7ffabc22",
   "metadata": {},
   "outputs": [
    {
     "name": "stdout",
     "output_type": "stream",
     "text": [
      "The Numpy array is:\n",
      "[[1 2 3 4 5]\n",
      " [4 5 6 7 8]\n",
      " [9 8 7 6 5]]\n",
      "The Sliced Numpy Array is :\n",
      "[9 8 7 6 5]\n",
      "The Shape of Numpy array is:\n",
      "(5,)\n"
     ]
    }
   ],
   "source": [
    "import numpy as np\n",
    "arr = np.array([[1,2,3,4,5],[4,5,6,7,8],[9,8,7,6,5]])#2D\n",
    "print(\"The Numpy array is:\")\n",
    "print(arr)\n",
    "arr1= arr[2,:] # row 2 onwords and all columns (2, which print rank1 matrix)\n",
    "print(\"The Sliced Numpy Array is :\")\n",
    "print(arr1)\n",
    "print(\"The Shape of Numpy array is:\")\n",
    "print(arr1.shape)"
   ]
  },
  {
   "cell_type": "code",
   "execution_count": null,
   "id": "5702ebf0",
   "metadata": {},
   "outputs": [],
   "source": []
  }
 ],
 "metadata": {
  "kernelspec": {
   "display_name": "Python 3 (ipykernel)",
   "language": "python",
   "name": "python3"
  },
  "language_info": {
   "codemirror_mode": {
    "name": "ipython",
    "version": 3
   },
   "file_extension": ".py",
   "mimetype": "text/x-python",
   "name": "python",
   "nbconvert_exporter": "python",
   "pygments_lexer": "ipython3",
   "version": "3.7.0"
  }
 },
 "nbformat": 4,
 "nbformat_minor": 5
}
