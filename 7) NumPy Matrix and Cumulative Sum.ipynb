{
 "cells": [
  {
   "cell_type": "code",
   "execution_count": 22,
   "id": "0ed69b94",
   "metadata": {},
   "outputs": [],
   "source": [
    "# Matrix always 2D and Numpy is nd"
   ]
  },
  {
   "cell_type": "code",
   "execution_count": 23,
   "id": "d7f952c5",
   "metadata": {},
   "outputs": [
    {
     "name": "stdout",
     "output_type": "stream",
     "text": [
      "The matrix a is :\n",
      "[[1 2]\n",
      " [4 5]]\n",
      "The matrix b is:\n",
      "[[7 8]\n",
      " [2 3]]\n"
     ]
    }
   ],
   "source": [
    "import numpy as np\n",
    "a= np.matrix([[1,2],[4,5]])# consider to be strictly 2 dimension\n",
    "b=np.matrix([[7,8],[2,3]])# consider to be strictly 2 dimension\n",
    "print(\"The matrix a is :\")\n",
    "print(a)\n",
    "print(\"The matrix b is:\")\n",
    "print(b)"
   ]
  },
  {
   "cell_type": "code",
   "execution_count": 4,
   "id": "632ade7e",
   "metadata": {},
   "outputs": [],
   "source": [
    "# Convert Numpy Array into a matrix using matrix() function(first need to check dimensions)"
   ]
  },
  {
   "cell_type": "code",
   "execution_count": 5,
   "id": "ac4f279a",
   "metadata": {},
   "outputs": [
    {
     "name": "stdout",
     "output_type": "stream",
     "text": [
      "The matrix c is:\n",
      "[[1 2]\n",
      " [4 5]]\n",
      "The matrix d is:\n",
      "[[7 8]\n",
      " [2 3]]\n"
     ]
    }
   ],
   "source": [
    "import numpy as np\n",
    "a=np.array([[1,2],[4,5]]) # ALWAYS TRY TO CONVERT INTO 2D MATRIX else we get error\n",
    "b=np.array([[7,8],[2,3]])\n",
    "c=np.asmatrix(a)\n",
    "d=np.asmatrix(b)\n",
    "print(\"The matrix c is:\")\n",
    "print(c)\n",
    "print(\"The matrix d is:\")\n",
    "print(d)"
   ]
  },
  {
   "cell_type": "code",
   "execution_count": 6,
   "id": "0e3a2380",
   "metadata": {},
   "outputs": [],
   "source": [
    "# first  difference between matrix and numpy array is matrix always 2D and numpy array is nd"
   ]
  },
  {
   "cell_type": "code",
   "execution_count": 7,
   "id": "6958dd61",
   "metadata": {},
   "outputs": [],
   "source": [
    "import numpy as np"
   ]
  },
  {
   "cell_type": "code",
   "execution_count": 9,
   "id": "f32130f1",
   "metadata": {},
   "outputs": [
    {
     "name": "stdout",
     "output_type": "stream",
     "text": [
      "The product of x1 and y1 is:\n",
      "[[ 7 16]\n",
      " [ 8 15]]\n",
      "The product of x2 and y2 is\n",
      "[[11 14]\n",
      " [38 47]]\n"
     ]
    }
   ],
   "source": [
    "x1=np.array([[1,2],[4,5]])\n",
    "y1=np.array([[7,8],[2,3]])\n",
    "print(\"The product of x1 and y1 is:\")#element -by-element multiplication\n",
    "print(x1*y1)\n",
    "x2=np.matrix([[1,2],[4,5]])# 2*2 MATRIX\n",
    "y2=np.matrix([[7,8],[2,3]]) #2*2 MATRIX\n",
    "print(\"The product of x2 and y2 is\") #dot product;same as np.dot() (Miltply row and columns and + sign in betwewwn because it is dot product)\n",
    "print(x2*y2)\n"
   ]
  },
  {
   "cell_type": "code",
   "execution_count": 11,
   "id": "05f31b48",
   "metadata": {},
   "outputs": [],
   "source": [
    "# when we deal numerical data we need cumulative cumsum() function (Cumulative sum hr aik element ka sum hoga)"
   ]
  },
  {
   "cell_type": "code",
   "execution_count": 16,
   "id": "b11819a7",
   "metadata": {},
   "outputs": [
    {
     "name": "stdout",
     "output_type": "stream",
     "text": [
      "The value of array A is:\n",
      "[[1 2 3]\n",
      " [4 5 6]\n",
      " [7 8 9]]\n",
      "The cumulative cumsum of all element in array is:\n",
      "[ 1  3  6 10 15 21 28 36 45]\n"
     ]
    }
   ],
   "source": [
    "import numpy as np\n",
    "A=np.array([(1,2,3),(4,5,6),(7,8,9)])\n",
    "print(\"The value of array A is:\")\n",
    "print(A)\n",
    "print(\"The cumulative cumsum of all element in array is:\")\n",
    "print(A.cumsum()) # 1,1+2,3+3,6+4,.......\n"
   ]
  },
  {
   "cell_type": "code",
   "execution_count": null,
   "id": "aef8b46f",
   "metadata": {},
   "outputs": [],
   "source": [
    "# cumulative cumsum columns"
   ]
  },
  {
   "cell_type": "code",
   "execution_count": 20,
   "id": "fc663c53",
   "metadata": {},
   "outputs": [
    {
     "name": "stdout",
     "output_type": "stream",
     "text": [
      "The value of array A is:\n",
      "[[1 2 3]\n",
      " [4 5 6]\n",
      " [7 8 9]]\n",
      "The commulative cumsum of all the element in each columns of the array is:\n",
      "[[ 1  3  6]\n",
      " [ 4  9 15]\n",
      " [ 7 15 24]]\n"
     ]
    }
   ],
   "source": [
    "import numpy as np\n",
    "A=np.array([(1,2,3),(4,5,6),(7,8,9)])\n",
    "print(\"The value of array A is:\")\n",
    "print(A)\n",
    "print(\"The commulative cumsum of all the element in each columns of the array is:\")\n",
    "print(A.cumsum(axis=1))# sum of rows"
   ]
  },
  {
   "cell_type": "code",
   "execution_count": 21,
   "id": "7ae5c9c1",
   "metadata": {},
   "outputs": [],
   "source": [
    "# cumulative cumsum rows"
   ]
  },
  {
   "cell_type": "code",
   "execution_count": 18,
   "id": "e71eefb5",
   "metadata": {},
   "outputs": [
    {
     "name": "stdout",
     "output_type": "stream",
     "text": [
      "The value of array A is:\n",
      "[[1 2 3]\n",
      " [4 5 6]\n",
      " [7 8 9]]\n",
      "The commulative cumsum of all the element in each columns of the array is:\n",
      "[[ 1  2  3]\n",
      " [ 5  7  9]\n",
      " [12 15 18]]\n"
     ]
    }
   ],
   "source": [
    "import numpy as np\n",
    "A=np.array([(1,2,3),(4,5,6),(7,8,9)])\n",
    "print(\"The value of array A is:\")\n",
    "print(A)\n",
    "print(\"The commulative cumsum of all the element in each columns of the array is:\")\n",
    "print(A.cumsum(axis=0))# sum of columns"
   ]
  },
  {
   "cell_type": "code",
   "execution_count": null,
   "id": "8dd27b6c",
   "metadata": {},
   "outputs": [],
   "source": []
  }
 ],
 "metadata": {
  "kernelspec": {
   "display_name": "Python 3 (ipykernel)",
   "language": "python",
   "name": "python3"
  },
  "language_info": {
   "codemirror_mode": {
    "name": "ipython",
    "version": 3
   },
   "file_extension": ".py",
   "mimetype": "text/x-python",
   "name": "python",
   "nbconvert_exporter": "python",
   "pygments_lexer": "ipython3",
   "version": "3.7.0"
  }
 },
 "nbformat": 4,
 "nbformat_minor": 5
}
