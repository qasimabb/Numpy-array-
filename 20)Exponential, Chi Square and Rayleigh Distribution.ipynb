{
 "cells": [
  {
   "cell_type": "markdown",
   "id": "4033cf35",
   "metadata": {},
   "source": [
    "# Exponential Distribution"
   ]
  },
  {
   "cell_type": "code",
   "execution_count": 8,
   "id": "bfa44af5",
   "metadata": {},
   "outputs": [],
   "source": [
    "#it is used for describing time till next event \n",
    "#for example a event ha been occured at this moment and next time certainly another event is going to be occured\n",
    "# we will consider throughout time from this event to the next event for example we are having a failure right now\n",
    "#if we talk about an event we just got paid so unless or until we havenot succeed for the next time the \n",
    "#duration will be consider for the exponential  distribution\n",
    "#e.g Failure/Success etc\n",
    "# it has 2 parameter\n",
    "# scale-inverse of the rate of an event it has default value=1\n",
    "# size-That will returned the shape of the array"
   ]
  },
  {
   "cell_type": "code",
   "execution_count": 9,
   "id": "1ff9db88",
   "metadata": {},
   "outputs": [
    {
     "name": "stdout",
     "output_type": "stream",
     "text": [
      "[[0.88584377 5.44480452 5.29854888]\n",
      " [3.25168662 3.82255564 5.03923596]]\n"
     ]
    }
   ],
   "source": [
    "# Draw out a sample for exponential distribution with 2.0 scale with 2x3 size\n",
    "import numpy as np\n",
    "from numpy import random\n",
    "x=random.exponential(scale=2,size=(2,3)) # for exponential dist with arguments scale(inverse of rate)\n",
    "                                          # size=(2,3) = 2 rows and every row consist of three elements\n",
    "print(x)"
   ]
  },
  {
   "cell_type": "markdown",
   "id": "39e7169e",
   "metadata": {},
   "source": [
    "# Visualization of Exponential Distribution"
   ]
  },
  {
   "cell_type": "code",
   "execution_count": 10,
   "id": "49384c7c",
   "metadata": {},
   "outputs": [
    {
     "name": "stderr",
     "output_type": "stream",
     "text": [
      "e:\\new folder\\lib\\site-packages\\seaborn\\distributions.py:2619: FutureWarning: `distplot` is a deprecated function and will be removed in a future version. Please adapt your code to use either `displot` (a figure-level function with similar flexibility) or `kdeplot` (an axes-level function for kernel density plots).\n",
      "  warnings.warn(msg, FutureWarning)\n"
     ]
    },
    {
     "data": {
      "image/png": "[encoded data removed]",
      "text/plain": [
       "<Figure size 432x288 with 1 Axes>"
      ]
     },
     "metadata": {
      "needs_background": "light"
     },
     "output_type": "display_data"
    }
   ],
   "source": [
    "import numpy as np # for array\n",
    "from numpy import random # for random number\n",
    "import matplotlib.pyplot as plt #for plotting\n",
    "import seaborn as sns # for distribution plot\n",
    "sns.distplot(random.exponential(size=1000),hist=False) #for making exponential dist\n",
    "plt.show()"
   ]
  },
  {
   "cell_type": "code",
   "execution_count": 11,
   "id": "61747684",
   "metadata": {},
   "outputs": [],
   "source": [
    "# exponential dist for size of 1000 values on x axis respectively and on y axis it represent probab density"
   ]
  },
  {
   "cell_type": "markdown",
   "id": "90988643",
   "metadata": {},
   "source": [
    "# Relation between Poisson Dist and Exponential Dist"
   ]
  },
  {
   "cell_type": "code",
   "execution_count": null,
   "id": "df557839",
   "metadata": {},
   "outputs": [],
   "source": [
    "# Poisson dist deals with number of occurrences of an event in a time period i.e how many times an event occurred \n",
    "                                                                         # in a particular duration\n",
    "                                                                         # that is called poisson dist\n",
    "#Exponential dist deal with the time between the event for example we got success then we have to counter time\n",
    "#for next event to get occurred i.e failure \n",
    "# time duration is consider under the exponential dist"
   ]
  },
  {
   "cell_type": "markdown",
   "id": "ba9f7faf",
   "metadata": {},
   "source": [
    "# Chi Square Distribution"
   ]
  },
  {
   "cell_type": "code",
   "execution_count": 14,
   "id": "65c9489c",
   "metadata": {},
   "outputs": [],
   "source": [
    "# it is use to as basis to verify the  hypothesis, hypothesis is like if we have given statement we donot know \n",
    "# weather it is true or False,in order to verify the hypothesis we use Chi-Square Dist\n",
    "#it also has 2 parameter\n",
    "# df(degree of freedom)\n",
    "# size-shape of the array you want to return"
   ]
  },
  {
   "cell_type": "code",
   "execution_count": 15,
   "id": "5e45db1b",
   "metadata": {},
   "outputs": [
    {
     "name": "stdout",
     "output_type": "stream",
     "text": [
      "[[3.18684372 2.80552252 3.18212606]\n",
      " [0.8303179  3.78555783 1.42415016]]\n"
     ]
    }
   ],
   "source": [
    "# Draw out a sample for chi squared distribution with degree of freedom 2 with size 2x3\n",
    "import numpy as np\n",
    "from numpy import random\n",
    "x=random.chisquare(df=2, size=(2,3)) # here is Chi square dist, df =2 (degree of freedom)\n",
    "                                      # size=(2,3) , 2 rows every row contain 3 elements\n",
    "print(x)"
   ]
  },
  {
   "cell_type": "markdown",
   "id": "4baebf07",
   "metadata": {},
   "source": [
    "# Visualization of Chi Square Distribution"
   ]
  },
  {
   "cell_type": "code",
   "execution_count": 16,
   "id": "10d3861f",
   "metadata": {},
   "outputs": [
    {
     "name": "stderr",
     "output_type": "stream",
     "text": [
      "e:\\new folder\\lib\\site-packages\\seaborn\\distributions.py:2619: FutureWarning: `distplot` is a deprecated function and will be removed in a future version. Please adapt your code to use either `displot` (a figure-level function with similar flexibility) or `kdeplot` (an axes-level function for kernel density plots).\n",
      "  warnings.warn(msg, FutureWarning)\n"
     ]
    },
    {
     "data": {
      "image/png": "[encoded data removed]",
      "text/plain": [
       "<Figure size 432x288 with 1 Axes>"
      ]
     },
     "metadata": {
      "needs_background": "light"
     },
     "output_type": "display_data"
    }
   ],
   "source": [
    "import numpy as np\n",
    "from numpy import random\n",
    "import matplotlib.pyplot as plt\n",
    "import seaborn as sns\n",
    "sns.distplot(random.chisquare(df=1,size=1000),hist=False) # for chi square dist visualization\n",
    "plt.show()"
   ]
  },
  {
   "cell_type": "code",
   "execution_count": 17,
   "id": "92842714",
   "metadata": {},
   "outputs": [],
   "source": [
    "# This is the distribution plot of chi Square \n",
    "# kindly ignore warning which is coming from distplot"
   ]
  },
  {
   "cell_type": "markdown",
   "id": "81d65d93",
   "metadata": {},
   "source": [
    "# Rayleigh Distribution"
   ]
  },
  {
   "cell_type": "code",
   "execution_count": 18,
   "id": "619293ec",
   "metadata": {},
   "outputs": [],
   "source": [
    "# it is use for signal proccessing,it also has 2 parameters\n",
    "# scale-(standard Deviation) it will decide how flat the distribution will be,it's default value is 1\n",
    "# size- the shape of the returned array"
   ]
  },
  {
   "cell_type": "code",
   "execution_count": 20,
   "id": "6300c7e3",
   "metadata": {},
   "outputs": [
    {
     "name": "stdout",
     "output_type": "stream",
     "text": [
      "[[2.60406043 1.74172238 0.44463194]\n",
      " [2.6349454  1.70417015 4.04129724]]\n"
     ]
    }
   ],
   "source": [
    "# Draw out a sample for rayleigh distribution with scale of 2 with size 2x3\n",
    "import numpy as np\n",
    "from numpy import random\n",
    "x=random.rayleigh(scale=2,size=(2,3)) # for Rayleigh Distribution ,scale(standard dev)=2, 2 rows with 3 elements\n",
    "print(x)"
   ]
  },
  {
   "cell_type": "markdown",
   "id": "c54be8ce",
   "metadata": {},
   "source": [
    "# Visualization of Rayleigh Method"
   ]
  },
  {
   "cell_type": "code",
   "execution_count": 22,
   "id": "16481266",
   "metadata": {},
   "outputs": [
    {
     "name": "stderr",
     "output_type": "stream",
     "text": [
      "e:\\new folder\\lib\\site-packages\\seaborn\\distributions.py:2619: FutureWarning: `distplot` is a deprecated function and will be removed in a future version. Please adapt your code to use either `displot` (a figure-level function with similar flexibility) or `kdeplot` (an axes-level function for kernel density plots).\n",
      "  warnings.warn(msg, FutureWarning)\n"
     ]
    },
    {
     "data": {
      "image/png": "[encoded data removed]",
      "text/plain": [
       "<Figure size 432x288 with 1 Axes>"
      ]
     },
     "metadata": {
      "needs_background": "light"
     },
     "output_type": "display_data"
    }
   ],
   "source": [
    "import numpy as np\n",
    "from numpy import random\n",
    "import matplotlib.pyplot as plt\n",
    "import seaborn as sns\n",
    "sns.distplot(random.rayleigh(size=1000),hist=False) # for visualization of Rayleigh Dist\n",
    "plt.show()"
   ]
  },
  {
   "cell_type": "code",
   "execution_count": 23,
   "id": "a1eedf95",
   "metadata": {},
   "outputs": [],
   "source": [
    "# contain 1000 values ,on x axis plot respective values and on y axis plot probability density"
   ]
  },
  {
   "cell_type": "markdown",
   "id": "034f6a53",
   "metadata": {},
   "source": [
    "# Similarity Between Rayleigh And Chi Square Distribution"
   ]
  },
  {
   "cell_type": "code",
   "execution_count": 24,
   "id": "dfc6fa15",
   "metadata": {},
   "outputs": [],
   "source": [
    "# if we take value of rayleigh distequal to 1 as a standard deviation and 2 Degree of freedom for Chi square\n",
    "# then they will show a compatible graph if we perform a Comparision"
   ]
  },
  {
   "cell_type": "code",
   "execution_count": 26,
   "id": "c790a1aa",
   "metadata": {},
   "outputs": [
    {
     "name": "stderr",
     "output_type": "stream",
     "text": [
      "e:\\new folder\\lib\\site-packages\\seaborn\\distributions.py:2619: FutureWarning: `distplot` is a deprecated function and will be removed in a future version. Please adapt your code to use either `displot` (a figure-level function with similar flexibility) or `kdeplot` (an axes-level function for kernel density plots).\n",
      "  warnings.warn(msg, FutureWarning)\n",
      "e:\\new folder\\lib\\site-packages\\seaborn\\distributions.py:2619: FutureWarning: `distplot` is a deprecated function and will be removed in a future version. Please adapt your code to use either `displot` (a figure-level function with similar flexibility) or `kdeplot` (an axes-level function for kernel density plots).\n",
      "  warnings.warn(msg, FutureWarning)\n"
     ]
    },
    {
     "data": {
      "image/png": "[encoded data removed]",
      "text/plain": [
       "<Figure size 432x288 with 1 Axes>"
      ]
     },
     "metadata": {
      "needs_background": "light"
     },
     "output_type": "display_data"
    }
   ],
   "source": [
    "# Distribution plot for Rayleigh and Chi-Square\n",
    "import numpy as np\n",
    "from numpy import random\n",
    "import matplotlib.pyplot as plt\n",
    "import seaborn as sns\n",
    "sns.distplot(random.rayleigh(scale=1,size=(2,3)),hist=False)# for rayleigh\n",
    "sns.distplot(random.chisquare(df=2,size=(2,3)),hist=False)# chi square\n",
    "plt.show()"
   ]
  },
  {
   "cell_type": "code",
   "execution_count": null,
   "id": "5a42448a",
   "metadata": {},
   "outputs": [],
   "source": [
    "# Graph of rayleigh and Chi Square,similarity is so less but we can say area under the both curve have some\n",
    "                                  # similarity"
   ]
  },
  {
   "cell_type": "code",
   "execution_count": null,
   "id": "c18a7742",
   "metadata": {},
   "outputs": [],
   "source": []
  }
 ],
 "metadata": {
  "kernelspec": {
   "display_name": "Python 3 (ipykernel)",
   "language": "python",
   "name": "python3"
  },
  "language_info": {
   "codemirror_mode": {
    "name": "ipython",
    "version": 3
   },
   "file_extension": ".py",
   "mimetype": "text/x-python",
   "name": "python",
   "nbconvert_exporter": "python",
   "pygments_lexer": "ipython3",
   "version": "3.7.0"
  }
 },
 "nbformat": 4,
 "nbformat_minor": 5
}
