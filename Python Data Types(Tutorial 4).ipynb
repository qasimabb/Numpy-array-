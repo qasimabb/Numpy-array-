{
 "cells": [
  {
   "cell_type": "markdown",
   "id": "8ce1674a",
   "metadata": {},
   "source": [
    "# NumPy Array Reshape"
   ]
  },
  {
   "cell_type": "code",
   "execution_count": 1,
   "id": "0503e59b",
   "metadata": {},
   "outputs": [],
   "source": [
    "# We can reshape an array to another dimension using the reshape() function"
   ]
  },
  {
   "cell_type": "code",
   "execution_count": 10,
   "id": "e221788a",
   "metadata": {},
   "outputs": [
    {
     "name": "stdout",
     "output_type": "stream",
     "text": [
      "The NumPy array is: [1 2 3 4 5]\n",
      "(5,)\n",
      "The reshape NumPy array is: [[1 2 3 4 5]]\n",
      "(1, 5)\n",
      "[[[1 2 3 4 5]]]\n",
      "(1, 1, 5)\n",
      "[[[[1 2 3 4 5]]]]\n",
      "(1, 1, 1, 5)\n"
     ]
    }
   ],
   "source": [
    "import numpy as np\n",
    "list=[1,2,3,4,5]\n",
    "arr=np.array(list)\n",
    "print(\"The NumPy array is:\",arr)\n",
    "print(arr.shape)#Rank1\n",
    "arr1=arr.reshape(1,-1)#Rank 2(1 represent we want to convert it to rank2 with 1 row )(-1 represent letting the system itself decide how many column will be after reshape)\n",
    "print(\"The reshape NumPy array is:\",arr1)\n",
    "print(arr1.shape)\n",
    "arr2 = arr1.reshape(1,1,-1)# when we try to add one more rank 3D Matrix\n",
    "print(arr2)\n",
    "print(arr2.shape)\n",
    "arr3=arr1.reshape(1,1,1,-1)# when we try to add one more rank 4D Matrix\n",
    "print(arr3)\n",
    "print(arr3.shape)\n"
   ]
  },
  {
   "cell_type": "code",
   "execution_count": 11,
   "id": "307199b8",
   "metadata": {},
   "outputs": [],
   "source": [
    "# Same Code but we are not leaving on system to decide how many columns After reshaping"
   ]
  },
  {
   "cell_type": "code",
   "execution_count": 14,
   "id": "9b7fbc43",
   "metadata": {},
   "outputs": [
    {
     "name": "stdout",
     "output_type": "stream",
     "text": [
      "The NumPy array is: [1 2 3 4 5]\n",
      "(5,)\n",
      "The reshape NumPy array is: [[1 2 3 4 5]]\n",
      "(1, 5)\n",
      "[[[1 2 3 4 5]]]\n",
      "(1, 1, 5)\n",
      "[[[[1 2 3 4 5]]]]\n",
      "(1, 1, 1, 5)\n"
     ]
    }
   ],
   "source": [
    "import numpy as np\n",
    "list=[1,2,3,4,5]\n",
    "arr=np.array(list)\n",
    "print(\"The NumPy array is:\",arr)\n",
    "print(arr.shape)#Rank1\n",
    "arr1=arr.reshape(1,5)#Rank 2(1 represent we want to convert it to rank2 with 1 row )(only Change here)\n",
    "print(\"The reshape NumPy array is:\",arr1)\n",
    "print(arr1.shape)\n",
    "arr2 = arr1.reshape(1,1,-1)# when we try to add one more rank 3D Matrix\n",
    "print(arr2)\n",
    "print(arr2.shape)\n",
    "arr3=arr1.reshape(1,1,1,-1)# when we try to add one more rank 4D Matrix\n",
    "print(arr3)\n",
    "print(arr3.shape)\n"
   ]
  },
  {
   "cell_type": "code",
   "execution_count": 15,
   "id": "045f2253",
   "metadata": {},
   "outputs": [],
   "source": [
    "#lets Consider another code to reshape \"arr1\"(which is rank 2 array) to rank1"
   ]
  },
  {
   "cell_type": "code",
   "execution_count": 19,
   "id": "bf902833",
   "metadata": {},
   "outputs": [
    {
     "name": "stdout",
     "output_type": "stream",
     "text": [
      "The Numpy array is: [[1 2 3 4 5]]\n",
      "The reshape NumPy is: [1 2 3 4 5]\n"
     ]
    }
   ],
   "source": [
    "import numpy as np\n",
    "list=[1,2,3,4,5]\n",
    "arr1=np.array([list])\n",
    "print(\"The Numpy array is:\",arr1)#rank 2 matrix\n",
    "arr=arr1.reshape(-1,)#(we convert rank 2 matrix to rank 1 matrix with the help of -1 arguments )\n",
    "print(\"The reshape NumPy is:\",arr)\n"
   ]
  },
  {
   "cell_type": "code",
   "execution_count": null,
   "id": "ccd13e83",
   "metadata": {},
   "outputs": [],
   "source": [
    "#Instead of reshape function"
   ]
  },
  {
   "cell_type": "code",
   "execution_count": 20,
   "id": "9f36c000",
   "metadata": {},
   "outputs": [
    {
     "name": "stdout",
     "output_type": "stream",
     "text": [
      "The Numpy array is: [[1 2 3 4 5]]\n",
      "The reshape NumPy is: [1 2 3 4 5]\n"
     ]
    }
   ],
   "source": [
    "import numpy as np\n",
    "list=[1,2,3,4,5]\n",
    "arr1=np.array([list])\n",
    "print(\"The Numpy array is:\",arr1)#rank 2 matrix\n",
    "arr=arr1.flatten()#(we convert rank 2 matrix to rank 1 matrix with the help of flatten function )\n",
    "print(\"The reshape NumPy is:\",arr)\n"
   ]
  },
  {
   "cell_type": "code",
   "execution_count": 22,
   "id": "4b4d364a",
   "metadata": {},
   "outputs": [
    {
     "name": "stdout",
     "output_type": "stream",
     "text": [
      "The Numpy array is: [[1 2 3 4 5]]\n",
      "The reshape NumPy is: [1 2 3 4 5]\n"
     ]
    }
   ],
   "source": [
    "import numpy as np\n",
    "list=[1,2,3,4,5]\n",
    "arr1=np.array([list])\n",
    "print(\"The Numpy array is:\",arr1)#rank 2 matrix\n",
    "arr=arr1.ravel() #(we convert rank 2 matrix to rank 1 matrix with the help of ravel function )\n",
    "print(\"The reshape NumPy is:\",arr)\n"
   ]
  },
  {
   "cell_type": "code",
   "execution_count": 23,
   "id": "502495fc",
   "metadata": {},
   "outputs": [],
   "source": [
    "# Data type of python are 5\n",
    "#string,integers,float,boolean,complex\n",
    "#Data types in NumPy are 11 represent by i,b,u,f,c,m,M,O,S,U,V"
   ]
  },
  {
   "cell_type": "markdown",
   "id": "9ad70605",
   "metadata": {},
   "source": [
    "# Data Types in NumPy"
   ]
  },
  {
   "cell_type": "code",
   "execution_count": 24,
   "id": "fe330f4e",
   "metadata": {},
   "outputs": [],
   "source": [
    "#Get the data type of an array object"
   ]
  },
  {
   "cell_type": "code",
   "execution_count": 26,
   "id": "031acf51",
   "metadata": {},
   "outputs": [
    {
     "name": "stdout",
     "output_type": "stream",
     "text": [
      "The data type of arr is: int32\n"
     ]
    }
   ],
   "source": [
    "import numpy as np\n",
    "arr=np.array([1,2,3,4,])#list have integeres so dtype will be integers\n",
    "print(\"The data type of arr is:\" ,arr.dtype)"
   ]
  },
  {
   "cell_type": "code",
   "execution_count": 27,
   "id": "8c198dde",
   "metadata": {},
   "outputs": [],
   "source": [
    "# Get the data type of an array consisting strings"
   ]
  },
  {
   "cell_type": "code",
   "execution_count": 29,
   "id": "94eb38a7",
   "metadata": {},
   "outputs": [
    {
     "name": "stdout",
     "output_type": "stream",
     "text": [
      "the data type of arr is: <U6\n"
     ]
    }
   ],
   "source": [
    "import numpy as np\n",
    "arr=np.array(['apple','banana','cherry'])\n",
    "print(\"the data type of arr is:\", arr.dtype) # U is unicode strings\n"
   ]
  },
  {
   "cell_type": "markdown",
   "id": "964fdc00",
   "metadata": {},
   "source": [
    "# Creating Array with a Defined Data Type"
   ]
  },
  {
   "cell_type": "code",
   "execution_count": 33,
   "id": "42c60594",
   "metadata": {},
   "outputs": [
    {
     "name": "stdout",
     "output_type": "stream",
     "text": [
      "The value of arr is: [b'1' b'2' b'3' b'4']\n",
      "The data type of arr is: |S1\n"
     ]
    }
   ],
   "source": [
    "# create an array with data type string\n",
    "import numpy as np\n",
    "arr=np.array([1,2,3,4],dtype='S')# integers convert into strings\n",
    "print(\"The value of arr is:\",arr)\n",
    "print(\"The data type of arr is:\",arr.dtype)"
   ]
  },
  {
   "cell_type": "code",
   "execution_count": 34,
   "id": "fc17a9a4",
   "metadata": {},
   "outputs": [],
   "source": [
    "# create an array with data type 4 bytes integers"
   ]
  },
  {
   "cell_type": "code",
   "execution_count": 37,
   "id": "4f1fa442",
   "metadata": {},
   "outputs": [
    {
     "name": "stdout",
     "output_type": "stream",
     "text": [
      "The value of arr: [1 2 3 4]\n",
      "The data type of arr is int32\n"
     ]
    }
   ],
   "source": [
    "import numpy as np\n",
    "arr=np.array([1,2,3,4],dtype=\"i4\")# all elements in list willbe of 8 bytes so total is int32\n",
    "print(\"The value of arr:\", arr)\n",
    "print(\"The data type of arr is\",arr.dtype)"
   ]
  },
  {
   "cell_type": "code",
   "execution_count": 42,
   "id": "88f51448",
   "metadata": {},
   "outputs": [
    {
     "name": "stdout",
     "output_type": "stream",
     "text": [
      "The value of arr: [1 2 3 4]\n",
      "The data type of arr is int64\n"
     ]
    }
   ],
   "source": [
    "import numpy as np\n",
    "arr=np.array([1,2,3,4],dtype=\"i8\") # all elements in list willbe of 16 bytes so total is int32\n",
    "print(\"The value of arr:\", arr)\n",
    "print(\"The data type of arr is\",arr.dtype)"
   ]
  },
  {
   "cell_type": "markdown",
   "id": "c10e13f4",
   "metadata": {},
   "source": [
    "# Value Error"
   ]
  },
  {
   "cell_type": "code",
   "execution_count": 43,
   "id": "3309ad71",
   "metadata": {},
   "outputs": [
    {
     "ename": "ValueError",
     "evalue": "invalid literal for int() with base 10: 'a'",
     "output_type": "error",
     "traceback": [
      "\u001b[1;31m---------------------------------------------------------------------------\u001b[0m",
      "\u001b[1;31mValueError\u001b[0m                                Traceback (most recent call last)",
      "\u001b[1;32m~\\AppData\\Local\\Temp/ipykernel_11964/3545004810.py\u001b[0m in \u001b[0;36m<module>\u001b[1;34m\u001b[0m\n\u001b[0;32m      1\u001b[0m \u001b[1;32mimport\u001b[0m \u001b[0mnumpy\u001b[0m \u001b[1;32mas\u001b[0m \u001b[0mnp\u001b[0m\u001b[1;33m\u001b[0m\u001b[0m\n\u001b[1;32m----> 2\u001b[1;33m \u001b[0marr\u001b[0m\u001b[1;33m=\u001b[0m\u001b[0mnp\u001b[0m\u001b[1;33m.\u001b[0m\u001b[0marray\u001b[0m\u001b[1;33m(\u001b[0m\u001b[1;33m[\u001b[0m\u001b[1;34m'a'\u001b[0m\u001b[1;33m,\u001b[0m\u001b[1;34m'2'\u001b[0m\u001b[1;33m,\u001b[0m\u001b[1;34m'3'\u001b[0m\u001b[1;33m]\u001b[0m\u001b[1;33m,\u001b[0m\u001b[0mdtype\u001b[0m\u001b[1;33m=\u001b[0m\u001b[1;34m'i'\u001b[0m\u001b[1;33m)\u001b[0m\u001b[1;31m# string can not convert into integer\u001b[0m\u001b[1;33m\u001b[0m\u001b[0m\n\u001b[0m\u001b[0;32m      3\u001b[0m \u001b[0mprint\u001b[0m\u001b[1;33m(\u001b[0m\u001b[1;34m\"The value of arr is:\"\u001b[0m\u001b[1;33m,\u001b[0m\u001b[0marr\u001b[0m\u001b[1;33m)\u001b[0m\u001b[1;33m\u001b[0m\u001b[0m\n",
      "\u001b[1;31mValueError\u001b[0m: invalid literal for int() with base 10: 'a'"
     ]
    }
   ],
   "source": [
    "import numpy as np\n",
    "arr=np.array(['a','2','3'],dtype='i')# string can not convert into integer\n",
    "print(\"The value of arr is:\",arr)"
   ]
  },
  {
   "cell_type": "markdown",
   "id": "836ca515",
   "metadata": {},
   "source": [
    "# Converting Data Type on Existing arrays"
   ]
  },
  {
   "cell_type": "code",
   "execution_count": 44,
   "id": "a9618321",
   "metadata": {},
   "outputs": [],
   "source": [
    "# we can make a copy of array with astype( method)"
   ]
  },
  {
   "cell_type": "code",
   "execution_count": 46,
   "id": "7bf5c8bc",
   "metadata": {},
   "outputs": [
    {
     "name": "stdout",
     "output_type": "stream",
     "text": [
      "The value of new arr is: [1 2 3]\n",
      "The data type of newarr is: int32\n"
     ]
    }
   ],
   "source": [
    "import numpy as np\n",
    "arr=np.array([1.1,2.1,3.1])\n",
    "newarr=arr.astype('i')# change float to integers\n",
    "print(\"The value of new arr is:\",newarr)\n",
    "print(\"The data type of newarr is:\",newarr.dtype)"
   ]
  },
  {
   "cell_type": "code",
   "execution_count": 47,
   "id": "f9d9fdde",
   "metadata": {},
   "outputs": [
    {
     "name": "stdout",
     "output_type": "stream",
     "text": [
      "The value of new arr is: [1 2 3]\n",
      "The data type of newarr is: int32\n"
     ]
    }
   ],
   "source": [
    "import numpy as np\n",
    "arr=np.array([1.1,2.1,3.1])\n",
    "newarr=arr.astype(int)# change float to integers\n",
    "print(\"The value of new arr is:\",newarr)\n",
    "print(\"The data type of newarr is:\",newarr.dtype)"
   ]
  },
  {
   "cell_type": "code",
   "execution_count": 48,
   "id": "6cb8690b",
   "metadata": {},
   "outputs": [],
   "source": [
    "# Change data type from integer to Boolean"
   ]
  },
  {
   "cell_type": "code",
   "execution_count": 51,
   "id": "d76cd92c",
   "metadata": {},
   "outputs": [
    {
     "name": "stdout",
     "output_type": "stream",
     "text": [
      "The value of newarr is: [ True False  True]\n",
      "The data type of newarr is: bool\n"
     ]
    }
   ],
   "source": [
    "import numpy as np\n",
    "arr=np.array([1,0,3])#0 represent by false\n",
    "newarr=arr.astype(bool)\n",
    "print(\"The value of newarr is:\",newarr)\n",
    "print(\"The data type of newarr is:\",newarr.dtype)"
   ]
  },
  {
   "cell_type": "code",
   "execution_count": 52,
   "id": "7f3fc102",
   "metadata": {},
   "outputs": [
    {
     "name": "stdout",
     "output_type": "stream",
     "text": [
      "The value of newarr is: [ True  True  True]\n",
      "The data type of newarr is: bool\n"
     ]
    }
   ],
   "source": [
    "import numpy as np\n",
    "arr=np.array([1.5,3.4,3.8])#0 represent by false\n",
    "newarr=arr.astype(bool)\n",
    "print(\"The value of newarr is:\",newarr)\n",
    "print(\"The data type of newarr is:\",newarr.dtype)"
   ]
  },
  {
   "cell_type": "code",
   "execution_count": null,
   "id": "936d30bd",
   "metadata": {},
   "outputs": [],
   "source": []
  }
 ],
 "metadata": {
  "kernelspec": {
   "display_name": "Python 3 (ipykernel)",
   "language": "python",
   "name": "python3"
  },
  "language_info": {
   "codemirror_mode": {
    "name": "ipython",
    "version": 3
   },
   "file_extension": ".py",
   "mimetype": "text/x-python",
   "name": "python",
   "nbconvert_exporter": "python",
   "pygments_lexer": "ipython3",
   "version": "3.7.0"
  }
 },
 "nbformat": 4,
 "nbformat_minor": 5
}
