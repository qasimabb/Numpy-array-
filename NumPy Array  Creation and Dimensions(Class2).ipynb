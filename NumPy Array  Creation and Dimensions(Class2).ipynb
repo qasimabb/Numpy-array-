{
 "cells": [
  {
   "cell_type": "code",
   "execution_count": 9,
   "id": "8e9e604e",
   "metadata": {},
   "outputs": [],
   "source": [
    "#list as an input and convert to numpy array(1D array)"
   ]
  },
  {
   "cell_type": "code",
   "execution_count": 10,
   "id": "c10844eb",
   "metadata": {},
   "outputs": [
    {
     "name": "stdout",
     "output_type": "stream",
     "text": [
      "[1 2 3 4 5]\n",
      "<class 'numpy.ndarray'>\n"
     ]
    }
   ],
   "source": [
    "import numpy as np\n",
    "list = [1,2,3,4,5]\n",
    "arr=np.array(list)\n",
    "print(arr)\n",
    "print(type(arr))"
   ]
  },
  {
   "cell_type": "code",
   "execution_count": 11,
   "id": "e34784fa",
   "metadata": {},
   "outputs": [],
   "source": [
    "# we can give multiple list as an input "
   ]
  },
  {
   "cell_type": "code",
   "execution_count": 12,
   "id": "c8766930",
   "metadata": {},
   "outputs": [
    {
     "name": "stdout",
     "output_type": "stream",
     "text": [
      "[[ 1  2  3  4  5]\n",
      " [ 6  7  8  9 10]\n",
      " [11 12 13 14 15]]\n",
      "<class 'numpy.ndarray'>\n"
     ]
    }
   ],
   "source": [
    "import numpy as np\n",
    "list1=[1,2,3,4,5]\n",
    "list2=[6,7,8,9,10]\n",
    "list3=[11,12,13,14,15]\n",
    "arr=np.array([list1,list2,list3])\n",
    "print(arr)\n",
    "print(type(arr))"
   ]
  },
  {
   "cell_type": "code",
   "execution_count": 13,
   "id": "fee160e8",
   "metadata": {},
   "outputs": [],
   "source": [
    "# Take Tuple as an input"
   ]
  },
  {
   "cell_type": "code",
   "execution_count": 15,
   "id": "657faeac",
   "metadata": {},
   "outputs": [
    {
     "name": "stdout",
     "output_type": "stream",
     "text": [
      "[1 2 3 4 5]\n",
      "<class 'numpy.ndarray'>\n"
     ]
    }
   ],
   "source": [
    "import numpy as np\n",
    "tuple=(1,2,3,4,5)\n",
    "arr=np.array(tuple)\n",
    "print(arr)\n",
    "print(type(arr))"
   ]
  },
  {
   "cell_type": "code",
   "execution_count": 16,
   "id": "b8d02859",
   "metadata": {},
   "outputs": [],
   "source": [
    "# Take Set as an input"
   ]
  },
  {
   "cell_type": "code",
   "execution_count": 17,
   "id": "37a09095",
   "metadata": {},
   "outputs": [
    {
     "name": "stdout",
     "output_type": "stream",
     "text": [
      "{1, 2, 3, 4, 5}\n",
      "<class 'numpy.ndarray'>\n"
     ]
    }
   ],
   "source": [
    "import numpy as  np\n",
    "set={1,2,3,4,5}\n",
    "arr=np.array(set)\n",
    "print(arr)\n",
    "print(type(arr))\n"
   ]
  },
  {
   "cell_type": "code",
   "execution_count": 18,
   "id": "7fc06969",
   "metadata": {},
   "outputs": [],
   "source": [
    "# Take Dictionary as input"
   ]
  },
  {
   "cell_type": "code",
   "execution_count": 19,
   "id": "2ab1900b",
   "metadata": {},
   "outputs": [
    {
     "name": "stdout",
     "output_type": "stream",
     "text": [
      "{'Name': 'Qasim', 'Surname': 'Abbasi'}\n",
      "<class 'numpy.ndarray'>\n"
     ]
    }
   ],
   "source": [
    "import numpy as np\n",
    "dic = {\"Name\":\"Qasim\", \"Surname\":\"Abbasi\"}\n",
    "arr=np.array(dic)\n",
    "print(arr)\n",
    "print(type(arr))"
   ]
  },
  {
   "cell_type": "markdown",
   "id": "64311fe4",
   "metadata": {},
   "source": [
    "# DIMENSIONS FOR NUMPY ARRAY"
   ]
  },
  {
   "cell_type": "code",
   "execution_count": 20,
   "id": "bb24fb61",
   "metadata": {},
   "outputs": [],
   "source": [
    "# Nested(Array)> array have array inside represent as like an element\n",
    "#dimensions of Numpy are n dimensions\n",
    "#Code for 0-D are given below(it is a scaler quantity)\n",
    "#here 10 is scaler quantity"
   ]
  },
  {
   "cell_type": "code",
   "execution_count": 23,
   "id": "5a231ee0",
   "metadata": {},
   "outputs": [
    {
     "name": "stdout",
     "output_type": "stream",
     "text": [
      "10\n",
      "<class 'numpy.ndarray'>\n"
     ]
    }
   ],
   "source": [
    "import numpy as np\n",
    "arr=np.array(10)# 10 is scaler quantity\n",
    "print(arr)\n",
    "print(type(arr))"
   ]
  },
  {
   "cell_type": "code",
   "execution_count": 24,
   "id": "cfc33266",
   "metadata": {},
   "outputs": [],
   "source": [
    "# FOr 1-D  Code(it is a 0D elements)"
   ]
  },
  {
   "cell_type": "code",
   "execution_count": 26,
   "id": "906e3def",
   "metadata": {},
   "outputs": [
    {
     "name": "stdout",
     "output_type": "stream",
     "text": [
      "[ 6  7  8  9 10]\n",
      "<class 'numpy.ndarray'>\n"
     ]
    }
   ],
   "source": [
    "import numpy as np\n",
    "list=[6,7,8,9,10]\n",
    "arr=np.array(list)\n",
    "print(arr)\n",
    "print(type(arr))"
   ]
  },
  {
   "cell_type": "code",
   "execution_count": 27,
   "id": "b263d5ef",
   "metadata": {},
   "outputs": [],
   "source": [
    "# for 2_D Code(It must passess 1D array as an elements)\n",
    "# use to represent matrix\n",
    "# second order tensor\n",
    "# Numpy has a module dedicated to matrix  represent as numpy.mat"
   ]
  },
  {
   "cell_type": "code",
   "execution_count": 29,
   "id": "068cad94",
   "metadata": {},
   "outputs": [
    {
     "name": "stdout",
     "output_type": "stream",
     "text": [
      "[[1 2 3]\n",
      " [4 5 6]]\n",
      "<class 'numpy.ndarray'>\n"
     ]
    }
   ],
   "source": [
    "import numpy as np\n",
    "list1=[1,2,3]\n",
    "list2=[4,5,6]\n",
    "arr=np.array([list1,list2])\n",
    "print(arr)\n",
    "print(type(arr))"
   ]
  },
  {
   "cell_type": "code",
   "execution_count": 31,
   "id": "e99b5153",
   "metadata": {},
   "outputs": [],
   "source": [
    "# For 3-D (2D array as an elements)\n",
    "# 3 order tensors\n",
    "# use 2 square brackets"
   ]
  },
  {
   "cell_type": "code",
   "execution_count": 42,
   "id": "e700855a",
   "metadata": {},
   "outputs": [
    {
     "name": "stdout",
     "output_type": "stream",
     "text": [
      "[[[1 2 3]\n",
      "  [4 5 6]]]\n",
      "<class 'numpy.ndarray'>\n"
     ]
    }
   ],
   "source": [
    "import numpy as np\n",
    "list1=[1,2,3]\n",
    "list2=[4,5,6]\n",
    "arr=np.array([[list1,list2]])\n",
    "print(arr)\n",
    "print(type(arr))"
   ]
  },
  {
   "cell_type": "code",
   "execution_count": 44,
   "id": "3cd50576",
   "metadata": {},
   "outputs": [],
   "source": [
    "# Check No of Dimensions\n",
    "# use .ndim"
   ]
  },
  {
   "cell_type": "code",
   "execution_count": 54,
   "id": "faa2aba4",
   "metadata": {},
   "outputs": [
    {
     "name": "stdout",
     "output_type": "stream",
     "text": [
      "Dimension of a is 0\n",
      "Dimension of b is 1\n",
      "Dimension of c is 2\n",
      "Dimension of d is 3\n"
     ]
    }
   ],
   "source": [
    "import numpy as np\n",
    "a=np.array(42)\n",
    "list=[1,2,3,4,5]\n",
    "b=np.array(list)\n",
    "list1=[1,2,3]\n",
    "list2=[4,5,6]\n",
    "c=np.array([list1,list2])\n",
    "lista=[1,2,3]\n",
    "listb=[4,5,6]\n",
    "d=np.array([[lista,listb]])\n",
    "print(\"Dimension of a is\",a.ndim)\n",
    "print(\"Dimension of b is\",b.ndim)\n",
    "print(\"Dimension of c is\",c.ndim)\n",
    "print(\"Dimension of d is\",d.ndim)\n"
   ]
  },
  {
   "cell_type": "code",
   "execution_count": 57,
   "id": "c4afa0f3",
   "metadata": {},
   "outputs": [],
   "source": [
    "# Higher Dimensional Arrays(5-D array)\n",
    "# firstly convert to 5D and then check the dimensions"
   ]
  },
  {
   "cell_type": "code",
   "execution_count": 56,
   "id": "cb32483a",
   "metadata": {},
   "outputs": [
    {
     "name": "stdout",
     "output_type": "stream",
     "text": [
      "[[[[[1 2 3 4]]]]]\n",
      "number of dimensions: 5\n"
     ]
    }
   ],
   "source": [
    "import numpy as np\n",
    "arr=np.array([1,2,3,4],ndmin=5)\n",
    "print(arr)\n",
    "print(\"number of dimensions:\",arr.ndim)"
   ]
  },
  {
   "cell_type": "code",
   "execution_count": 59,
   "id": "63c4d3ef",
   "metadata": {},
   "outputs": [],
   "source": [
    "# uptill now results are\n",
    "#10 Scaler\n",
    "#[1,2,3] vector\n",
    "#[[1,2,3]] 2Dmatrix\n",
    "#[[[1,2,3]]] 3D matrix\n",
    "#[[[[1,2,3]]]] 4D matrix\n",
    "#[[[[[1,2,3]]]]] 5D matrix"
   ]
  },
  {
   "cell_type": "code",
   "execution_count": 60,
   "id": "9b23408b",
   "metadata": {},
   "outputs": [],
   "source": [
    "# Take 2 lists\n",
    "# for 6D matrix"
   ]
  },
  {
   "cell_type": "code",
   "execution_count": 62,
   "id": "83802ee2",
   "metadata": {},
   "outputs": [
    {
     "name": "stdout",
     "output_type": "stream",
     "text": [
      "[[[[[[1 2 3 4]\n",
      "     [5 6 7 8]]]]]]\n",
      "number of dimensions: 6\n"
     ]
    }
   ],
   "source": [
    "import numpy as np\n",
    "arr=np.array([[1,2,3,4],[5,6,7,8]],ndmin=6)\n",
    "print(arr)\n",
    "print(\"number of dimensions:\",arr.ndim)"
   ]
  },
  {
   "cell_type": "code",
   "execution_count": null,
   "id": "04cdffc5",
   "metadata": {},
   "outputs": [],
   "source": []
  }
 ],
 "metadata": {
  "kernelspec": {
   "display_name": "Python 3 (ipykernel)",
   "language": "python",
   "name": "python3"
  },
  "language_info": {
   "codemirror_mode": {
    "name": "ipython",
    "version": 3
   },
   "file_extension": ".py",
   "mimetype": "text/x-python",
   "name": "python",
   "nbconvert_exporter": "python",
   "pygments_lexer": "ipython3",
   "version": "3.7.0"
  }
 },
 "nbformat": 4,
 "nbformat_minor": 5
}
