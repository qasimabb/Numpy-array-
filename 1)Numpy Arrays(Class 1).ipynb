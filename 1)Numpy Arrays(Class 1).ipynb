{
 "cells": [
  {
   "cell_type": "code",
   "execution_count": 1,
   "id": "98f34ef2",
   "metadata": {},
   "outputs": [
    {
     "name": "stdout",
     "output_type": "stream",
     "text": [
      "[1, 2, 3, 4, 5]\n"
     ]
    }
   ],
   "source": [
    "list1=[1,2,3,4,5]\n",
    "print(list1)"
   ]
  },
  {
   "cell_type": "code",
   "execution_count": 2,
   "id": "771740c2",
   "metadata": {},
   "outputs": [
    {
     "name": "stdout",
     "output_type": "stream",
     "text": [
      "[1, 'Hello', 3.14, True, 5]\n"
     ]
    }
   ],
   "source": [
    "list2=[1,'Hello',3.14,True,5]\n",
    "print(list2)"
   ]
  },
  {
   "cell_type": "markdown",
   "id": "53159959",
   "metadata": {},
   "source": [
    "# Numpy More Efficient than Python list  deal with multi-dimensional array of same type"
   ]
  },
  {
   "cell_type": "code",
   "execution_count": 2,
   "id": "678f9dbc",
   "metadata": {},
   "outputs": [
    {
     "name": "stdout",
     "output_type": "stream",
     "text": [
      "[0 1 2 3 4 5 6 7 8 9]\n",
      "(10,)\n"
     ]
    }
   ],
   "source": [
    "import  numpy as np\n",
    "a1 = np.arange(10)#create a range from 0 to 9\n",
    "print(a1)#[0 1 2 3 4 5 6 7 8 9]\n",
    "print(a1.shape)#(10,)"
   ]
  },
  {
   "cell_type": "code",
   "execution_count": 3,
   "id": "e01e3fdb",
   "metadata": {},
   "outputs": [],
   "source": [
    "#specify a step in arange functions"
   ]
  },
  {
   "cell_type": "code",
   "execution_count": 4,
   "id": "0755d30f",
   "metadata": {},
   "outputs": [
    {
     "name": "stdout",
     "output_type": "stream",
     "text": [
      "[0 2 4 6 8]\n",
      "(5,)\n"
     ]
    }
   ],
   "source": [
    "import numpy as np\n",
    "a2= np.arange(0,10,2)# create a range from 0 to 9,step2\n",
    "print(a2) #[0 2 4 6 8]\n",
    "print(a2.shape)"
   ]
  },
  {
   "cell_type": "code",
   "execution_count": 7,
   "id": "97c4f093",
   "metadata": {},
   "outputs": [
    {
     "name": "stdout",
     "output_type": "stream",
     "text": [
      "[0. 0. 0. 0. 0.]\n",
      "(5,)\n"
     ]
    }
   ],
   "source": [
    "import numpy as np\n",
    "a3 = np.zeros(5)#create an array with all 0s\n",
    "print(a3) #[0. 0. 0. 0. 0.]\n",
    "print(a3.shape)#(5,)"
   ]
  },
  {
   "cell_type": "code",
   "execution_count": 8,
   "id": "9d6d1fe0",
   "metadata": {},
   "outputs": [],
   "source": [
    "# for creating 2d array (RANK 2) with 2 arguments"
   ]
  },
  {
   "cell_type": "code",
   "execution_count": 12,
   "id": "a8d2295a",
   "metadata": {},
   "outputs": [
    {
     "name": "stdout",
     "output_type": "stream",
     "text": [
      "[[0. 0. 0.]\n",
      " [0. 0. 0.]]\n",
      "(2, 3)\n"
     ]
    }
   ],
   "source": [
    "import numpy as np\n",
    "a4 = np.zeros((2,3))# array of rank 2 with all 0s:2 rows and 3 columns\n",
    "print(a4)\n",
    "print(a4.shape)#(2,3)"
   ]
  },
  {
   "cell_type": "code",
   "execution_count": 13,
   "id": "705c30b0",
   "metadata": {},
   "outputs": [],
   "source": [
    "# APART FROM ZEROS we want to make a matrix of rank2"
   ]
  },
  {
   "cell_type": "code",
   "execution_count": 16,
   "id": "62d668c6",
   "metadata": {},
   "outputs": [
    {
     "name": "stdout",
     "output_type": "stream",
     "text": [
      "[[8 8 8]\n",
      " [8 8 8]]\n",
      "(2, 3)\n"
     ]
    }
   ],
   "source": [
    "import numpy as np\n",
    "a5 = np.full((2,3),8)# array of rank 2 with all 8s\n",
    "print(a5)\n",
    "print(a5.shape)"
   ]
  },
  {
   "cell_type": "code",
   "execution_count": 17,
   "id": "ffc94d44",
   "metadata": {},
   "outputs": [],
   "source": [
    "# For Making an Identity Matrix"
   ]
  },
  {
   "cell_type": "code",
   "execution_count": 18,
   "id": "84300e18",
   "metadata": {},
   "outputs": [
    {
     "name": "stdout",
     "output_type": "stream",
     "text": [
      "[[1. 0. 0. 0.]\n",
      " [0. 1. 0. 0.]\n",
      " [0. 0. 1. 0.]\n",
      " [0. 0. 0. 1.]]\n",
      "(4, 4)\n"
     ]
    }
   ],
   "source": [
    "import numpy as np\n",
    "a6 = np.eye(4)#4x4 identity matrix\n",
    "print(a6)\n",
    "print(a6.shape)\n"
   ]
  },
  {
   "cell_type": "code",
   "execution_count": 19,
   "id": "e831450f",
   "metadata": {},
   "outputs": [],
   "source": [
    "# FOR MAKING RANDOM NO ARRAY"
   ]
  },
  {
   "cell_type": "code",
   "execution_count": 20,
   "id": "31dfee2e",
   "metadata": {},
   "outputs": [
    {
     "name": "stdout",
     "output_type": "stream",
     "text": [
      "[[0.59667856 0.46856083 0.73783871 0.81253353]\n",
      " [0.35976907 0.28195118 0.28703304 0.78597784]]\n",
      "(2, 4)\n"
     ]
    }
   ],
   "source": [
    "import numpy as np\n",
    "a7 = np.random.random((2,4)) # rank 2 array (2 rows 4 columns) with random values in the half-open interval[0.0 , 1.0)\n",
    "print(a7)\n",
    "print(a7.shape)"
   ]
  },
  {
   "cell_type": "code",
   "execution_count": 21,
   "id": "fa709984",
   "metadata": {},
   "outputs": [],
   "source": [
    "# Create An ARRAY From List"
   ]
  },
  {
   "cell_type": "raw",
   "id": "a4a0f265",
   "metadata": {},
   "source": [
    "list1 = [1,2,3,4,\"a\"]#list1 is list in python\n",
    "print(list1)\n",
    "r1 = np.array(list1)# rank1 array\n",
    "print(r1)#[1 2 3 4 5]"
   ]
  }
 ],
 "metadata": {
  "kernelspec": {
   "display_name": "Python 3 (ipykernel)",
   "language": "python",
   "name": "python3"
  },
  "language_info": {
   "codemirror_mode": {
    "name": "ipython",
    "version": 3
   },
   "file_extension": ".py",
   "mimetype": "text/x-python",
   "name": "python",
   "nbconvert_exporter": "python",
   "pygments_lexer": "ipython3",
   "version": "3.7.0"
  }
 },
 "nbformat": 4,
 "nbformat_minor": 5
}
