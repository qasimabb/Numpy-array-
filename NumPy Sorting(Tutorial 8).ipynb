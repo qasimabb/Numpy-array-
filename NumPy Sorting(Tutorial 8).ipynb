{
 "cells": [
  {
   "cell_type": "code",
   "execution_count": 3,
   "id": "9067b215",
   "metadata": {},
   "outputs": [],
   "source": [
    "# Sort mean arrange items in an specific order"
   ]
  },
  {
   "cell_type": "code",
   "execution_count": 33,
   "id": "c085fec0",
   "metadata": {},
   "outputs": [
    {
     "name": "stdout",
     "output_type": "stream",
     "text": [
      "The sorted ages are: [ 5 12 13 34 37]\n",
      "The ages are : [34 12 37  5 13]\n"
     ]
    }
   ],
   "source": [
    "import numpy as np\n",
    "ages=np.array([34,12,37,5,13])\n",
    "sorted_ages=np.sort(ages)\n",
    "print(\"The sorted ages are:\",sorted_ages)\n",
    "print(\"The ages are :\",ages)"
   ]
  },
  {
   "cell_type": "code",
   "execution_count": 34,
   "id": "0f1bf771",
   "metadata": {},
   "outputs": [],
   "source": [
    "# sort original func itself use emptyfunction of sort without input"
   ]
  },
  {
   "cell_type": "code",
   "execution_count": 35,
   "id": "3f3d2f5b",
   "metadata": {},
   "outputs": [
    {
     "name": "stdout",
     "output_type": "stream",
     "text": [
      "The ages are : [34 12 37  5 13]\n",
      "The sorted ages are: [ 5 12 13 34 37]\n"
     ]
    }
   ],
   "source": [
    "import numpy as np\n",
    "ages=np.array([34,12,37,5,13])\n",
    "print(\"The ages are :\",ages)\n",
    "ages.sort()\n",
    "print(\"The sorted ages are:\",ages)\n"
   ]
  },
  {
   "cell_type": "code",
   "execution_count": 36,
   "id": "6b2d780d",
   "metadata": {},
   "outputs": [],
   "source": [
    "# another function for sort is argsort() it returns the indices that will sort an array"
   ]
  },
  {
   "cell_type": "code",
   "execution_count": 37,
   "id": "8531fd2c",
   "metadata": {},
   "outputs": [
    {
     "name": "stdout",
     "output_type": "stream",
     "text": [
      "The index of the sorted ages are: [3 1 4 0 2]\n"
     ]
    }
   ],
   "source": [
    "import numpy as np\n",
    "ages=np.array([34,12,37,5,13])\n",
    "print(\"The index of the sorted ages are:\",ages.argsort()) #argsort() sort on behalf of index"
   ]
  },
  {
   "cell_type": "code",
   "execution_count": 38,
   "id": "7393f698",
   "metadata": {},
   "outputs": [],
   "source": [
    "# We can print the value of sorted ages by index also"
   ]
  },
  {
   "cell_type": "code",
   "execution_count": 39,
   "id": "87ce7a57",
   "metadata": {},
   "outputs": [
    {
     "name": "stdout",
     "output_type": "stream",
     "text": [
      "The sorted ages are: [ 5 12 13 34 37]\n"
     ]
    }
   ],
   "source": [
    "import numpy as np\n",
    "ages=np.array([34,12,37,5,13])\n",
    "print(\"The sorted ages are:\",ages[ages.argsort()])"
   ]
  },
  {
   "cell_type": "code",
   "execution_count": 40,
   "id": "9ed0cb71",
   "metadata": {},
   "outputs": [
    {
     "name": "stdout",
     "output_type": "stream",
     "text": [
      "The sorted name with respect to ages are: ['Will' 'Marry' 'Joe' 'johnny' 'peter']\n",
      "The sorted heights with respect to ages are: [0.5  1.2  1.25 1.76 1.68]\n",
      "The sorted ages are [ 5 12 13 34 37]\n"
     ]
    }
   ],
   "source": [
    "import  numpy as np\n",
    "persons=np.array(['johnny','Marry','peter','Will','Joe'])\n",
    "heights=np.array([1.76,1.2,1.68,0.5,1.25])\n",
    "ages=np.array([34,12,37,5,13])\n",
    "sort_indices=np.argsort(ages)\n",
    "print(\"The sorted name with respect to ages are:\",persons[sort_indices])\n",
    "print(\"The sorted heights with respect to ages are:\",heights[sort_indices])\n",
    "print(\"The sorted ages are\",ages[sort_indices])"
   ]
  },
  {
   "cell_type": "code",
   "execution_count": 41,
   "id": "15ee0445",
   "metadata": {},
   "outputs": [
    {
     "name": "stdout",
     "output_type": "stream",
     "text": [
      "The sorted name with respect to ages are: ['Joe' 'Marry' 'Will' 'johnny' 'peter']\n",
      "The sorted heights with respect to ages are: [1.25 1.2  0.5  1.76 1.68]\n",
      "The sorted ages are [13 12  5 34 37]\n"
     ]
    }
   ],
   "source": [
    "import  numpy as np\n",
    "persons=np.array(['johnny','Marry','peter','Will','Joe'])\n",
    "heights=np.array([1.76,1.2,1.68,0.5,1.25])\n",
    "ages=np.array([34,12,37,5,13])\n",
    "sort_indices=np.argsort(persons)\n",
    "print(\"The sorted name with respect to ages are:\",persons[sort_indices])\n",
    "print(\"The sorted heights with respect to ages are:\",heights[sort_indices])\n",
    "print(\"The sorted ages are\",ages[sort_indices])"
   ]
  },
  {
   "cell_type": "code",
   "execution_count": 42,
   "id": "7a98f014",
   "metadata": {},
   "outputs": [],
   "source": [
    "# To reverse the order of the name and display them in descending order ,use the python[::-1]notation"
   ]
  },
  {
   "cell_type": "code",
   "execution_count": 47,
   "id": "b3647356",
   "metadata": {},
   "outputs": [
    {
     "name": "stdout",
     "output_type": "stream",
     "text": [
      "The sorted name with respect to ages are: ['peter' 'johnny' 'Will' 'Marry' 'Joe']\n",
      "The sorted heights with respect to ages are: [1.68 1.76 0.5  1.2  1.25]\n",
      "The sorted ages are [37 34  5 12 13]\n"
     ]
    }
   ],
   "source": [
    "import  numpy as np\n",
    "persons=np.array(['johnny','Marry','peter','Will','Joe'])\n",
    "heights=np.array([1.76,1.2,1.68,0.5,1.25])\n",
    "ages=np.array([34,12,37,5,13])\n",
    "reverse_sort_indices=np.argsort(persons)[::-1] #print in a descending order\n",
    "print(\"The sorted name with respect to ages are:\",persons[reverse_sort_indices])\n",
    "print(\"The sorted heights with respect to ages are:\",heights[reverse_sort_indices])\n",
    "print(\"The sorted ages are\",ages[reverse_sort_indices])"
   ]
  },
  {
   "cell_type": "code",
   "execution_count": null,
   "id": "2edfd2aa",
   "metadata": {},
   "outputs": [],
   "source": []
  }
 ],
 "metadata": {
  "kernelspec": {
   "display_name": "Python 3 (ipykernel)",
   "language": "python",
   "name": "python3"
  },
  "language_info": {
   "codemirror_mode": {
    "name": "ipython",
    "version": 3
   },
   "file_extension": ".py",
   "mimetype": "text/x-python",
   "name": "python",
   "nbconvert_exporter": "python",
   "pygments_lexer": "ipython3",
   "version": "3.7.0"
  }
 },
 "nbformat": 4,
 "nbformat_minor": 5
}
