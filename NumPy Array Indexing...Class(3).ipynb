{
 "cells": [
  {
   "cell_type": "code",
   "execution_count": 2,
   "id": "49e1a4e2",
   "metadata": {},
   "outputs": [],
   "source": [
    "# Access element in an Array form"
   ]
  },
  {
   "cell_type": "code",
   "execution_count": 60,
   "id": "c20330f2",
   "metadata": {},
   "outputs": [
    {
     "name": "stdout",
     "output_type": "stream",
     "text": [
      "1\n",
      "2\n"
     ]
    }
   ],
   "source": [
    "import numpy as np\n",
    "arr=np.array([1,2,3,4])\n",
    "print(arr[0])\n",
    "print(arr[1])"
   ]
  },
  {
   "cell_type": "code",
   "execution_count": 61,
   "id": "b9e92b12",
   "metadata": {},
   "outputs": [],
   "source": [
    "#Access element and add them"
   ]
  },
  {
   "cell_type": "code",
   "execution_count": 62,
   "id": "724466ed",
   "metadata": {},
   "outputs": [
    {
     "name": "stdout",
     "output_type": "stream",
     "text": [
      "7\n"
     ]
    }
   ],
   "source": [
    "import numpy as np\n",
    "arr = np.array([1,2,3,4])\n",
    "print(arr[2]+arr[3])"
   ]
  },
  {
   "cell_type": "markdown",
   "id": "2967ff04",
   "metadata": {},
   "source": [
    "# Accessing 2-D Array Elements"
   ]
  },
  {
   "cell_type": "code",
   "execution_count": 63,
   "id": "0206f279",
   "metadata": {},
   "outputs": [],
   "source": [
    "# This element present at 0 axis not and element present at 1 axis[0,0] bracket shows 0 axis at position 0"
   ]
  },
  {
   "cell_type": "code",
   "execution_count": 64,
   "id": "1f82499a",
   "metadata": {},
   "outputs": [
    {
     "name": "stdout",
     "output_type": "stream",
     "text": [
      "[[1 2 3 4]]\n",
      "2\n",
      "(1, 4)\n",
      "1\n"
     ]
    }
   ],
   "source": [
    "import numpy as np\n",
    "arr = np.array([[1,2,3,4]])\n",
    "print(arr)\n",
    "print(arr.ndim)\n",
    "print(arr.shape)\n",
    "print(arr[0,0])"
   ]
  },
  {
   "cell_type": "code",
   "execution_count": 65,
   "id": "5621e67f",
   "metadata": {},
   "outputs": [],
   "source": [
    "# Since the above code exist on 0 axis if we try to find at 1 axis then we will get obviously an error"
   ]
  },
  {
   "cell_type": "code",
   "execution_count": 11,
   "id": "f798981e",
   "metadata": {},
   "outputs": [
    {
     "name": "stdout",
     "output_type": "stream",
     "text": [
      "[[1 2 3 4]]\n",
      "2\n",
      "(1, 4)\n"
     ]
    },
    {
     "ename": "IndexError",
     "evalue": "index 1 is out of bounds for axis 0 with size 1",
     "output_type": "error",
     "traceback": [
      "\u001b[1;31m---------------------------------------------------------------------------\u001b[0m",
      "\u001b[1;31mIndexError\u001b[0m                                Traceback (most recent call last)",
      "\u001b[1;32m~\\AppData\\Local\\Temp/ipykernel_2004/899774152.py\u001b[0m in \u001b[0;36m<module>\u001b[1;34m\u001b[0m\n\u001b[0;32m      4\u001b[0m \u001b[0mprint\u001b[0m\u001b[1;33m(\u001b[0m\u001b[0marr\u001b[0m\u001b[1;33m.\u001b[0m\u001b[0mndim\u001b[0m\u001b[1;33m)\u001b[0m\u001b[1;33m\u001b[0m\u001b[0m\n\u001b[0;32m      5\u001b[0m \u001b[0mprint\u001b[0m\u001b[1;33m(\u001b[0m\u001b[0marr\u001b[0m\u001b[1;33m.\u001b[0m\u001b[0mshape\u001b[0m\u001b[1;33m)\u001b[0m\u001b[1;33m\u001b[0m\u001b[0m\n\u001b[1;32m----> 6\u001b[1;33m \u001b[0mprint\u001b[0m\u001b[1;33m(\u001b[0m\u001b[0marr\u001b[0m\u001b[1;33m[\u001b[0m\u001b[1;36m1\u001b[0m\u001b[1;33m,\u001b[0m\u001b[1;36m0\u001b[0m\u001b[1;33m]\u001b[0m\u001b[1;33m)\u001b[0m\u001b[1;33m\u001b[0m\u001b[0m\n\u001b[0m\u001b[0;32m      7\u001b[0m \u001b[0mprint\u001b[0m\u001b[1;33m(\u001b[0m\u001b[0marr\u001b[0m\u001b[1;33m[\u001b[0m\u001b[1;36m0\u001b[0m\u001b[1;33m,\u001b[0m\u001b[1;36m3\u001b[0m\u001b[1;33m]\u001b[0m\u001b[1;33m)\u001b[0m\u001b[1;33m\u001b[0m\u001b[0m\n",
      "\u001b[1;31mIndexError\u001b[0m: index 1 is out of bounds for axis 0 with size 1"
     ]
    }
   ],
   "source": [
    "import numpy as np\n",
    "arr = np.array([[1,2,3,4]])\n",
    "print(arr)\n",
    "print(arr.ndim)\n",
    "print(arr.shape)\n",
    "print(arr[1,0])\n",
    "print(arr[0,3])"
   ]
  },
  {
   "cell_type": "code",
   "execution_count": 13,
   "id": "3b606049",
   "metadata": {},
   "outputs": [],
   "source": [
    "# Two list as an arguments in 2 DImensions which mean we have 0axis and 1axis both"
   ]
  },
  {
   "cell_type": "code",
   "execution_count": 14,
   "id": "a51578cd",
   "metadata": {},
   "outputs": [
    {
     "name": "stdout",
     "output_type": "stream",
     "text": [
      "[[ 1  2  3  4  5]\n",
      " [ 6  7  8  9 10]]\n",
      "2\n",
      "(2, 5)\n",
      "1\n",
      "2\n",
      "6\n"
     ]
    }
   ],
   "source": [
    "import numpy as np\n",
    "list1=[1,2,3,4,5]\n",
    "list2=[6,7,8,9,10]\n",
    "arr=np.array([list1,list2])\n",
    "print(arr)\n",
    "print(arr.ndim)\n",
    "print(arr.shape)\n",
    "print(arr[0,0])\n",
    "print(arr[0,1])\n",
    "print(arr[1,0])\n"
   ]
  },
  {
   "cell_type": "code",
   "execution_count": 15,
   "id": "d2ee3d0b",
   "metadata": {},
   "outputs": [],
   "source": [
    "# we can use list as an index elements 1D array"
   ]
  },
  {
   "cell_type": "code",
   "execution_count": 22,
   "id": "7db7cf21",
   "metadata": {},
   "outputs": [
    {
     "name": "stdout",
     "output_type": "stream",
     "text": [
      "[3 5]\n",
      "1\n"
     ]
    }
   ],
   "source": [
    "import numpy as np\n",
    "list1=[1,2,3,4,5]\n",
    "arr=np.array(list1)\n",
    "print(arr[[2,4]])\n",
    "print(arr.ndim)"
   ]
  },
  {
   "cell_type": "markdown",
   "id": "65c9e54f",
   "metadata": {},
   "source": [
    "# Accessing 3Dimension Array Elements"
   ]
  },
  {
   "cell_type": "code",
   "execution_count": 25,
   "id": "524916e2",
   "metadata": {},
   "outputs": [],
   "source": [
    "# list as an arguments with three square brackets\n",
    "#3 axis are present i.e 0-axis,1-axis,2-axis\n",
    "# The above code has an element only on 0-axis not on 1-axis and 2-axis"
   ]
  },
  {
   "cell_type": "code",
   "execution_count": 26,
   "id": "069a6b46",
   "metadata": {},
   "outputs": [
    {
     "name": "stdout",
     "output_type": "stream",
     "text": [
      "3\n"
     ]
    }
   ],
   "source": [
    "import numpy as np\n",
    "arr=np.array([[[1,2,3]]])\n",
    "print(arr[0,0,2])# [0,0,2] here 0 represent outer 0 axis, 0 stand for 1-axis and 2 inner axis position\n"
   ]
  },
  {
   "cell_type": "code",
   "execution_count": 27,
   "id": "82bc3b41",
   "metadata": {},
   "outputs": [],
   "source": [
    "# above same code for 1 axis since 1-axis and 2-axis are absent so we will get an error"
   ]
  },
  {
   "cell_type": "code",
   "execution_count": 28,
   "id": "1c7667d3",
   "metadata": {},
   "outputs": [
    {
     "ename": "IndexError",
     "evalue": "index 1 is out of bounds for axis 1 with size 1",
     "output_type": "error",
     "traceback": [
      "\u001b[1;31m---------------------------------------------------------------------------\u001b[0m",
      "\u001b[1;31mIndexError\u001b[0m                                Traceback (most recent call last)",
      "\u001b[1;32m~\\AppData\\Local\\Temp/ipykernel_2004/2635621884.py\u001b[0m in \u001b[0;36m<module>\u001b[1;34m\u001b[0m\n\u001b[0;32m      1\u001b[0m \u001b[1;32mimport\u001b[0m \u001b[0mnumpy\u001b[0m \u001b[1;32mas\u001b[0m \u001b[0mnp\u001b[0m\u001b[1;33m\u001b[0m\u001b[0m\n\u001b[0;32m      2\u001b[0m \u001b[0marr\u001b[0m\u001b[1;33m=\u001b[0m\u001b[0mnp\u001b[0m\u001b[1;33m.\u001b[0m\u001b[0marray\u001b[0m\u001b[1;33m(\u001b[0m\u001b[1;33m[\u001b[0m\u001b[1;33m[\u001b[0m\u001b[1;33m[\u001b[0m\u001b[1;36m1\u001b[0m\u001b[1;33m,\u001b[0m\u001b[1;36m2\u001b[0m\u001b[1;33m,\u001b[0m\u001b[1;36m3\u001b[0m\u001b[1;33m]\u001b[0m\u001b[1;33m]\u001b[0m\u001b[1;33m]\u001b[0m\u001b[1;33m)\u001b[0m\u001b[1;33m\u001b[0m\u001b[0m\n\u001b[1;32m----> 3\u001b[1;33m \u001b[0mprint\u001b[0m\u001b[1;33m(\u001b[0m\u001b[0marr\u001b[0m\u001b[1;33m[\u001b[0m\u001b[1;36m0\u001b[0m\u001b[1;33m,\u001b[0m\u001b[1;36m1\u001b[0m\u001b[1;33m,\u001b[0m\u001b[1;36m2\u001b[0m\u001b[1;33m]\u001b[0m\u001b[1;33m)\u001b[0m\u001b[1;33m\u001b[0m\u001b[0m\n\u001b[0m",
      "\u001b[1;31mIndexError\u001b[0m: index 1 is out of bounds for axis 1 with size 1"
     ]
    }
   ],
   "source": [
    "import numpy as np\n",
    "arr=np.array([[[1,2,3]]])\n",
    "print(arr[0,1,2])"
   ]
  },
  {
   "cell_type": "code",
   "execution_count": 30,
   "id": "1f2b9c93",
   "metadata": {},
   "outputs": [],
   "source": [
    "#For 2 list as an arguments in an 3Dimensions array "
   ]
  },
  {
   "cell_type": "code",
   "execution_count": 31,
   "id": "1f9f8895",
   "metadata": {},
   "outputs": [
    {
     "name": "stdout",
     "output_type": "stream",
     "text": [
      "[[[1 2 3]\n",
      "  [4 5 6]]]\n",
      "4\n"
     ]
    }
   ],
   "source": [
    "import numpy as np\n",
    "arr = np.array([[[1,2,3],[4,5,6]]])\n",
    "print(arr)\n",
    "print(arr[0,1,0])#0axis is empty ,1 is second row of list and ,again 0 is index of second row"
   ]
  },
  {
   "cell_type": "code",
   "execution_count": 34,
   "id": "0d3b9ab4",
   "metadata": {
    "scrolled": true
   },
   "outputs": [
    {
     "name": "stdout",
     "output_type": "stream",
     "text": [
      "[[[1 2 3]\n",
      "  [4 5 6]]]\n",
      "6\n"
     ]
    }
   ],
   "source": [
    "import numpy as np\n",
    "arr = np.array([[[1,2,3],[4,5,6]]])\n",
    "print(arr)\n",
    "print(arr[0,1,2])#0axis is empty ,1 is second row of list, and 2 is index of second row"
   ]
  },
  {
   "cell_type": "code",
   "execution_count": 38,
   "id": "3fbd8f3e",
   "metadata": {},
   "outputs": [
    {
     "name": "stdout",
     "output_type": "stream",
     "text": [
      "[[[1 2 3]\n",
      "  [4 5 6]]]\n",
      "3\n"
     ]
    }
   ],
   "source": [
    "import numpy as np\n",
    "arr = np.array([[[1,2,3],[4,5,6]]])\n",
    "print(arr)\n",
    "print(arr[0,0,2])#0axis is empty ,0 is first row of list, and 2 is index of first row"
   ]
  },
  {
   "cell_type": "code",
   "execution_count": 42,
   "id": "f8f21734",
   "metadata": {},
   "outputs": [
    {
     "name": "stdout",
     "output_type": "stream",
     "text": [
      "[[[ 1  2  3]\n",
      "  [ 4  5  6]]\n",
      "\n",
      " [[ 7  8  9]\n",
      "  [10 11 12]]]\n",
      "12\n"
     ]
    }
   ],
   "source": [
    "import numpy as np\n",
    "arr=np.array([[[1,2,3],[4,5,6]],[[7,8,9],[10,11,12]]])\n",
    "print(arr)\n",
    "print(arr[1,1,2])# 1 represent outer axis again 1 represnt 2 row of outer matrix and 2 is the index of 2 row of outer matrix"
   ]
  },
  {
   "cell_type": "markdown",
   "id": "8b5e6938",
   "metadata": {},
   "source": [
    "# Negative Indexing(access array element from the end)"
   ]
  },
  {
   "cell_type": "code",
   "execution_count": 45,
   "id": "64641007",
   "metadata": {},
   "outputs": [
    {
     "name": "stdout",
     "output_type": "stream",
     "text": [
      "5\n"
     ]
    }
   ],
   "source": [
    "import numpy as np\n",
    "arr=np.array([1,2,3,4,5])\n",
    "print(arr[-1])# last element of the list\n"
   ]
  },
  {
   "cell_type": "code",
   "execution_count": null,
   "id": "86b2d620",
   "metadata": {},
   "outputs": [],
   "source": [
    "# Its a 2D list because of 2 square brackets"
   ]
  },
  {
   "cell_type": "code",
   "execution_count": 46,
   "id": "f86eeeff",
   "metadata": {},
   "outputs": [
    {
     "name": "stdout",
     "output_type": "stream",
     "text": [
      "5\n"
     ]
    }
   ],
   "source": [
    "import numpy as np\n",
    "arr=np.array([[1,2,3,4,5]])# all elements present at only 0 axis,none of one on 1 axis\n",
    "print(arr[0,-1])# 0 means the list array and -1 mean last element of list"
   ]
  },
  {
   "cell_type": "code",
   "execution_count": 47,
   "id": "33ca45c8",
   "metadata": {},
   "outputs": [
    {
     "name": "stdout",
     "output_type": "stream",
     "text": [
      "4\n"
     ]
    }
   ],
   "source": [
    "import numpy as np\n",
    "arr=np.array([[1,2,3,4,5]])# all elements present at only 0 axis,none of one on 1 axis\n",
    "print(arr[0,-2])"
   ]
  },
  {
   "cell_type": "code",
   "execution_count": 48,
   "id": "4e23e8ee",
   "metadata": {},
   "outputs": [
    {
     "ename": "IndexError",
     "evalue": "index 1 is out of bounds for axis 0 with size 1",
     "output_type": "error",
     "traceback": [
      "\u001b[1;31m---------------------------------------------------------------------------\u001b[0m",
      "\u001b[1;31mIndexError\u001b[0m                                Traceback (most recent call last)",
      "\u001b[1;32m~\\AppData\\Local\\Temp/ipykernel_2004/4240049043.py\u001b[0m in \u001b[0;36m<module>\u001b[1;34m\u001b[0m\n\u001b[0;32m      1\u001b[0m \u001b[1;32mimport\u001b[0m \u001b[0mnumpy\u001b[0m \u001b[1;32mas\u001b[0m \u001b[0mnp\u001b[0m\u001b[1;33m\u001b[0m\u001b[0m\n\u001b[0;32m      2\u001b[0m \u001b[0marr\u001b[0m\u001b[1;33m=\u001b[0m\u001b[0mnp\u001b[0m\u001b[1;33m.\u001b[0m\u001b[0marray\u001b[0m\u001b[1;33m(\u001b[0m\u001b[1;33m[\u001b[0m\u001b[1;33m[\u001b[0m\u001b[1;36m1\u001b[0m\u001b[1;33m,\u001b[0m\u001b[1;36m2\u001b[0m\u001b[1;33m,\u001b[0m\u001b[1;36m3\u001b[0m\u001b[1;33m,\u001b[0m\u001b[1;36m4\u001b[0m\u001b[1;33m,\u001b[0m\u001b[1;36m5\u001b[0m\u001b[1;33m]\u001b[0m\u001b[1;33m]\u001b[0m\u001b[1;33m)\u001b[0m\u001b[1;31m# all elements present at only 0 axis,none of one on 1 axis\u001b[0m\u001b[1;33m\u001b[0m\u001b[0m\n\u001b[1;32m----> 3\u001b[1;33m \u001b[0mprint\u001b[0m\u001b[1;33m(\u001b[0m\u001b[0marr\u001b[0m\u001b[1;33m[\u001b[0m\u001b[1;36m1\u001b[0m\u001b[1;33m,\u001b[0m\u001b[1;33m-\u001b[0m\u001b[1;36m1\u001b[0m\u001b[1;33m]\u001b[0m\u001b[1;33m)\u001b[0m\u001b[1;31m# it will show error because no element belong to 1 axis\u001b[0m\u001b[1;33m\u001b[0m\u001b[0m\n\u001b[0m",
      "\u001b[1;31mIndexError\u001b[0m: index 1 is out of bounds for axis 0 with size 1"
     ]
    }
   ],
   "source": [
    "import numpy as np\n",
    "arr=np.array([[1,2,3,4,5]])# all elements present at only 0 axis,none of one on 1 axis\n",
    "print(arr[1,-1])# it will show error because no element belong to 1 axis"
   ]
  },
  {
   "cell_type": "code",
   "execution_count": 51,
   "id": "488d75da",
   "metadata": {},
   "outputs": [],
   "source": [
    "# 2 lists as an arguments with 2D array so all element of 1 list represent 0 axis and all element of 2 list is 1axis"
   ]
  },
  {
   "cell_type": "code",
   "execution_count": 52,
   "id": "8e03e05f",
   "metadata": {},
   "outputs": [
    {
     "name": "stdout",
     "output_type": "stream",
     "text": [
      "[[ 1  2  3  4  5]\n",
      " [ 6  7  8  9 10]]\n",
      "10\n"
     ]
    }
   ],
   "source": [
    "import numpy as np\n",
    "arr= np.array([[1,2,3,4,5],[6,7,8,9,10]])\n",
    "print(arr)\n",
    "print(arr[1,-1])# 1 is representing 1axis and again -1 represent last element of 1 axis"
   ]
  },
  {
   "cell_type": "code",
   "execution_count": 54,
   "id": "9eed5fb1",
   "metadata": {},
   "outputs": [
    {
     "name": "stdout",
     "output_type": "stream",
     "text": [
      "[[ 1  2  3  4  5]\n",
      " [ 6  7  8  9 10]]\n",
      "5\n"
     ]
    }
   ],
   "source": [
    "import numpy as np\n",
    "arr= np.array([[1,2,3,4,5],[6,7,8,9,10]])\n",
    "print(arr)\n",
    "print(arr[0,-1])# 0 is representing 0axis and again -1 represent last element of 0 axis"
   ]
  },
  {
   "cell_type": "markdown",
   "id": "f8c616d9",
   "metadata": {},
   "source": [
    "# Boolean Indexing"
   ]
  },
  {
   "cell_type": "code",
   "execution_count": 56,
   "id": "00a45dcc",
   "metadata": {},
   "outputs": [
    {
     "name": "stdout",
     "output_type": "stream",
     "text": [
      "[ 6  7  8  9 10]\n",
      "[False False  True  True  True]\n"
     ]
    }
   ],
   "source": [
    "import numpy as np\n",
    "list=[6,7,8,9,10]#for 1D array\n",
    "arr=np.array(list)\n",
    "print(arr)\n",
    "print(arr>7)#element greater than 7 so print True else false"
   ]
  },
  {
   "cell_type": "code",
   "execution_count": 58,
   "id": "94132c26",
   "metadata": {},
   "outputs": [
    {
     "name": "stdout",
     "output_type": "stream",
     "text": [
      "[[ 6  7  8  9 10]]\n",
      "[[False False  True  True  True]]\n",
      "[ 8  9 10]\n"
     ]
    }
   ],
   "source": [
    "import numpy as np\n",
    "list=[6,7,8,9,10]\n",
    "arr = np.array([list])\n",
    "print(arr)\n",
    "print(arr>7)#Printing boolean values here(only checking)\n",
    "print(arr[arr>7])#argument again to the array(print true satisfy value to another array form)"
   ]
  },
  {
   "cell_type": "code",
   "execution_count": 59,
   "id": "67f940ff",
   "metadata": {},
   "outputs": [
    {
     "name": "stdout",
     "output_type": "stream",
     "text": [
      "[ 0  1  2  3  4  5  6  7  8  9 10 11 12 13 14 15 16 17 18 19]\n",
      "[ 1  3  5  7  9 11 13 15 17 19]\n"
     ]
    }
   ],
   "source": [
    "import numpy as np\n",
    "nums=np.arange(20)# from 0 to 19 array inform of 1D\n",
    "print(nums)\n",
    "odd_num = nums[nums % 2==1] # if reminder =1 then correspond to that no print odd number\n",
    "print(odd_num)"
   ]
  },
  {
   "cell_type": "code",
   "execution_count": null,
   "id": "67545b52",
   "metadata": {},
   "outputs": [],
   "source": []
  }
 ],
 "metadata": {
  "kernelspec": {
   "display_name": "Python 3 (ipykernel)",
   "language": "python",
   "name": "python3"
  },
  "language_info": {
   "codemirror_mode": {
    "name": "ipython",
    "version": 3
   },
   "file_extension": ".py",
   "mimetype": "text/x-python",
   "name": "python",
   "nbconvert_exporter": "python",
   "pygments_lexer": "ipython3",
   "version": "3.7.0"
  }
 },
 "nbformat": 4,
 "nbformat_minor": 5
}
