{
 "cells": [
  {
   "cell_type": "markdown",
   "id": "2d06f946",
   "metadata": {},
   "source": [
    "# Iteration in 1-D NumPy Array"
   ]
  },
  {
   "cell_type": "code",
   "execution_count": 30,
   "id": "0c1dd689",
   "metadata": {},
   "outputs": [],
   "source": [
    "#  Iterate on the elements of the following 1-D array\n",
    "#Iteration(we go through element one by one) generally mean looping like for we use for loop"
   ]
  },
  {
   "cell_type": "code",
   "execution_count": 31,
   "id": "3cfd38da",
   "metadata": {},
   "outputs": [
    {
     "name": "stdout",
     "output_type": "stream",
     "text": [
      "1\n",
      "2\n",
      "3\n"
     ]
    }
   ],
   "source": [
    "import numpy as np\n",
    "arr=np.array([1,2,3])\n",
    "for x in arr:\n",
    "    print(x)"
   ]
  },
  {
   "cell_type": "markdown",
   "id": "a6762b04",
   "metadata": {},
   "source": [
    "# Iteration in 2-D NumPy Array"
   ]
  },
  {
   "cell_type": "code",
   "execution_count": 32,
   "id": "92295380",
   "metadata": {},
   "outputs": [],
   "source": [
    "# Iterating 2_D Arrays : In a 2D array it will gothrough all the rows\n",
    "# Iterate on the elements of the following 2_D arrays\n"
   ]
  },
  {
   "cell_type": "code",
   "execution_count": 33,
   "id": "f1f8bdee",
   "metadata": {},
   "outputs": [
    {
     "name": "stdout",
     "output_type": "stream",
     "text": [
      "[1 2 3]\n",
      "[4 5 6]\n"
     ]
    }
   ],
   "source": [
    "import numpy as np\n",
    "arr=np.array([[1,2,3],[4,5,6]])\n",
    "for x in arr:\n",
    "    print(x)"
   ]
  },
  {
   "cell_type": "code",
   "execution_count": 34,
   "id": "bd429c52",
   "metadata": {},
   "outputs": [],
   "source": [
    "# iterate on a N_D array  it will go through n-1th dimension one by one....\n",
    "# to return actual value the scalars ,we have to iterate the arrays in each dimension"
   ]
  },
  {
   "cell_type": "code",
   "execution_count": 35,
   "id": "8ec97a32",
   "metadata": {},
   "outputs": [
    {
     "name": "stdout",
     "output_type": "stream",
     "text": [
      "1\n",
      "2\n",
      "3\n",
      "4\n",
      "5\n",
      "6\n"
     ]
    }
   ],
   "source": [
    "# if we want to print the scalar value which are present in those directions\n",
    "# Iterate on each scalar element of the 2D array\n",
    "import numpy as np\n",
    "arr=np.array([[1,2,3],[4,5,6]])\n",
    "for x in arr: # first loop represent dimensions\n",
    "    for y in x: # second loop represent element which present at dimension, then we are printing that element i.e scalarvalue\n",
    "        print(y)"
   ]
  },
  {
   "cell_type": "markdown",
   "id": "abfda712",
   "metadata": {},
   "source": [
    "# Iteration in 3D NumPy Array"
   ]
  },
  {
   "cell_type": "code",
   "execution_count": 36,
   "id": "fda9f14c",
   "metadata": {},
   "outputs": [
    {
     "name": "stdout",
     "output_type": "stream",
     "text": [
      "[[1 2 3]\n",
      " [4 5 6]]\n",
      "[[ 7  8  9]\n",
      " [10 11 12]]\n"
     ]
    }
   ],
   "source": [
    "# In a 3D array it will go through all the 2D arrays\n",
    "# Iterate on element of the following 3D arrays\n",
    "import numpy as np\n",
    "arr=np.array([[[1,2,3],[4,5,6]],[[7,8,9],[10,11,12]]]) # 3D Nmppy Array\n",
    "for x in arr: # with help of for loop it will go through all the 2D arrays\n",
    "    print(x) \n",
    "# result is 2D\n"
   ]
  },
  {
   "cell_type": "code",
   "execution_count": 37,
   "id": "d7b187c9",
   "metadata": {},
   "outputs": [
    {
     "name": "stdout",
     "output_type": "stream",
     "text": [
      "1\n",
      "2\n",
      "3\n",
      "4\n",
      "5\n",
      "6\n",
      "7\n",
      "8\n",
      "9\n",
      "10\n",
      "11\n",
      "12\n"
     ]
    }
   ],
   "source": [
    "# return the actual values,scalars, we have to iterate the arrays in each dimension\n",
    "# we have to iterate the arrays in each dimensions\n",
    "# iterate down to the scalars\n",
    "# we ue 3 loops because we are working on 3D arrays\n",
    "# Nested loops\n",
    "import numpy as np\n",
    "arr=np.array([[[1,2,3],[4,5,6]],[[7,8,9],[10,11,12]]]) # 3D Nmppy Array\n",
    "for x in arr: # outer dimension ,3-D represent\n",
    "    for y in x: # inside of the outer dimension , 2-D represent \n",
    "        for z in y: # inside of the outer to the outer dimension , 1-D represent\n",
    "            print(z) # printing values in dimensions\n",
    "# it will print the scalars "
   ]
  },
  {
   "cell_type": "markdown",
   "id": "96bf243e",
   "metadata": {},
   "source": [
    "# Iterating  Arrays using nditer( )"
   ]
  },
  {
   "cell_type": "code",
   "execution_count": 38,
   "id": "9ec192af",
   "metadata": {},
   "outputs": [],
   "source": [
    "# We realized on previous code when dimension increases we have to use more and more foor loops so we have a builton func\n",
    "# for 3D arrays we require 3 for loops\n",
    "# for nD arrays we require n for loops so it is tideous\n",
    "# we will use builton func nditer()"
   ]
  },
  {
   "cell_type": "code",
   "execution_count": 39,
   "id": "d56f359f",
   "metadata": {},
   "outputs": [
    {
     "name": "stdout",
     "output_type": "stream",
     "text": [
      "1\n",
      "2\n",
      "3\n",
      "4\n",
      "5\n",
      "6\n",
      "7\n",
      "8\n"
     ]
    }
   ],
   "source": [
    "# no nested loop require here\n",
    "import numpy as np\n",
    "arr=np.array([[[1,2],[3,4]],[[5,6],[7,8]]])\n",
    "for x in np.nditer(arr): # arr as argument to this func\n",
    "    print(x)"
   ]
  },
  {
   "cell_type": "markdown",
   "id": "57ac053b",
   "metadata": {},
   "source": [
    "# Iterating Array with Different Data Types"
   ]
  },
  {
   "cell_type": "code",
   "execution_count": 40,
   "id": "adffc278",
   "metadata": {},
   "outputs": [],
   "source": [
    "# if we have data type i.e integer float if we want to change it data type we use op_dtypes arguments\n",
    "# Numpy doesnot change the data type of element in-place \n",
    "# it need some extra space to perform action ,that extra space called buffer\n",
    "# in order to enable it nditer() we pass flags = ['buffered']"
   ]
  },
  {
   "cell_type": "code",
   "execution_count": 41,
   "id": "9a9d7881",
   "metadata": {},
   "outputs": [
    {
     "name": "stdout",
     "output_type": "stream",
     "text": [
      "b'1'\n",
      "b'2'\n",
      "b'3'\n"
     ]
    }
   ],
   "source": [
    "# Iterate through the array as string \n",
    "import numpy as np\n",
    "arr=np.array([1,2,3])\n",
    "for x in np.nditer(arr,flags=['buffered'],op_dtypes=['S']): # ,flags = ['buffered'] we want to change datattype of \n",
    "                                                           # array element but we can't do here at same position\n",
    "                                                           # op_dtype=['S'] it will convert into strings\n",
    "     print(x)"
   ]
  },
  {
   "cell_type": "code",
   "execution_count": 42,
   "id": "0ea33e55",
   "metadata": {},
   "outputs": [
    {
     "name": "stdout",
     "output_type": "stream",
     "text": [
      "1\n",
      "3\n",
      "5\n",
      "7\n"
     ]
    }
   ],
   "source": [
    "# iterate with different step size (with some slots we want to perform iteration and print values)\n",
    "# Iterate through every scalar element of 2D array skipping (1 element)\n",
    "import numpy as np\n",
    "arr=np.array([[1,2,3,4],[5,6,7,8]]) # 2D array\n",
    "for x in np.nditer(arr[:,::2]): # 2 reprent space of 2 mean step size of 1 , (: L.H.S represent that we need to take all rows\n",
    "                                    #under consederation)\n",
    "    print(x)\n",
    "    "
   ]
  },
  {
   "cell_type": "code",
   "execution_count": 43,
   "id": "c52d10b8",
   "metadata": {},
   "outputs": [
    {
     "name": "stdout",
     "output_type": "stream",
     "text": [
      "1\n",
      "4\n",
      "5\n",
      "8\n"
     ]
    }
   ],
   "source": [
    "import numpy as np\n",
    "arr=np.array([[1,2,3,4],[5,6,7,8]]) # 2D array\n",
    "for x in np.nditer(arr[:,::3]): # print with space 3 and stepsize 2\n",
    "    print(x)"
   ]
  },
  {
   "cell_type": "code",
   "execution_count": 44,
   "id": "f474dae4",
   "metadata": {},
   "outputs": [
    {
     "name": "stdout",
     "output_type": "stream",
     "text": [
      "1\n",
      "2\n",
      "3\n",
      "4\n",
      "5\n",
      "6\n",
      "7\n",
      "8\n"
     ]
    }
   ],
   "source": [
    "import numpy as np\n",
    "arr=np.array([[1,2,3,4],[5,6,7,8]]) # 2D array\n",
    "for x in np.nditer(arr[:,::1]): # print all v alue with no stepsize\n",
    "    print(x)"
   ]
  },
  {
   "cell_type": "code",
   "execution_count": 45,
   "id": "6cccec18",
   "metadata": {},
   "outputs": [
    {
     "name": "stdout",
     "output_type": "stream",
     "text": [
      "5\n",
      "7\n"
     ]
    }
   ],
   "source": [
    "import numpy as np\n",
    "arr=np.array([[1,2,3,4],[5,6,7,8]]) # 2D array\n",
    "for x in np.nditer(arr[1:,::2]): # it will take 1row not 0row and print value with stepsize 1\n",
    "    print(x)"
   ]
  },
  {
   "cell_type": "markdown",
   "id": "7c16564f",
   "metadata": {},
   "source": [
    "# Enumerated Iteration using ndenumerate( )"
   ]
  },
  {
   "cell_type": "code",
   "execution_count": 46,
   "id": "898cbc6b",
   "metadata": {},
   "outputs": [],
   "source": [
    "# SOmetime we require corresponding index of the element  while iterating the ndnumerate() method\n",
    "# can be used for those use cases"
   ]
  },
  {
   "cell_type": "code",
   "execution_count": 47,
   "id": "a8fa5faa",
   "metadata": {},
   "outputs": [
    {
     "name": "stdout",
     "output_type": "stream",
     "text": [
      "(0,) 1\n",
      "(1,) 2\n",
      "(2,) 3\n"
     ]
    }
   ],
   "source": [
    "# Enumerate on following 1_D arrays Elements\n",
    "import numpy as np\n",
    "arr=np.array([1,2,3])\n",
    "for idx,x in np.ndenumerate(arr): # idx represent index value position for of every element in array perform\n",
    "                                   # enumeration then print index value(position value) and element both\n",
    "    print(idx,x) # idx represent index value position for"
   ]
  },
  {
   "cell_type": "code",
   "execution_count": 48,
   "id": "ce917b42",
   "metadata": {},
   "outputs": [
    {
     "name": "stdout",
     "output_type": "stream",
     "text": [
      "(0, 0) 1\n",
      "(0, 1) 2\n",
      "(0, 2) 3\n",
      "(0, 3) 4\n",
      "(1, 0) 5\n",
      "(1, 1) 6\n",
      "(1, 2) 7\n",
      "(1, 3) 8\n"
     ]
    }
   ],
   "source": [
    "# for 2D\n",
    "import numpy as np\n",
    "arr=np.array([[1,2,3,4],[5,6,7,8]])\n",
    "for idx,x in np.ndenumerate(arr): # idx represent index value position for of every element in array perform\n",
    "                                    #  enumeration then print index value(position value) and element both       \n",
    "              print(idx,x)             "
   ]
  },
  {
   "cell_type": "code",
   "execution_count": 49,
   "id": "a0d3734f",
   "metadata": {},
   "outputs": [
    {
     "name": "stdout",
     "output_type": "stream",
     "text": [
      "(0, 0, 0) 1\n",
      "(0, 0, 1) 2\n",
      "(0, 0, 2) 3\n"
     ]
    }
   ],
   "source": [
    "# for 3D\n",
    "import numpy as np\n",
    "arr=np.array([[[1,2,3]]])\n",
    "for idx,x in np.ndenumerate(arr): # idx represent index value position for of every element in array perform\n",
    "                                    #  enumeration then print index value(position value) and element both       \n",
    "              print(idx,x)"
   ]
  },
  {
   "cell_type": "code",
   "execution_count": null,
   "id": "a2e15640",
   "metadata": {},
   "outputs": [],
   "source": []
  },
  {
   "cell_type": "code",
   "execution_count": null,
   "id": "227135d6",
   "metadata": {},
   "outputs": [],
   "source": []
  }
 ],
 "metadata": {
  "kernelspec": {
   "display_name": "Python 3 (ipykernel)",
   "language": "python",
   "name": "python3"
  },
  "language_info": {
   "codemirror_mode": {
    "name": "ipython",
    "version": 3
   },
   "file_extension": ".py",
   "mimetype": "text/x-python",
   "name": "python",
   "nbconvert_exporter": "python",
   "pygments_lexer": "ipython3",
   "version": "3.7.0"
  }
 },
 "nbformat": 4,
 "nbformat_minor": 5
}
