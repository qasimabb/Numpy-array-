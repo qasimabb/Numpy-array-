{
 "cells": [
  {
   "cell_type": "markdown",
   "id": "7e23109a",
   "metadata": {},
   "source": [
    "# Copying by Reference(Assign Numpy array)"
   ]
  },
  {
   "cell_type": "code",
   "execution_count": 1,
   "id": "d73ab2d8",
   "metadata": {},
   "outputs": [
    {
     "name": "stdout",
     "output_type": "stream",
     "text": [
      "The value of array1 is\n",
      "[list([1, 2, 3, 4]) list([4, 5, 6])]\n"
     ]
    },
    {
     "name": "stderr",
     "output_type": "stream",
     "text": [
      "e:\\new folder\\lib\\site-packages\\ipykernel_launcher.py:3: VisibleDeprecationWarning: Creating an ndarray from ragged nested sequences (which is a list-or-tuple of lists-or-tuples-or ndarrays with different lengths or shapes) is deprecated. If you meant to do this, you must specify 'dtype=object' when creating the ndarray.\n",
      "  This is separate from the ipykernel package so we can avoid doing imports until\n"
     ]
    }
   ],
   "source": [
    "import numpy as np\n",
    "list = [[1,2,3,4],[4,5,6]]# 2D array\n",
    "array1=np.array(list)\n",
    "print('The value of array1 is')\n",
    "print(array1)"
   ]
  },
  {
   "cell_type": "code",
   "execution_count": null,
   "id": "ba5ba3b5",
   "metadata": {},
   "outputs": [],
   "source": [
    "#Value of array1 is assign to value of array 2"
   ]
  },
  {
   "cell_type": "code",
   "execution_count": 5,
   "id": "a22b202a",
   "metadata": {},
   "outputs": [
    {
     "name": "stdout",
     "output_type": "stream",
     "text": [
      "The value of array is:\n",
      "[[1 2 3]\n",
      " [4 5 6]]\n",
      "The value of array 2 is:\n",
      "[[1 2 3]\n",
      " [4 5 6]]\n"
     ]
    }
   ],
   "source": [
    "import numpy as np\n",
    "list=[[1,2,3],[4,5,6]]\n",
    "array1=np.array(list)\n",
    "print(\"The value of array is:\")\n",
    "print(array1)\n",
    "array2=array1 # Assign array1 to array2\n",
    "print(\"The value of array 2 is:\")\n",
    "print(array2)"
   ]
  },
  {
   "cell_type": "code",
   "execution_count": null,
   "id": "daa8b826",
   "metadata": {},
   "outputs": [],
   "source": [
    "# Update the array\"s by changing the 0index"
   ]
  },
  {
   "cell_type": "code",
   "execution_count": 8,
   "id": "c64d8846",
   "metadata": {
    "collapsed": true
   },
   "outputs": [
    {
     "name": "stdout",
     "output_type": "stream",
     "text": [
      "The value of array is :\n",
      "[[1 2 3]\n",
      " [4 5 6]]\n",
      "the value of array2 is:\n",
      "[[1 2 3]\n",
      " [4 5 6]]\n",
      "The updated array2 is:\n",
      "[[11  2  3]\n",
      " [ 4  5  6]]\n",
      "The updated array1 is:\n",
      "[[11  2  3]\n",
      " [ 4  5  6]]\n"
     ]
    }
   ],
   "source": [
    "import numpy as np\n",
    "list=[[1,2,3],[4,5,6]]\n",
    "array1=np.array(list)\n",
    "print(\"The value of array is :\")\n",
    "print(array1)\n",
    "array2=array1 # Assign array1 to array2\n",
    "print(\"the value of array2 is:\")\n",
    "print(array2)\n",
    "array2[0][0]=11 # change  the value of index 0  in an array2 ,also change will occur in array1\n",
    "print(\"The updated array2 is:\")\n",
    "print(array2)\n",
    "print(\"The updated array1 is:\")\n",
    "print(array1)\n"
   ]
  },
  {
   "cell_type": "code",
   "execution_count": 10,
   "id": "c7a60495",
   "metadata": {},
   "outputs": [],
   "source": [
    "#Reshaping Arrays using reshape( )function\n",
    "# it has property we can change dimension of an array like we can change an array of rank2 to array of rank1"
   ]
  },
  {
   "cell_type": "code",
   "execution_count": 12,
   "id": "5b1d2d35",
   "metadata": {},
   "outputs": [
    {
     "name": "stdout",
     "output_type": "stream",
     "text": [
      "The value of array1 is:\n",
      "[[11  2  3  4  5  6]]\n",
      "The value of array2 is:\n",
      "[[11  2  3  4  5  6]]\n",
      "The updated value of array1 is:\n",
      "[[11  2  3  4  5  6]]\n",
      "The updated value of array2 is:\n",
      "[[11  2  3  4  5  6]]\n"
     ]
    }
   ],
   "source": [
    "import numpy as np\n",
    "list=[[1,2,3],[4,5,6]]\n",
    "array = np.array(list)\n",
    "print(\"The value of array1 is:\")\n",
    "print(array1)\n",
    "array2=array1\n",
    "print(\"The value of array2 is:\")\n",
    "print(array2)\n",
    "#shape is property can change dimension of array\n",
    "#(1 means that our arrays is of 2D we will change it in 1D \n",
    "#and -1 means it's allows to system to choose how manycolumns the output will have conversion of dimension)\n",
    "array1.shape=1,-1 \n",
    "print(\"The updated value of array1 is:\")\n",
    "print(array1)# rank1 array\n",
    "print(\"The updated value of array2 is:\")\n",
    "print(array2)#rank1 array"
   ]
  },
  {
   "cell_type": "markdown",
   "id": "6fc6dcb4",
   "metadata": {},
   "source": [
    "# Copying by view(Shallow Copy)"
   ]
  },
  {
   "cell_type": "code",
   "execution_count": 14,
   "id": "413dec85",
   "metadata": {},
   "outputs": [],
   "source": [
    "# Another Method to assign an array in Numpy\n",
    "# use view() function use to create a copy of an array by reference \n",
    "# sametime changing shape of original array doesnot affect shape of copy"
   ]
  },
  {
   "cell_type": "code",
   "execution_count": 15,
   "id": "36ca010f",
   "metadata": {},
   "outputs": [
    {
     "name": "stdout",
     "output_type": "stream",
     "text": [
      "The value of array1 is\n",
      "[[1 2 3]\n",
      " [4 5 6]]\n",
      "The value of array2 is:\n",
      "[[1 2 3]\n",
      " [4 5 6]]\n"
     ]
    }
   ],
   "source": [
    "import numpy as np\n",
    "list=[[1,2,3],[4,5,6]]\n",
    "array1=np.array(list)\n",
    "print(\"The value of array1 is\")\n",
    "print(array1)\n",
    "array2=array1.view() # we assign array in different manner\n",
    "                    #we are performing shallow copy of an array 1 in the form of array2 \n",
    "print(\"The value of array2 is:\")\n",
    "print(array2)\n"
   ]
  },
  {
   "cell_type": "code",
   "execution_count": null,
   "id": "45eefa19",
   "metadata": {},
   "outputs": [],
   "source": [
    "# modify a value in array1 and we will see the change in array2 \n",
    "# in shallow copy view() if we change the shape of array 1 it will not affected array2"
   ]
  },
  {
   "cell_type": "code",
   "execution_count": 18,
   "id": "ca83f621",
   "metadata": {},
   "outputs": [
    {
     "name": "stdout",
     "output_type": "stream",
     "text": [
      "The value of array1 is:\n",
      "[[1 2 3]\n",
      " [4 5 6]]\n",
      "The value of array2 is:\n",
      "[[1 2 3]\n",
      " [4 5 6]]\n",
      "The updated value of array is:\n",
      "[[11  2  3]\n",
      " [ 4  5  6]]\n",
      "The updated value of array2 is:\n",
      "[[11  2  3]\n",
      " [ 4  5  6]]\n"
     ]
    }
   ],
   "source": [
    "import numpy as np\n",
    "list=[[1,2,3],[4,5,6]]\n",
    "array1=np.array(list)\n",
    "print(\"The value of array1 is:\")\n",
    "print(array1)\n",
    "array2=array1.view()# creating its shallow copy\n",
    "print(\"The value of array2 is:\")\n",
    "print(array2)\n",
    "array1[0][0]=11 # position element(# Chane here in array 1 and we did update a value of array1(0,0)position=11)\n",
    "print(\"The updated value of array is:\")\n",
    "print(array1)\n",
    "print(\"The updated value of array2 is:\")\n",
    "print(array2)\n"
   ]
  },
  {
   "cell_type": "code",
   "execution_count": 21,
   "id": "394c0ccd",
   "metadata": {},
   "outputs": [
    {
     "name": "stdout",
     "output_type": "stream",
     "text": [
      "The value of array1 is:\n",
      "[[1 2 3]\n",
      " [4 5 6]]\n",
      "The value of array2 is:\n",
      "[[1 2 3]\n",
      " [4 5 6]]\n",
      "The updated value of array is:\n",
      "[[1 2 3 4 5 6]]\n",
      "The updated value of array2 is:\n",
      "[[1 2 3]\n",
      " [4 5 6]]\n"
     ]
    }
   ],
   "source": [
    "import numpy as np\n",
    "list=[[1,2,3],[4,5,6]]\n",
    "array1=np.array(list)\n",
    "print(\"The value of array1 is:\")\n",
    "print(array1)\n",
    "array2=array1.view()# shallow copy of array1 in the form of array2)\n",
    "                    #( shallow copy not affect in array2 so array2 same if we update array1\n",
    "print(\"The value of array2 is:\")\n",
    "print(array2)\n",
    "array1.shape=1,-1 \n",
    "\n",
    "#shape is property can change dimension of array\n",
    "#(1 means that our arrays is of 2D we will change it in 1D \n",
    "#and -1 means it's allows to system to choose how manycolumns the output will have conversion of dimension)\n",
    "print(\"The updated value of array is:\")\n",
    "print(array1)\n",
    "print(\"The updated value of array2 is:\")\n",
    "print(array2)\n"
   ]
  },
  {
   "cell_type": "markdown",
   "id": "221e9589",
   "metadata": {},
   "source": [
    "# Copying by value(Deep Copying)"
   ]
  },
  {
   "cell_type": "code",
   "execution_count": 22,
   "id": "cf6d65e9",
   "metadata": {},
   "outputs": [
    {
     "name": "stdout",
     "output_type": "stream",
     "text": [
      "The value of array1 is:\n",
      "[[1 2 3 4]\n",
      " [5 6 7 8]]\n",
      "The value of array2 is:\n",
      "[[1 2 3 4]\n",
      " [5 6 7 8]]\n"
     ]
    }
   ],
   "source": [
    "import numpy as np\n",
    "list=[[1,2,3,4],[5,6,7,8]]\n",
    "array1=np.array(list)\n",
    "array2=array1.copy() # deep copy of array1 inform of array2 (Copy function do copy)\n",
    "print(\"The value of array1 is:\")\n",
    "print(array1)\n",
    "print(\"The value of array2 is:\")\n",
    "print(array2)\n"
   ]
  },
  {
   "cell_type": "code",
   "execution_count": 23,
   "id": "94650c3c",
   "metadata": {},
   "outputs": [
    {
     "name": "stdout",
     "output_type": "stream",
     "text": [
      "The value of array1 is:\n",
      "[[1 2 3]\n",
      " [4 5 6]]\n",
      "The value of array2 is:\n",
      "[[1 2 3]\n",
      " [4 5 6]]\n",
      "The updated value of array is:\n",
      "[[11  2  3]\n",
      " [ 4  5  6]]\n",
      "The updated value of array2 is:\n",
      "[[1 2 3]\n",
      " [4 5 6]]\n"
     ]
    }
   ],
   "source": [
    "import numpy as np\n",
    "list=[[1,2,3],[4,5,6]]\n",
    "array1=np.array(list)\n",
    "print(\"The value of array1 is:\")\n",
    "print(array1)\n",
    "array2=array1.copy()# deep copy of array1 inform of array2\n",
    "print(\"The value of array2 is:\")\n",
    "print(array2)\n",
    "array1[0][0]=11 # position element(# Chane here in array 1 and we did update a value of array1(0,0)position=11)\n",
    "print(\"The updated value of array is:\")\n",
    "print(array1)\n",
    "print(\"The updated value of array2 is:\")\n",
    "print(array2)\n",
    "#Note array2 is completely different copy of array1 so changes in array1 donot affect array2"
   ]
  },
  {
   "cell_type": "code",
   "execution_count": 24,
   "id": "c3f515b2",
   "metadata": {},
   "outputs": [
    {
     "name": "stdout",
     "output_type": "stream",
     "text": [
      "The value of array1 is:\n",
      "[[1 2 3]\n",
      " [4 5 6]]\n",
      "The value of array2 is:\n",
      "[[1 2 3]\n",
      " [4 5 6]]\n",
      "The updated value of array is:\n",
      "[[1 2 3 4 5 6]]\n",
      "The updated value of array2 is:\n",
      "[[1 2 3]\n",
      " [4 5 6]]\n"
     ]
    }
   ],
   "source": [
    "import numpy as np\n",
    "list=[[1,2,3],[4,5,6]]\n",
    "array1=np.array(list)\n",
    "print(\"The value of array1 is:\")\n",
    "print(array1)\n",
    "array2=array1.copy()\n",
    "print(\"The value of array2 is:\")\n",
    "print(array2)\n",
    "array1.shape=1,-1 \n",
    "#shape is property can change dimension of array\n",
    "#(1 means that our arrays is of 2D we will change it in 1D \n",
    "#and -1 means it's allows to system to choose how manycolumns the output will have conversion of dimension)\n",
    "print(\"The updated value of array is:\")\n",
    "print(array1)\n",
    "print(\"The updated value of array2 is:\")\n",
    "print(array2)\n",
    "#Note array2 is completely different copy of array1 so changes in array1 donot affect array2\n",
    "# no matter if we change shape then also no affect on array2"
   ]
  },
  {
   "cell_type": "code",
   "execution_count": null,
   "id": "f6061438",
   "metadata": {},
   "outputs": [],
   "source": []
  }
 ],
 "metadata": {
  "kernelspec": {
   "display_name": "Python 3 (ipykernel)",
   "language": "python",
   "name": "python3"
  },
  "language_info": {
   "codemirror_mode": {
    "name": "ipython",
    "version": 3
   },
   "file_extension": ".py",
   "mimetype": "text/x-python",
   "name": "python",
   "nbconvert_exporter": "python",
   "pygments_lexer": "ipython3",
   "version": "3.7.0"
  }
 },
 "nbformat": 4,
 "nbformat_minor": 5
}
