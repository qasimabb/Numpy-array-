{
 "cells": [
  {
   "cell_type": "markdown",
   "id": "879b71b3",
   "metadata": {},
   "source": [
    "# Searching Arrays"
   ]
  },
  {
   "cell_type": "code",
   "execution_count": 1,
   "id": "749cc534",
   "metadata": {},
   "outputs": [],
   "source": [
    "# if any value is present in an array we will get the index where it is present\n",
    "# use where() function"
   ]
  },
  {
   "cell_type": "code",
   "execution_count": 3,
   "id": "81af01e7",
   "metadata": {},
   "outputs": [
    {
     "name": "stdout",
     "output_type": "stream",
     "text": [
      "(array([3, 5, 6], dtype=int64),)\n"
     ]
    }
   ],
   "source": [
    "#Find the indexes where the value is 4\n",
    "import numpy as np\n",
    "arr=np.array([1,2,3,4,5,4,4]) # where value 4 is present\n",
    "x=np.where(arr==4) # search for value 4 by where method and we are giving arr as argument\n",
    "print(x)"
   ]
  },
  {
   "cell_type": "code",
   "execution_count": 5,
   "id": "248ab1ed",
   "metadata": {},
   "outputs": [
    {
     "name": "stdout",
     "output_type": "stream",
     "text": [
      "(array([1, 3, 5, 7], dtype=int64),)\n"
     ]
    }
   ],
   "source": [
    "# Find the indexes where the values are even\n",
    "import numpy as np\n",
    "arr=np.array([1,2,3,4,5,6,7,8])\n",
    "x=np.where(arr%2==0) # code for reminder =0\n",
    "print(x) # will print index value of even no"
   ]
  },
  {
   "cell_type": "code",
   "execution_count": 6,
   "id": "23888cb4",
   "metadata": {},
   "outputs": [
    {
     "name": "stdout",
     "output_type": "stream",
     "text": [
      "(array([0, 2, 4, 6], dtype=int64),)\n"
     ]
    }
   ],
   "source": [
    "# Find the indexes where the values are odd\n",
    "import numpy as np\n",
    "arr=np.array([1,2,3,4,5,6,7,8])\n",
    "x=np.where(arr%2==1) # code for reminder =1 not zero\n",
    "print(x) # will print index value of odd no"
   ]
  },
  {
   "cell_type": "markdown",
   "id": "f6d37ffb",
   "metadata": {},
   "source": [
    "# Search Sorted"
   ]
  },
  {
   "cell_type": "code",
   "execution_count": 1,
   "id": "5aebf68a",
   "metadata": {},
   "outputs": [],
   "source": [
    "# it perform binary search in an array\n",
    "#  suppose we have array of 8 element then binary search look for middle index value  element first and number which we want\n",
    "# to search it compares it with the middle elements\n",
    "#) = we have return this value\n",
    "#) if is less then the value present at the middle then it apply same process toward left of the middle element\n",
    "#) if is greater then the value present at the middle then it apply same process toward right of the middle element"
   ]
  },
  {
   "cell_type": "code",
   "execution_count": 3,
   "id": "e9b5c250",
   "metadata": {},
   "outputs": [
    {
     "name": "stdout",
     "output_type": "stream",
     "text": [
      "1\n"
     ]
    }
   ],
   "source": [
    "import numpy as np\n",
    "arr=np.array([6,7,8,9])\n",
    "x=np.searchsorted(arr,7) # searchsorted() first internal sorted will be done then it serach for element 7 \n",
    "                        # 7 is place on index 1 also by sort it is place at index 1\n",
    "print(x)# it will print index which is 1"
   ]
  },
  {
   "cell_type": "markdown",
   "id": "c917f2b5",
   "metadata": {},
   "source": [
    "# Search from the left Side"
   ]
  },
  {
   "cell_type": "code",
   "execution_count": 4,
   "id": "71effb2a",
   "metadata": {},
   "outputs": [],
   "source": [
    "# The previous Code is the example of search from the left side\n",
    "# by default it will search from the left side but we can start it from the right side as well"
   ]
  },
  {
   "cell_type": "markdown",
   "id": "d10e85f8",
   "metadata": {},
   "source": [
    "# Search from the Right Side"
   ]
  },
  {
   "cell_type": "code",
   "execution_count": 6,
   "id": "5edd02da",
   "metadata": {},
   "outputs": [
    {
     "name": "stdout",
     "output_type": "stream",
     "text": [
      "2\n"
     ]
    }
   ],
   "source": [
    "import numpy as np\n",
    "arr=np.array([6,7,8,9])\n",
    "x=np.searchsorted(arr,7,side='right') # bydefault it was left but we want to ge index value from the right \n",
    "print(x)# index position from the right"
   ]
  },
  {
   "cell_type": "markdown",
   "id": "6ea21c0f",
   "metadata": {},
   "source": [
    "# Multi values"
   ]
  },
  {
   "cell_type": "code",
   "execution_count": 7,
   "id": "c81738ef",
   "metadata": {},
   "outputs": [],
   "source": [
    "# to search more than one value we can use the array with the specified value"
   ]
  },
  {
   "cell_type": "code",
   "execution_count": 9,
   "id": "a0acfd60",
   "metadata": {},
   "outputs": [
    {
     "name": "stdout",
     "output_type": "stream",
     "text": [
      "[1 2 3]\n"
     ]
    }
   ],
   "source": [
    "# find the indexes where the values 2,4 and 6 should be inserted\n",
    "# we are inserted element one by one\n",
    "import numpy as np\n",
    "arr=np.array([1,3,5,7])\n",
    "x=np.searchsorted(arr,[2,4,6]) # 2,4,6 this element need to insert, 2 will be place on 1 index, if we talk about 4 \n",
    "                                                    # it index should be 2 after 1 and 3 ,if we talk about 6,it will place\n",
    "                                                    # after 5 so index would be 3 \n",
    "print(x) # it will print the index position  element 2,4,6 which were inserted to the array"
   ]
  },
  {
   "cell_type": "markdown",
   "id": "545f684a",
   "metadata": {},
   "source": [
    "# Numpy filter array"
   ]
  },
  {
   "cell_type": "code",
   "execution_count": 10,
   "id": "7d564e5a",
   "metadata": {},
   "outputs": [],
   "source": [
    "# we want some element from existing array and we need to create a new array this is Called filtering\n",
    "# in NumPy  filtering array can be done with the help of the boolean index listing(True or False) Corresponding to the\n",
    " #indices to the array,if the value at the index is true i.e it is present and value of indices is true we will say element\n",
    "    # contain in the filter array and if is false then element is excluded it is not present"
   ]
  },
  {
   "cell_type": "code",
   "execution_count": 12,
   "id": "36deee57",
   "metadata": {},
   "outputs": [
    {
     "name": "stdout",
     "output_type": "stream",
     "text": [
      "[41 43]\n"
     ]
    }
   ],
   "source": [
    "# create an array from the element from the elements  on index 0 and 2\n",
    "import numpy as np\n",
    "arr=np.array([41,42,43,44]) # we need  array from 0 index and index 2 so at both index it is True else False\n",
    "x=[True,False,True,False] # boolean list\n",
    "newarr=arr[x] # True thing will exist that are filter arrays and false element will not print which will exclude\n",
    "print(newarr)"
   ]
  },
  {
   "cell_type": "markdown",
   "id": "df15ef3d",
   "metadata": {},
   "source": [
    "# Creating the Filter Array"
   ]
  },
  {
   "cell_type": "code",
   "execution_count": 13,
   "id": "da601d0f",
   "metadata": {},
   "outputs": [],
   "source": [
    "# we can use some condition instead of True False we did use previously"
   ]
  },
  {
   "cell_type": "code",
   "execution_count": 14,
   "id": "10431eea",
   "metadata": {},
   "outputs": [
    {
     "name": "stdout",
     "output_type": "stream",
     "text": [
      "[False, False, True, True]\n",
      "[43 44]\n"
     ]
    }
   ],
   "source": [
    "# create a filter array that will return only value higher than 42\n",
    "import numpy as np\n",
    "arr=np.array([41,42,43,44])\n",
    "filter_arr=[] # create empty list , we are filling up values here by boolean index values\n",
    "for element in arr: # element is variable present in array(arr)\n",
    "    if element> 42: # if its true we will append it position in empty list\n",
    "        filter_arr.append(True)\n",
    "    else: # if it not greater than 42 so we will append false\n",
    "        filter_arr.append(False)\n",
    "newarr=arr[filter_arr] # the position of filter_arr into an array arr will be assign to newarr\n",
    "print(filter_arr)\n",
    "print(newarr) # 43,44"
   ]
  },
  {
   "cell_type": "code",
   "execution_count": 19,
   "id": "0ba67de7",
   "metadata": {},
   "outputs": [
    {
     "name": "stdout",
     "output_type": "stream",
     "text": [
      "[False, True, False, True, False, True, False]\n",
      "[2 4 6]\n"
     ]
    }
   ],
   "source": [
    "# For an even number\n",
    "import numpy as np\n",
    "arr=np.array([1,2,3,4,5,6,7]) # 7 elements\n",
    "filter_arr=[]\n",
    "for element in arr: # element is variable present in array(arr)\n",
    "    if element% 2==0:\n",
    "        filter_arr.append(True)\n",
    "    else: \n",
    "        filter_arr.append(False)\n",
    "newarr=arr[filter_arr] # the position of filter_arr into an array arr will be assign to newarr\n",
    "print(filter_arr)\n",
    "print(newarr) # 43,44"
   ]
  },
  {
   "cell_type": "markdown",
   "id": "d3712c3e",
   "metadata": {},
   "source": [
    "# Creating Filter Directly From Array"
   ]
  },
  {
   "cell_type": "code",
   "execution_count": 20,
   "id": "7f36b1bf",
   "metadata": {},
   "outputs": [],
   "source": [
    "# we can use filter directory from an array because it is getting complicated we are using for loops also\n",
    "# we are using some conditions also so we have to use an easy method directly"
   ]
  },
  {
   "cell_type": "code",
   "execution_count": 21,
   "id": "bd0367df",
   "metadata": {},
   "outputs": [
    {
     "name": "stdout",
     "output_type": "stream",
     "text": [
      "[False False  True  True]\n",
      "[43 44]\n"
     ]
    }
   ],
   "source": [
    "import numpy as np\n",
    "arr=np.array([41,42,43,44])\n",
    "filter_arr=arr>42 # it will use true or false according to the input\n",
    "newarr=arr[filter_arr]  # the position of filter_arr into an array arr will be assign to newarr\n",
    "print(filter_arr)\n",
    "print(newarr)"
   ]
  },
  {
   "cell_type": "code",
   "execution_count": 22,
   "id": "96f56cce",
   "metadata": {},
   "outputs": [
    {
     "name": "stdout",
     "output_type": "stream",
     "text": [
      "[False  True False  True False  True False]\n",
      "[2 4 6]\n"
     ]
    }
   ],
   "source": [
    "# Create a filter array that will return only even elements from the original array\n",
    "import numpy as np\n",
    "arr=np.array([1,2,3,4,5,6,7])\n",
    "filter_arr=arr%2==0 # it will use true or false according to the input ,Check the condition\n",
    "newarr=arr[filter_arr]  # the position of filter_arr into an array arr will be assign to newarr\n",
    "print(filter_arr)\n",
    "print(newarr)"
   ]
  },
  {
   "cell_type": "code",
   "execution_count": null,
   "id": "7f4d0e81",
   "metadata": {},
   "outputs": [],
   "source": []
  }
 ],
 "metadata": {
  "kernelspec": {
   "display_name": "Python 3 (ipykernel)",
   "language": "python",
   "name": "python3"
  },
  "language_info": {
   "codemirror_mode": {
    "name": "ipython",
    "version": 3
   },
   "file_extension": ".py",
   "mimetype": "text/x-python",
   "name": "python",
   "nbconvert_exporter": "python",
   "pygments_lexer": "ipython3",
   "version": "3.7.0"
  }
 },
 "nbformat": 4,
 "nbformat_minor": 5
}
