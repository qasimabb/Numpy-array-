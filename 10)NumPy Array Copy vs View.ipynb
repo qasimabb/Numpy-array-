{
 "cells": [
  {
   "cell_type": "code",
   "execution_count": 56,
   "id": "fee366f9",
   "metadata": {},
   "outputs": [],
   "source": [
    "# difference between Copy and view"
   ]
  },
  {
   "cell_type": "code",
   "execution_count": 57,
   "id": "7700717a",
   "metadata": {},
   "outputs": [],
   "source": [
    "#Copy create a new array(Deep Copy) \n",
    "# view is just a reflection of an array(Shallow copy)"
   ]
  },
  {
   "cell_type": "code",
   "execution_count": 58,
   "id": "db06ee8b",
   "metadata": {},
   "outputs": [],
   "source": [
    "#Change the original array and display both arrays"
   ]
  },
  {
   "cell_type": "markdown",
   "id": "ae681311",
   "metadata": {},
   "source": [
    "# Copy"
   ]
  },
  {
   "cell_type": "code",
   "execution_count": 5,
   "id": "4558efd2",
   "metadata": {},
   "outputs": [
    {
     "name": "stdout",
     "output_type": "stream",
     "text": [
      "[42  2  3  4  5]\n",
      "[1 2 3 4 5]\n"
     ]
    }
   ],
   "source": [
    "import numpy as np\n",
    "arr=np.array([1,2,3,4,5])\n",
    "arr1=arr.copy() # for creating copy(Deep Copy) , copy will not update by changing the index\n",
    "arr[0]=42 # change 0 index with 42\n",
    "print(arr)\n",
    "print(arr1)"
   ]
  },
  {
   "cell_type": "markdown",
   "id": "381bae8c",
   "metadata": {},
   "source": [
    "# View"
   ]
  },
  {
   "cell_type": "code",
   "execution_count": 7,
   "id": "be5faca3",
   "metadata": {},
   "outputs": [
    {
     "name": "stdout",
     "output_type": "stream",
     "text": [
      "[42  2  3  4  5]\n",
      "[42  2  3  4  5]\n"
     ]
    }
   ],
   "source": [
    "import numpy as np\n",
    "arr=np.array([1,2,3,4,5])\n",
    "arr1=arr.view() # a shallow copy when update occur in array then also it reflect into a shallow copy\n",
    "arr[0]=42 # change 0 index with 42\n",
    "print(arr)\n",
    "print(arr1)"
   ]
  },
  {
   "cell_type": "code",
   "execution_count": 8,
   "id": "f98b01cf",
   "metadata": {},
   "outputs": [],
   "source": [
    "# Make changes in a view example make a view ,change the view and display both arrays"
   ]
  },
  {
   "cell_type": "code",
   "execution_count": 9,
   "id": "785c30cd",
   "metadata": {},
   "outputs": [
    {
     "name": "stdout",
     "output_type": "stream",
     "text": [
      "[31  2  3  4  5]\n",
      "[31  2  3  4  5]\n"
     ]
    }
   ],
   "source": [
    "import numpy as np\n",
    "arr=np.array([1,2,3,4,5])\n",
    "arr1=arr.view() # for creating copy , copy will not update by changing the index\n",
    "arr1[0]=31 # we are updating value of copied array i.e=arr1[0]=31 \n",
    "#if the change the value of original array it will reflect to copy array\n",
    "#and print original array and copied array and if \n",
    "#we update value of inthe copied array it will reflect into original array\n",
    "print(arr)\n",
    "print(arr1)"
   ]
  },
  {
   "cell_type": "markdown",
   "id": "70041672",
   "metadata": {},
   "source": [
    "# Check if Array owns its data"
   ]
  },
  {
   "cell_type": "code",
   "execution_count": 10,
   "id": "c4a6e514",
   "metadata": {},
   "outputs": [],
   "source": [
    "# Copy own the data \n",
    "# view doesnot own the data\n",
    "# use base in numpy that return none if array own the data  otherwise it refer to original object"
   ]
  },
  {
   "cell_type": "code",
   "execution_count": 12,
   "id": "81aaa6b7",
   "metadata": {},
   "outputs": [
    {
     "name": "stdout",
     "output_type": "stream",
     "text": [
      "None\n",
      "[1 2 3 4 5]\n"
     ]
    }
   ],
   "source": [
    "import numpy as np\n",
    "arr=np.array([1,2,3,4,5])\n",
    "x=arr.copy() # Deep copy\n",
    "y=arr.view() # Shallow copy\n",
    "print(x.base) # Numpy attribute base\n",
    "print(y.base) # Numpy attribute base\n",
    "# if its true copy it will  not return anything and if it's not true it return something"
   ]
  },
  {
   "cell_type": "markdown",
   "id": "84fe0ee4",
   "metadata": {},
   "source": [
    "# Numpy Array Shapes"
   ]
  },
  {
   "cell_type": "code",
   "execution_count": 13,
   "id": "74438e35",
   "metadata": {},
   "outputs": [],
   "source": [
    "# The Shape of an array is no of element in each dimension\n",
    "# Shape= number of dimension in an array\n",
    "# Numpy attribute shape which return tuple with each index"
   ]
  },
  {
   "cell_type": "markdown",
   "id": "84f3b7bd",
   "metadata": {},
   "source": [
    "# Print shape of a 2D Array"
   ]
  },
  {
   "cell_type": "code",
   "execution_count": 15,
   "id": "ac1546a8",
   "metadata": {},
   "outputs": [
    {
     "name": "stdout",
     "output_type": "stream",
     "text": [
      "(2, 4)\n"
     ]
    }
   ],
   "source": [
    "import numpy as np\n",
    "arr=np.array([[1,2,3,4],[5,6,7,8]]) # 2D array\n",
    "print(arr.shape)\n",
    "# Shape contain as tuple(2,4 which mean we have 2 rows and each row consist of 4 elements\n"
   ]
  },
  {
   "cell_type": "code",
   "execution_count": 16,
   "id": "b3e916ed",
   "metadata": {},
   "outputs": [],
   "source": [
    "# we can make a 5D array using ndmin parameter using a vector with 1,2,3,4 and verify last dimension has value 4"
   ]
  },
  {
   "cell_type": "code",
   "execution_count": 23,
   "id": "bcee6bad",
   "metadata": {},
   "outputs": [
    {
     "name": "stdout",
     "output_type": "stream",
     "text": [
      "[[[[[1 2 3 4]]]]]\n",
      "shape of array: (1, 1, 1, 1, 4)\n"
     ]
    }
   ],
   "source": [
    "import numpy as np\n",
    "arr=np.array([1,2,3,4],ndmin=5) # covert thist list into an array of 5dimension\n",
    "print(arr)\n",
    "print('shape of array:',arr.shape)\n",
    "# 5dimension as like [[[[[]]]]] no of square matrix is 5\n",
    "# result of this code is [[[[[[1 2 3 4]]]]]] and shape(1,1,1,1,4)\n",
    "# watch from R.H.S 4 represent 4 element in 5D array result and with 1 reprent first square bracket and so on\n",
    "# (1,4) =[1,2,3,4] \n",
    "#(1,1,1)= representing outer dimension values \n",
    "# both will make shape(1,1,1,1,4)\n"
   ]
  },
  {
   "cell_type": "code",
   "execution_count": 24,
   "id": "8ef7e90c",
   "metadata": {},
   "outputs": [],
   "source": [
    "# by reshapin we can add or remove  dimension we can change number of element in each of dimension"
   ]
  },
  {
   "cell_type": "code",
   "execution_count": 25,
   "id": "f7ad416d",
   "metadata": {},
   "outputs": [],
   "source": [
    "# Convert 1D to 2D"
   ]
  },
  {
   "cell_type": "code",
   "execution_count": 30,
   "id": "c4063563",
   "metadata": {},
   "outputs": [
    {
     "name": "stdout",
     "output_type": "stream",
     "text": [
      "[[ 1  2  3]\n",
      " [ 4  5  6]\n",
      " [ 7  8  9]\n",
      " [10 11 12]]\n"
     ]
    }
   ],
   "source": [
    "import numpy as np\n",
    "arr=np.array([1,2,3,4,5,6,7,8,9,10,11,12])# 1D Array\n",
    "newarr=arr.reshape(4,3) # Covert 1D to 2D having(4,3) 4 rows and each row will contain of 3 three elements\n",
    "print(newarr)"
   ]
  },
  {
   "cell_type": "code",
   "execution_count": 31,
   "id": "cd5b6307",
   "metadata": {},
   "outputs": [],
   "source": [
    "# 1D to 3D"
   ]
  },
  {
   "cell_type": "code",
   "execution_count": 34,
   "id": "cb4294b1",
   "metadata": {},
   "outputs": [
    {
     "name": "stdout",
     "output_type": "stream",
     "text": [
      "[[[ 1  2]\n",
      "  [ 3  4]\n",
      "  [ 5  6]]\n",
      "\n",
      " [[ 7  8]\n",
      "  [ 9 10]\n",
      "  [11 12]]]\n"
     ]
    }
   ],
   "source": [
    "import numpy as np\n",
    "arr=np.array([1,2,3,4,5,6,7,8,9,10,11,12])# 1D Array\n",
    "newarr=arr.reshape(2,3,2) # Covert 1D to 3D having(2,3)  3 rows and each row will contain of 2 two elements and after that\n",
    "                        #(2,2,3) after 1 comment (2,3) now (2,2,3)it shows it will more convert into 3 rows with two elements\n",
    "                         #of remaing values of an array\n",
    "print(newarr)"
   ]
  },
  {
   "cell_type": "code",
   "execution_count": 35,
   "id": "93f6a209",
   "metadata": {},
   "outputs": [],
   "source": [
    "# Can we Reshape array into any shape?\n",
    "# if we take 8 element in 1D  array into 4 element in 2rows 2D array (possible)\n",
    "# but we cannot reshape the above statement into 3 elements ,3 rows for a 2D\n",
    "#because 3x3=9=mxn but we have 8 elements so not possible"
   ]
  },
  {
   "cell_type": "code",
   "execution_count": 37,
   "id": "6f116f90",
   "metadata": {},
   "outputs": [
    {
     "ename": "ValueError",
     "evalue": "cannot reshape array of size 8 into shape (3,3)",
     "output_type": "error",
     "traceback": [
      "\u001b[1;31m---------------------------------------------------------------------------\u001b[0m",
      "\u001b[1;31mValueError\u001b[0m                                Traceback (most recent call last)",
      "\u001b[1;32m~\\AppData\\Local\\Temp/ipykernel_13208/2012641759.py\u001b[0m in \u001b[0;36m<module>\u001b[1;34m\u001b[0m\n\u001b[0;32m      2\u001b[0m \u001b[1;32mimport\u001b[0m \u001b[0mnumpy\u001b[0m \u001b[1;32mas\u001b[0m \u001b[0mnp\u001b[0m\u001b[1;33m\u001b[0m\u001b[0m\n\u001b[0;32m      3\u001b[0m \u001b[0marr\u001b[0m\u001b[1;33m=\u001b[0m\u001b[0mnp\u001b[0m\u001b[1;33m.\u001b[0m\u001b[0marray\u001b[0m\u001b[1;33m(\u001b[0m\u001b[1;33m[\u001b[0m\u001b[1;36m1\u001b[0m\u001b[1;33m,\u001b[0m\u001b[1;36m2\u001b[0m\u001b[1;33m,\u001b[0m\u001b[1;36m3\u001b[0m\u001b[1;33m,\u001b[0m\u001b[1;36m4\u001b[0m\u001b[1;33m,\u001b[0m\u001b[1;36m5\u001b[0m\u001b[1;33m,\u001b[0m\u001b[1;36m6\u001b[0m\u001b[1;33m,\u001b[0m\u001b[1;36m7\u001b[0m\u001b[1;33m,\u001b[0m\u001b[1;36m8\u001b[0m\u001b[1;33m]\u001b[0m\u001b[1;33m)\u001b[0m \u001b[1;31m# 8 element available\u001b[0m\u001b[1;33m\u001b[0m\u001b[0m\n\u001b[1;32m----> 4\u001b[1;33m \u001b[0mnewarr\u001b[0m\u001b[1;33m=\u001b[0m\u001b[0marr\u001b[0m\u001b[1;33m.\u001b[0m\u001b[0mreshape\u001b[0m\u001b[1;33m(\u001b[0m\u001b[1;36m3\u001b[0m\u001b[1;33m,\u001b[0m\u001b[1;36m3\u001b[0m\u001b[1;33m)\u001b[0m \u001b[1;31m# 3x3=9\u001b[0m\u001b[1;33m\u001b[0m\u001b[0m\n\u001b[0m\u001b[0;32m      5\u001b[0m \u001b[0mprint\u001b[0m\u001b[1;33m(\u001b[0m\u001b[0mnewarr\u001b[0m\u001b[1;33m)\u001b[0m\u001b[1;33m\u001b[0m\u001b[0m\n",
      "\u001b[1;31mValueError\u001b[0m: cannot reshape array of size 8 into shape (3,3)"
     ]
    }
   ],
   "source": [
    "# Try converting 1D array with 8 elements to a 2D array with 3 elements in each dimension(will raise an error\n",
    "import numpy as np\n",
    "arr=np.array([1,2,3,4,5,6,7,8]) # 8 element available\n",
    "newarr=arr.reshape(3,3) # 3x3=9 \n",
    "print(newarr)"
   ]
  },
  {
   "cell_type": "code",
   "execution_count": 40,
   "id": "30a9e703",
   "metadata": {},
   "outputs": [
    {
     "name": "stdout",
     "output_type": "stream",
     "text": [
      "[[1 2]\n",
      " [3 4]]\n"
     ]
    }
   ],
   "source": [
    "# Try converting 1D array with 4 elements to a 2D array with 2 elements in each dimension\n",
    "import numpy as np\n",
    "arr=np.array([1,2,3,4]) # 4 element available\n",
    "newarr=arr.reshape(2,2) # 2x2=4 \n",
    "print(newarr)"
   ]
  },
  {
   "cell_type": "markdown",
   "id": "359a0caf",
   "metadata": {},
   "source": [
    "# Returns Copy or View"
   ]
  },
  {
   "cell_type": "code",
   "execution_count": 42,
   "id": "6d1e29f0",
   "metadata": {},
   "outputs": [
    {
     "name": "stdout",
     "output_type": "stream",
     "text": [
      "[1 2 3 4 5 6 7 8]\n"
     ]
    }
   ],
   "source": [
    "#check if the returned array is a copy or a view\n",
    "import numpy as np\n",
    "arr=np.array([1,2,3,4,5,6,7,8])\n",
    "print(arr.reshape(2,4).base) # 2x2=4 \n",
    "# since we get a complete array in a result so it is a view"
   ]
  },
  {
   "cell_type": "markdown",
   "id": "c069ea67",
   "metadata": {},
   "source": [
    "# Unknown Dimensions"
   ]
  },
  {
   "cell_type": "code",
   "execution_count": 43,
   "id": "a8dee0bf",
   "metadata": {},
   "outputs": [],
   "source": [
    "# when we use reshape we donot what would be dimension we  need to give so we use inplace of dimension use -1 and numpy\n",
    "#itself Calculated the no of dimension require for you"
   ]
  },
  {
   "cell_type": "code",
   "execution_count": 45,
   "id": "f95e19ad",
   "metadata": {},
   "outputs": [
    {
     "name": "stdout",
     "output_type": "stream",
     "text": [
      "[[[1 2]\n",
      "  [3 4]]\n",
      "\n",
      " [[5 6]\n",
      "  [7 8]]]\n"
     ]
    }
   ],
   "source": [
    "# Convert 1D array with 8 element to3D array with2x2 elements\n",
    "import numpy as np\n",
    "arr=np.array([1,2,3,4,5,6,7,8])\n",
    "newarr=arr.reshape(2,2,-1) # dimension we donot know that's why we use -1 numpy function\n",
    "print(newarr)\n",
    "#Note: we cannot pass-1 to more than one dimension"
   ]
  },
  {
   "cell_type": "markdown",
   "id": "b0dd9ede",
   "metadata": {},
   "source": [
    "# Flattening the Arrays"
   ]
  },
  {
   "cell_type": "code",
   "execution_count": 47,
   "id": "4ac17a8d",
   "metadata": {},
   "outputs": [],
   "source": [
    "# converting a multidimensional array into a 1D array(Flattening the Arrays)\n",
    "#we can use reshape(-1)to do this"
   ]
  },
  {
   "cell_type": "code",
   "execution_count": 55,
   "id": "dc0cd1b9",
   "metadata": {},
   "outputs": [
    {
     "name": "stdout",
     "output_type": "stream",
     "text": [
      "[[1 2 3]\n",
      " [4 5 6]]\n",
      "[1 2 3 4 5 6]\n"
     ]
    }
   ],
   "source": [
    "#Convert the array into a 1D arraimport \n",
    "import numpy as np\n",
    "arr=np.array([[1,2,3],[4,5,6]])\n",
    "print(arr) # Converting 2D array into 1D array\n",
    "newarr=arr.reshape(-1)\n",
    "print(newarr)"
   ]
  },
  {
   "cell_type": "code",
   "execution_count": null,
   "id": "f102535f",
   "metadata": {},
   "outputs": [],
   "source": []
  }
 ],
 "metadata": {
  "kernelspec": {
   "display_name": "Python 3 (ipykernel)",
   "language": "python",
   "name": "python3"
  },
  "language_info": {
   "codemirror_mode": {
    "name": "ipython",
    "version": 3
   },
   "file_extension": ".py",
   "mimetype": "text/x-python",
   "name": "python",
   "nbconvert_exporter": "python",
   "pygments_lexer": "ipython3",
   "version": "3.7.0"
  }
 },
 "nbformat": 4,
 "nbformat_minor": 5
}
